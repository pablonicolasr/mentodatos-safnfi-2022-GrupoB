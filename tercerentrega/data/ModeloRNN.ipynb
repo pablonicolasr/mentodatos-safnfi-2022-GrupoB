{
 "cells": [
  {
   "cell_type": "markdown",
   "metadata": {
    "id": "XCDQsqV1ZCQ-"
   },
   "source": [
    "# Lectura de dataset JSON"
   ]
  },
  {
   "cell_type": "code",
   "execution_count": 1,
   "metadata": {
    "id": "qIsBDPevZGjW"
   },
   "outputs": [],
   "source": [
    "def read_file(filename):\n",
    "  '''Read file .JSON and return a list of dictionaries'''\n",
    "  import json\n",
    "  # Opening JSON file\n",
    "  f = open(filename)\n",
    "  data = json.load(f)\n",
    "  # Closing file\n",
    "  f.close()\n",
    "  return data"
   ]
  },
  {
   "cell_type": "code",
   "execution_count": null,
   "metadata": {
    "id": "DE-B8CjIaDss"
   },
   "outputs": [],
   "source": [
    "data = read_file('Comment-2021-12-26.json')\n",
    "data"
   ]
  },
  {
   "cell_type": "code",
   "execution_count": null,
   "metadata": {
    "id": "ZZzmCH6kbkS1"
   },
   "outputs": [],
   "source": [
    "len(data)"
   ]
  },
  {
   "cell_type": "markdown",
   "metadata": {
    "id": "aygDxMmYtoUg"
   },
   "source": [
    "# Lectura dataset CSV"
   ]
  },
  {
   "cell_type": "code",
   "execution_count": null,
   "metadata": {
    "id": "oSez0xbatum_"
   },
   "outputs": [],
   "source": [
    "import numpy as np\n",
    "import pandas as pd\n",
    "# descargar dataset http://comment-face.herokuapp.com/\n",
    "df = pd.read_csv('Comments-2022-03-21.csv') \n",
    "data = df\n",
    "data"
   ]
  },
  {
   "cell_type": "markdown",
   "metadata": {
    "id": "JVa-XpYWahTk"
   },
   "source": [
    "# Preprocesamiento del Dataset"
   ]
  },
  {
   "cell_type": "code",
   "execution_count": null,
   "metadata": {
    "id": "inN6i0mdeLKU"
   },
   "outputs": [],
   "source": [
    "!pip install emoji==1.6.3"
   ]
  },
  {
   "cell_type": "code",
   "execution_count": null,
   "metadata": {
    "id": "bNbxNc2Dak8s"
   },
   "outputs": [],
   "source": [
    "import nltk\n",
    "nltk.download('stopwords')"
   ]
  },
  {
   "cell_type": "code",
   "execution_count": null,
   "metadata": {
    "id": "WeT710ziczQ8"
   },
   "outputs": [],
   "source": [
    "import functools\n",
    "import operator\n",
    "import re\n",
    "import emoji\n",
    "from string import punctuation\n",
    "from collections import Counter\n",
    "import numpy as np\n",
    "\n",
    "def pad_features(comments_ints, seq_length):\n",
    "    ''' Return features of comments_ints, where each comment is padded with 0's \n",
    "        or truncated to the input seq_length.\n",
    "    '''\n",
    "    # getting the correct rows x cols shape\n",
    "    features = np.zeros((len(comments_ints), seq_length), dtype=int)\n",
    "    for i, row in enumerate(comments_ints):\n",
    "        features[i, -len(row):] = np.array(row)[:seq_length]\n",
    "    return features\n",
    "\n",
    "\n",
    "def encoding_words(comment, vocab):\n",
    "  '''use the vocab to tokenize each the comment\n",
    "  Returns tokenized comment as comment_int'''\n",
    "  comments_ints = [vocab[word] if word in vocab.keys() else 0 for word in comment.split()]\n",
    "  return comments_ints\n",
    "\n",
    "def dictionary_int(text):\n",
    "  '''Build a dictionary that maps words to integers'''\n",
    "  words = text.split()\n",
    "  print(len(words))\n",
    "  counts = Counter(words) #the words and their counts are stored as dictionary values\n",
    "  print(counts, len(counts))\n",
    "  vocabulary = sorted(counts.keys()) #words ordered alphabetically\n",
    "  vocab_to_int = {word: ii for ii, word in enumerate(vocabulary, 1)}\n",
    "  return vocab_to_int\n",
    "\n",
    "def get_cleantext(text):\n",
    "  '''Get text(comment). Returns the clean text'''\n",
    "  text = text.lower() #lowercase, standardize\n",
    "  split_emoji = emoji.get_emoji_regexp().split(text)#separate emojis from text)\n",
    "  split_whitespace = [substr.split() for substr in split_emoji]#split emojis together\n",
    "  list_text = functools.reduce(operator.concat, split_whitespace)#delete withespace caused by emojis\n",
    "  new_list = []\n",
    "  p = re.compile(r'[a-z-áéíóúñ]+')#search only words\n",
    "  for word in list_text:\n",
    "    if not emoji.is_emoji(word):\n",
    "      word = ' '.join(p.findall(word)) #example  \"mensaje...con\" split = \"mensaje con\"\n",
    "      word = re.sub(r'([abdefghijkmopqsu-zÀ-ÿ])\\1{1,}', r'\\1', word)\n",
    "      if 'jaja' in word:\n",
    "        word = 'jaja'\n",
    "      if 'jeje' in word:\n",
    "        word = 'jeje'\n",
    "      if 'jiji' in word:\n",
    "        word = 'jiji'\n",
    "      #word = re.sub(r'([aceilnor])\\1{2,}', r'\\1', word)\n",
    "    new_list.append(word)\n",
    "  text = ' '.join(new_list)\n",
    "  return text\n",
    "\n",
    "def foo(data):\n",
    "  '''get list of dictionaries. Returns a list of numbers corresponding to the vocabulary'''\n",
    "  list_comment = [item.lower() for item in data['Comment']]\n",
    "  list_comment = [get_cleantext(comment) for comment in list_comment]\n",
    "  all_text = ' '.join(list_comment)\n",
    "  vocab = dictionary_int(all_text)\n",
    "  list_comment_ints = [encoding_words(comment,vocab) for comment in list_comment]\n",
    "  array_comments = pad_features(list_comment_ints, seq_length=70) #define length for comments\n",
    "  labels = np.array([1 if item == 'positive' else 0 for item in data['Sentiment']])\n",
    "  return array_comments, labels, vocab, list_comment_ints\n"
   ]
  },
  {
   "cell_type": "code",
   "execution_count": null,
   "metadata": {
    "id": "Ej8FOpgnZ_q6"
   },
   "outputs": [],
   "source": [
    "from string import punctuation\n",
    "print(punctuation)"
   ]
  },
  {
   "cell_type": "code",
   "execution_count": null,
   "metadata": {
    "id": "hMAzDhTKZHCN"
   },
   "outputs": [],
   "source": [
    "f = open(\"vocab.json\",\"w\")\n",
    "f.write( str(vocab) )\n",
    "f.close()"
   ]
  },
  {
   "cell_type": "code",
   "execution_count": null,
   "metadata": {
    "colab": {
     "base_uri": "https://localhost:8080/",
     "height": 35
    },
    "id": "Vw1TU0tnHu1N",
    "outputId": "8b9b6528-e522-4b18-8984-96a679d929ee"
   },
   "outputs": [
    {
     "data": {
      "application/vnd.google.colaboratory.intrinsic+json": {
       "type": "string"
      },
      "text/plain": [
       "'hola cómo estás  jaja jeje 😃 '"
      ]
     },
     "execution_count": 31,
     "metadata": {},
     "output_type": "execute_result"
    }
   ],
   "source": [
    "get_cleantext('holaaa CÓMO ESTÁS 222 jajajaajaja ejejej 😃!!..')"
   ]
  },
  {
   "cell_type": "code",
   "execution_count": null,
   "metadata": {
    "colab": {
     "base_uri": "https://localhost:8080/"
    },
    "id": "yQJwQZZfmyd_",
    "outputId": "c02933f3-8ba4-44a8-eb5b-0e581eb154d4"
   },
   "outputs": [
    {
     "name": "stdout",
     "output_type": "stream",
     "text": [
      "50284\n",
      "Counter({'que': 1899, 'de': 1584, 'y': 1467, 'la': 1336, 'a': 1313, 'los': 1057, 'no': 1046, 'el': 918, 'en': 746, 'se': 704, 'es': 601, 'para': 526, 'lo': 515, 'q': 504, 'un': 469, 'por': 456, 'con': 408, 'una': 359, 'las': 353, 'si': 308, 'todo': 258, 'como': 245, 'su': 230, 'son': 227, 'todos': 226, 'al': 218, 'le': 214, '👏': 206, 'más': 201, 'gente': 198, 'pero': 192, 'hay': 190, 'te': 189, 'me': 186, 'esta': 180, 'del': 174, 'bien': 167, 'ya': 161, 'ni': 151, 'nada': 148, 'les': 147, 'sus': 147, 'este': 142, 'muy': 141, 'tienen': 140, '😡': 140, 'eso': 137, 'o': 136, 'siempre': 134, 'x': 126, 'tiene': 125, 'ser': 124, 'dios': 115, 'jujuy': 111, 'tu': 107, 'cuando': 105, 'nos': 103, 'van': 102, 'mas': 101, 'estos': 100, 'va': 98, 'hacer': 95, 'ahora': 94, 'vida': 94, 'están': 92, 'sin': 91, 'hace': 91, 'mi': 91, 'esa': 88, 'está': 86, 'así': 86, 'solo': 85, 'gobierno': 81, 'hacen': 80, 'porque': 80, 'felicidades': 79, 'ese': 78, 'mal': 78, 'ellos': 77, 'nadie': 73, 'felicitaciones': 73, 'yo': 71, 'puede': 70, 'quieren': 70, 'enza': 68, 'asi': 66, 'ver': 63, 'esos': 63, 'muchas': 63, 'verg': 63, '😂': 62, 'qué': 62, 'estar': 61, 'donde': 61, 'jaja': 60, 'esto': 59, 'mejor': 58, 'familia': 57, 'gracias': 57, 'cada': 56, 'mucho': 56, 'plata': 54, 'nunca': 54, 'dan': 54, 'justicia': 53, 'padres': 53, '🤬': 53, 'trabajo': 53, 'algo': 52, '🙏': 52, 'país': 51, 'bueno': 50, 'pobre': 50, 'carnaval': 50, 'hasta': 49, 'menos': 49, 'muchos': 49, 'mierda': 49, 'importa': 49, 'argentina': 48, 'seguro': 48, 'dejen': 48, 'bendiciones': 48, 'vez': 48, 'gran': 47, 'hermoso': 46, 'hijos': 46, 'tener': 46, 'otro': 45, 'parece': 45, 'vos': 45, 'años': 45, 'seguir': 45, 'verdad': 44, 'd': 44, 'después': 43, 'estan': 43, 'personas': 43, 'sea': 43, '🤣': 41, 'lindo': 41, 'tenemos': 41, 'falta': 41, 'tan': 40, '❤': 40, 'persona': 40, 'hdp': 40, 'mismo': 40, 'fue': 40, 'toda': 39, 'también': 39, 'policía': 39, 'sos': 38, 'buena': 38, 'cosas': 38, '😍': 38, 'trabajar': 38, 'ir': 37, 'estas': 37, 'mujer': 37, 'pena': 37, 'hermosa': 36, 'tanto': 36, 'pueden': 36, 'igual': 36, 'vamos': 36, 'estamos': 36, 'niños': 36, 'peor': 35, 'provincia': 35, 'día': 35, 'salud': 34, 'ahí': 34, 'uno': 34, 'da': 34, 'hijo': 34, 'sigan': 34, 'otra': 33, 'saben': 33, 'nosotros': 33, '❤️': 33, 'deben': 32, 'felicito': 32, 'políticos': 32, 'pasa': 32, 'xq': 32, 'tus': 32, 'tipo': 32, 'pueblo': 32, 'bendiga': 31, 'mis': 31, 'joder': 31, 'desde': 30, 'quien': 30, 'unos': 30, 'excelente': 29, 'mientras': 29, 'único': 29, 'favor': 29, 'quiere': 28, 'creo': 28, 'poder': 28, 'deberían': 28, 'hizo': 28, 'poco': 28, 'grande': 28, 'delincuentes': 28, 'culpa': 28, 'hoy': 28, 'casa': 28, 'debe': 28, 'pobres': 28, '🥰': 27, 'mundo': 27, 'ejemplo': 27, 'éxitos': 27, 'tiempo': 27, 'respeto': 27, 'estado': 27, 'lugar': 27, 'mujeres': 27, 'amor': 27, 'banda': 27, 'otros': 26, 'mil': 26, 'ella': 26, 'haber': 26, 'dar': 26, 'morales': 26, 'espero': 26, 'cosa': 25, 're': 25, 'e': 25, 'feliz': 25, 'asco': 25, '💪': 25, '😠': 25, 'humanos': 25, 'ojalá': 25, 'padre': 25, 'hombre': 25, 'vayan': 25, 'cara': 25, 'realmente': 25, 'cuenta': 24, 'aquí': 24, 'señor': 24, '💩': 24, 'fin': 24, 'policías': 24, 'sino': 24, 'año': 24, 'sueldo': 24, 'todas': 24, 'pagar': 24, 'música': 24, 'niño': 24, 'siguen': 24, 'cualquier': 23, '👍': 23, 'era': 23, 'momento': 23, 'chorros': 23, 'salir': 23, 'madre': 23, 'dos': 23, 'vagos': 23, 'nuestro': 23, 'm': 23, 'ahi': 22, 'encima': 22, 'derechos': 22, 'buen': 22, 'ustedes': 22, 'dejan': 22, 'antes': 22, 'sigue': 22, 'total': 22, '🇦🇷': 21, 'joda': 21, 'sociedad': 21, 'haga': 21, 'comer': 20, 'dicen': 20, 'esas': 20, 'desastre': 20, 'chicos': 20, 'días': 20, 'hagan': 20, 'virus': 20, '🎉': 20, 'gusta': 20, 'tanta': 20, 'presidente': 20, 'adelante': 20, 'dice': 20, 'veces': 20, 'haciendo': 20, 'qe': 20, 'cabeza': 19, '🙄': 19, '👎': 19, 'decir': 19, 'preso': 19, 'personal': 19, '🤗': 19, 'casos': 19, 'tenes': 19, 'cargo': 19, 'acá': 19, 'pase': 19, 'pasar': 19, 'mí': 19, 'viva': 18, 'contra': 18, 'muerte': 18, 'ponen': 18, 'hdmp': 18, 'importante': 18, 'basura': 18, 'volver': 18, 'hora': 18, 'gobernador': 18, 'lado': 18, 'pais': 18, 'agua': 18, 'planes': 18, 'miedo': 18, 'jueces': 18, 'queda': 17, 'pedir': 17, 'parte': 17, 'vivir': 17, 'fuerza': 17, 'pasan': 17, 'seres': 17, 'sentido': 17, 'sabe': 17, 'cobran': 17, 'nuevo': 17, 'despues': 17, 'cren': 17, 'misma': 17, 'porq': 17, 'norte': 17, 'alguien': 17, 'laburar': 17, 'suspender': 17, 'verguenza': 16, 'control': 16, 'paz': 16, 'será': 16, 'jujeña': 16, 'dia': 16, 'sean': 16, 'hablar': 16, '😁': 16, 'salen': 16, 'algún': 16, 'conciencia': 16, 'vacunas': 16, 'arriba': 16, 've': 16, 'debería': 16, 'jóvenes': 16, 'triste': 16, 'fuera': 16, 'manera': 16, 'entre': 16, 'estás': 16, 'mucha': 16, 'noticia': 16, 'trabajan': 16, 'libre': 15, '🤦\\u200d♀️': 15, 'mala': 15, 'presos': 15, 'andar': 15, 'dejar': 15, '😆': 15, 'ganas': 15, '🥳': 15, 'cómo': 15, 'algunos': 15, 'chorro': 15, 'manos': 15, 'luego': 15, '🤔': 15, 'den': 15, 'carajo': 15, 'poner': 15, 'merece': 15, 'lados': 15, 'manga': 15, 'vas': 15, 'roban': 15, 'libertad': 15, 'perro': 15, 'daño': 15, 'somos': 15, 'papá': 15, 'barbijo': 15, 'canta': 14, 'tengan': 14, 'veo': 14, 'sacar': 14, 'jamás': 14, 'argentinos': 14, 'caso': 14, 'policia': 14, 'pagan': 14, 'proteja': 14, 'chica': 14, 'familias': 14, 'anda': 14, 'señora': 14, 'tengo': 14, 'claro': 14, 'llegar': 14, 'sale': 14, 'lacras': 14, 'cuidar': 14, 'piensan': 14, 'corruptos': 14, 'vale': 14, 'jujeños': 14, 'flia': 14, 'trabajadores': 14, 'hecho': 14, 'gratis': 14, 'sueldos': 14, 'estaba': 13, 'venden': 13, 'linda': 13, 'cana': 13, '😅': 13, 'encanta': 13, 'entonces': 13, 'primero': 13, 'soy': 13, 'tantos': 13, 'existe': 13, 'animales': 13, 'noticias': 13, 'covid': 13, 'saber': 13, 'alto': 13, 'habla': 13, 'dieron': 13, 'necesita': 13, 'che': 13, 'droga': 13, 'viven': 13, 'suerte': 13, 'burla': 13, 'derecho': 13, 'dueños': 13, 's': 13, 'viejo': 13, 'quiera': 13, 'esperar': 13, 'k': 13, 'ley': 13, 'otras': 13, 'querido': 13, 'paso': 13, 'pedo': 13, 'luz': 13, 'ladrones': 13, 'ay': 12, 'etc': 12, 'hambre': 12, 'guita': 12, 'amigos': 12, 'nuestra': 12, 'medio': 12, 'cumplir': 12, 'pasando': 12, 'chico': 12, 'hicieron': 12, 'aqui': 12, 'digo': 12, 'casas': 12, 'impuestos': 12, 'calles': 12, 'tenga': 12, 'p': 12, 'aparte': 12, 'educación': 12, 'ratas': 12, 'quienes': 12, 'ayuda': 12, 'bolsillos': 12, 'junto': 12, 'sería': 12, 'orgullo': 12, 'genio': 12, 'gesto': 12, '😭': 12, 'tambien': 12, 'corresponde': 12, 'ignorantes': 12, 'mismos': 12, 'gremios': 12, 'tendría': 12, 'vaya': 12, 'esfuerzo': 12, 'cárcel': 12, 'vacuna': 12, 'haya': 11, 'querer': 11, 'sube': 11, 'humildad': 11, 'puedan': 11, 'nuestros': 11, 'vallan': 11, 'tierra': 11, 'dio': 11, 'ven': 11, 'voy': 11, 'carrera': 11, 'pongan': 11, 'todavía': 11, 'buscar': 11, 'estoy': 11, 'entiendo': 11, 'andan': 11, 'respetan': 11, 'estudiar': 11, 'deberian': 11, 'estaban': 11, 'barrios': 11, 'calle': 11, 'además': 11, 'él': 11, 'fiestas': 11, 'loco': 11, 'valores': 11, 'buenos': 11, 'seguridad': 11, '😊': 11, 'sobre': 11, 'tal': 11, 'trabaja': 11, 'cagada': 11, 'corazón': 11, 'voz': 11, 'dónde': 11, 'puta': 11, 'tipos': 11, '🤦\\u200d♂️': 11, 'barrio': 11, 'pandemia': 11, 'merecen': 11, 'violencia': 11, 'polenta': 10, 'vi': 10, 'ningún': 10, 'cuiden': 10, '👌': 10, 'precio': 10, 'cualquiera': 10, 'darle': 10, 'pelo': 10, 'nueva': 10, 'votar': 10, 'perpetua': 10, 'animalitos': 10, 'virgen': 10, 'mina': 10, 'bravo': 10, 'multa': 10, 'dolor': 10, 'ayudar': 10, 'empleados': 10, 'circo': 10, 'hombres': 10, 'robando': 10, 'doble': 10, 'deja': 10, 'terminar': 10, 'perfecto': 10, '😢': 10, 'disfrutar': 10, 'navidad': 10, 'cre': 10, 'siendo': 10, 'perros': 10, 'millones': 10, 'obra': 10, 'lamentablemente': 10, 'hospital': 10, 'lugares': 10, 'tekis': 10, 'sí': 10, 'boca': 10, 'debemos': 10, 'dentro': 10, 'sinverg': 10, 'borrachos': 10, 'aumento': 10, 'quiero': 10, 'basta': 10, 'deje': 10, 'sólo': 10, 'grandes': 10, 'médicos': 10, 'niña': 10, 'edad': 10, 'plan': 9, 'nota': 9, 'muchacho': 9, 'bella': 9, 'pensar': 9, 'vienen': 9, 'lastima': 9, 'necesitan': 9, '🤦': 9, 'meses': 9, 'aprender': 9, 'puro': 9, 'final': 9, 'ruta': 9, 'policias': 9, 'auto': 9, 'tendrían': 9, 'pelotudo': 9, 'mira': 9, 't': 9, 'podes': 9, 'turno': 9, 'payaso': 9, 'problema': 9, 'listo': 9, 'salga': 9, 'paguen': 9, 'dando': 9, 'partido': 9, 'mes': 9, 'lamentable': 9, 'realidad': 9, 'trabajador': 9, 'vidas': 9, 'bajo': 9, 'dueño': 9, 'entrar': 9, 'idea': 9, 'argentino': 9, 'actitud': 9, 'darles': 9, 'tenés': 9, 'razón': 9, 'ninguna': 9, 'pueda': 9, 'defender': 9, 'existen': 9, '👏🏼': 9, 'tendria': 9, 'docente': 9, 'cae': 9, '🙌': 9, 'trabajen': 9, '😒': 9, '🤮': 9, 'asesinos': 9, 'pareja': 9, 'voto': 9, 'matar': 9, 'fui': 9, '😷': 9, 'cielo': 9, 'queremos': 9, 'negocio': 9, 'genios': 9, 'amigo': 9, 'viene': 9, 'vecinos': 9, 'atrevidos': 9, 'vieja': 8, 'ja': 8, 'robar': 8, 'político': 8, '😔': 8, '♥️': 8, 'alguna': 8, 'vuelven': 8, 'mangas': 8, 'unas': 8, '🤭': 8, 'ropa': 8, 'justo': 8, 'dijo': 8, 'nivel': 8, 'docentes': 8, 'cena': 8, 'ah': 8, '💖': 8, 'ganar': 8, 'sacan': 8, 'única': 8, 'equipo': 8, 'seria': 8, 'turnos': 8, 'tema': 8, 'hacía': 8, '😘': 8, 'bolsillo': 8, 'hacia': 8, 'sirven': 8, 'tendrian': 8, 'termino': 8, 'ala': 8, 'delincuencia': 8, 'dinero': 8, 'nose': 8, 'noche': 8, 'cuándo': 8, '💕': 8, 'vuelve': 8, 'mayor': 8, 'cantidad': 8, 'salgan': 8, 'aprenden': 8, '💙': 8, 'buenísimo': 8, 'cultura': 8, 'marcha': 8, 'llueve': 8, 'pelotudos': 8, 'piden': 8, 'dias': 8, 'exitos': 8, 'parásitos': 8, 'pasó': 8, 'jujeño': 8, 'profesional': 8, 'tomar': 8, 'cancha': 8, 'allá': 8, 'terrible': 8, 'aún': 8, 'politica': 8, 'capaz': 8, 'propia': 8, 'ayer': 8, 'llega': 8, 'vacaciones': 8, 'situación': 8, 'estupidez': 8, 'clase': 8, 'mentira': 8, 'obvio': 8, 'pagamos': 8, 'miseria': 8, 'votando': 8, 'lleno': 8, 'felices': 8, 'jugar': 8, 'horrible': 8, 'respetar': 8, 'deberia': 8, 'ñoquis': 8, 'fueron': 8, '👋': 8, 'hubiera': 8, 'ti': 8, 'estén': 8, 'seguramente': 8, 'vacunados': 8, 'sola': 8, 'supongo': 8, 'papa': 7, 'comida': 7, 'cual': 7, 'belleza': 7, 'países': 7, 'l': 7, 'mente': 7, 'hacemos': 7, 'humo': 7, 'vuelvan': 7, 'burros': 7, 'fiesta': 7, 'entran': 7, 'mayoría': 7, 'cuidan': 7, 'causa': 7, 'siento': 7, 'comedero': 7, 'espectacular': 7, 'fácil': 7, 'aunque': 7, 'actos': 7, 'oportunidad': 7, 'vender': 7, 'mamá': 7, 'hija': 7, 'boludos': 7, 'humano': 7, 'problemas': 7, 'mio': 7, 'votos': 7, 'sentir': 7, 'futuro': 7, 'aser': 7, 'capas': 7, 'jovenes': 7, 'casi': 7, 'ves': 7, 'culo': 7, 'musica': 7, 'llegue': 7, 'controlar': 7, 'cuidarse': 7, 'puente': 7, 'crer': 7, 'cierto': 7, 'empresas': 7, 'imagino': 7, 'forma': 7, 'medios': 7, 'atención': 7, 'muriendo': 7, 'sacrificio': 7, 'pura': 7, 'comprar': 7, 'corrupto': 7, 'conozco': 7, '❗': 7, 'cuesta': 7, 'cuidado': 7, 'social': 7, 'política': 7, 'afuera': 7, 'fuerte': 7, 'exelente': 7, 'nomás': 7, 'peligro': 7, 'alumnos': 7, '💜': 7, 'izquierda': 7, 'macri': 7, 'aplaudo': 7, 'ante': 7, 'payasos': 7, 'presa': 7, 'planeros': 7, 'proyecto': 7, 'bello': 7, 'profesionales': 7, 'faltan': 7, 'sido': 7, '😕': 7, 'adentro': 7, 'grupo': 7, 'sanitario': 7, 'extranjeros': 7, 'trabajamos': 7, 'fuerzas': 7, 'ponerse': 7, 'contagios': 7, 'festejar': 7, 'recién': 7, 'mojones': 7, 'consecuencias': 7, 'comparsas': 7, 'drogas': 7, 'raro': 6, '⚽': 6, 'denuncias': 6, 'ex': 6, 'rato': 6, 'lpm': 6, 'sr': 6, 'mayoria': 6, 'ponga': 6, 'ellas': 6, '😱': 6, 'vivo': 6, 'mío': 6, 'as': 6, 'uh': 6, 'horas': 6, 'pobreza': 6, 'habrá': 6, 'caen': 6, '🤷': 6, 'tristeza': 6, 'vivos': 6, 'camioneta': 6, 'giles': 6, 'escuelas': 6, 'necesitamos': 6, 'dura': 6, 'ayude': 6, 'llorar': 6, 'mañana': 6, 'deseo': 6, 'colectivos': 6, 'alegría': 6, 'adultos': 6, 'mayores': 6, 'atender': 6, 'jodiendo': 6, 'demasiado': 6, 'salio': 6, 'quedo': 6, 'gato': 6, 'gana': 6, 'vuelta': 6, 'plaza': 6, 'pocos': 6, 'malo': 6, 'responsable': 6, 'resto': 6, 'puedo': 6, 'piso': 6, 'gestión': 6, '🤡': 6, 'congreso': 6, 'bagos': 6, 'politicos': 6, 'bajar': 6, 'osea': 6, 'nuestras': 6, 'acuerdo': 6, 'juego': 6, 'menor': 6, 'irse': 6, 'ricos': 6, 'estuvo': 6, 'pesos': 6, 'usar': 6, 'matando': 6, 'nacional': 6, 'cobrar': 6, 'video': 6, 'ojala': 6, '🤢': 6, 'verdadero': 6, 'llama': 6, 'crecer': 6, 'primera': 6, 'historia': 6, 'mierd': 6, 'delincuente': 6, 'mantener': 6, 'vive': 6, 'ta': 6, 'haces': 6, '🤑': 6, 'leyes': 6, 'camino': 6, 'sufren': 6, 'votan': 6, 'amo': 6, 'chau': 6, 'usan': 6, 'j': 6, 'semana': 6, 'mejores': 6, 'colmo': 6, 'moto': 6, 'seguimos': 6, 'elecciones': 6, 'semejante': 6, 'marihuana': 6, 'emperador': 6, 'aguante': 6, 'camiseta': 6, 'pan': 6, 'solamente': 6, 'interesa': 6, 'alcohol': 6, 'abrazo': 6, 'muere': 6, 'nación': 6, 'sé': 6, 'mato': 6, 'orgulloso': 6, 'privado': 6, 'gordos': 6, 'perdido': 6, 'sociales': 6, 'digan': 6, 'gusto': 6, 'malditos': 6, 'lluvia': 6, 'escuela': 6, 'cadena': 6, 'joven': 6, 'peronismo': 6, 'cumbia': 6, 'ganan': 6, 'abogado': 6, 'queres': 6, 'cortan': 6, 'xibi': 6, 'romper': 6, 'chupa': 6, 'cerca': 5, 'profesión': 5, 'siquiera': 5, 'futbol': 5, 'vende': 5, 'pone': 5, 'china': 5, 'tenia': 5, 'ésta': 5, 'ganarse': 5, 'hijas': 5, 'mostrar': 5, 'pecho': 5, 'lenguaje': 5, 'hablan': 5, 'pregunto': 5, '😑': 5, '🛫': 5, 'frente': 5, 'abuso': 5, 'mandan': 5, 'quede': 5, 'par': 5, 'inventar': 5, 'blanca': 5, 'entiende': 5, 'inseguridad': 5, 'olor': 5, 'quién': 5, 'evitar': 5, 'gatos': 5, 'empatía': 5, 'animal': 5, 'señores': 5, 'kirchnerismo': 5, 'solución': 5, 'mano': 5, 'amén': 5, 'enfermedad': 5, 'bastante': 5, 'experiencia': 5, '🙈': 5, 'zona': 5, 'mueren': 5, 'buenas': 5, 'mirar': 5, 'orden': 5, 'sirve': 5, 'corta': 5, 'fiscales': 5, 'super': 5, 'hacete': 5, '☺️': 5, 'género': 5, 'venta': 5, 'cierren': 5, 'orto': 5, 'labura': 5, 'algunas': 5, 'déjense': 5, 'cagando': 5, 'tantas': 5, 'perrito': 5, 'luces': 5, 'denuncia': 5, 'aver': 5, 'alegra': 5, 'matan': 5, 'periodismo': 5, 'busquen': 5, 'moda': 5, 'generar': 5, 'lavar': 5, 'boludo': 5, 'mesi': 5, 'duro': 5, 'cague': 5, 'hermana': 5, 'banco': 5, 'cero': 5, 'llegan': 5, 'aprendan': 5, 'cerebro': 5, 'malvinas': 5, 'cumple': 5, 'felicidad': 5, 'serán': 5, 'cobardes': 5, 'bronca': 5, 'tren': 5, 'esté': 5, 'camión': 5, 'vacunarse': 5, 'demas': 5, 'excelentes': 5, 'poca': 5, 'siga': 5, 'ha': 5, 'trabajando': 5, 'diarios': 5, 'logros': 5, 'tenía': 5, 'montón': 5, '✌': 5, 'pequeños': 5, 'agan': 5, 'inútiles': 5, 'ajena': 5, 'llamar': 5, 'yala': 5, 'planeta': 5, 'darse': 5, 'pasen': 5, 'ente': 5, 'enfermos': 5, 'metan': 5, 'cuidamos': 5, 'responsabilidad': 5, 'defienden': 5, 'condena': 5, 'violadores': 5, 'enferma': 5, 'cambiar': 5, 'carne': 5, 'jefa': 5, 'perder': 5, 'pierde': 5, 'punta': 5, 'tarde': 5, 'uniforme': 5, 'hipócritas': 5, 'súper': 5, 'admiro': 5, 'maravilloso': 5, 'porquería': 5, 'locura': 5, 'subir': 5, 'cuantos': 5, 'celular': 5, 'enzas': 5, 'dirigentes': 5, 'palabras': 5, 'elección': 5, '😤': 5, 'humilde': 5, 'pague': 5, 'familiares': 5, '💚': 5, 'deuda': 5, 'apoyo': 5, 'cobra': 5, 'salta': 5, 'tiempos': 5, 'capo': 5, 'tuve': 5, 'distancia': 5, 'ministerio': 5, 'aumentar': 5, 'lleva': 5, 'competencia': 5, 'propias': 5, 'minas': 5, 'full': 5, 'aca': 5, 'respeta': 5, 'escucharlos': 5, 'maten': 5, 'papeles': 5, 'éstos': 5, 'sangre': 5, 'lacra': 5, 'juega': 5, 'compañeros': 5, 'mentiroso': 5, 'encantó': 5, 'esperan': 5, 'nuevos': 5, 'actividades': 5, 'brille': 5, 'cagar': 5, 'delito': 5, 'conviene': 5, 'saquen': 5, 'autoridades': 5, 'entender': 5, 'cambien': 5, 'entienden': 5, 'controlan': 5, 'propio': 5, 'sabemos': 5, 'robo': 5, 'ciudad': 5, 'cantante': 5, 'tenían': 5, 'acción': 5, 'pésame': 5, 'imposible': 5, 'jodas': 5, 'multas': 5, 'querían': 5, 'quieran': 5, 'tampoco': 5, 'dale': 5, 'chaya': 5, 'comparsa': 5, 'atrevidas': 5, 'faltar': 5, 'muertos': 5, 'san': 5, 'público': 5, 'corso': 5, 'termo': 4, 'pudieron': 4, 'vista': 4, 'empanadas': 4, 'demás': 4, 'famosa': 4, '-': 4, 'confianza': 4, 'visto': 4, 'parque': 4, 'pago': 4, '😃': 4, 'comisaria': 4, 'entra': 4, 'recibir': 4, 'profe': 4, '💓': 4, '🤤': 4, 'esperamos': 4, 'busca': 4, 'escuchar': 4, 'pibe': 4, 'éxito': 4, 'sueño': 4, 'niñas': 4, 'quería': 4, 'río': 4, 'autoridad': 4, 'arma': 4, 'cerrar': 4, 'base': 4, 'déjate': 4, 'aumentan': 4, 'pedazos': 4, 'cumplen': 4, 'accionar': 4, 'raza': 4, 'fe': 4, 'humanidad': 4, 'corazon': 4, 'quedan': 4, 'consigue': 4, 'víctimas': 4, 'autos': 4, 'hechos': 4, 'pelotas': 4, 'comentario': 4, 'jugadores': 4, 'salimos': 4, 'b': 4, 'diablo': 4, 'viejitos': 4, 'digno': 4, 'velocidad': 4, 'pensé': 4, 'lindos': 4, 'bolas': 4, 'cagan': 4, 'risa': 4, 'jeje': 4, 'bue': 4, 'inocente': 4, 'chorra': 4, 'instituciones': 4, 'hiciste': 4, 'comentarios': 4, 'importan': 4, 'aprende': 4, 'viajar': 4, 'tres': 4, 'pilas': 4, 'votaron': 4, 'llevar': 4, 'molestan': 4, 'tratar': 4, 'vago': 4, 'moral': 4, 'centro': 4, 'ignorancia': 4, 'cumpla': 4, 'inocentes': 4, 'porro': 4, 'perdiendo': 4, 'rivarola': 4, 'mentir': 4, 'estudien': 4, 'vio': 4, 'pensando': 4, 'facil': 4, 'acomodados': 4, 'verlo': 4, 'levantar': 4, 'muerto': 4, 'contagio': 4, 'sorprende': 4, 'urgente': 4, 'bs': 4, 'llenarse': 4, 'porteños': 4, 'salario': 4, 'deverian': 4, 'sucio': 4, 'diputado': 4, 'enfermeros': 4, 'medicos': 4, 'prefiero': 4, 'choreo': 4, 'impresentable': 4, 'riesgo': 4, 'viernes': 4, 'naturaleza': 4, '\\U0001f90d': 4, 'eran': 4, 'hacerlo': 4, 'siente': 4, 'humahuaca': 4, '🙉': 4, 'vacunado': 4, 'rascan': 4, 'temas': 4, 'músicos': 4, 'trabajos': 4, 'sigamos': 4, 'cagaron': 4, 'ler': 4, 'fotos': 4, 'espectáculo': 4, 'tiran': 4, 'producen': 4, 'reír': 4, 'patria': 4, 'caballero': 4, 'leche': 4, 'proteger': 4, 'unico': 4, 'gastar': 4, 'canciones': 4, 'llene': 4, 'patadas': 4, 'cristina': 4, 'mínimo': 4, 'perdida': 4, 'caer': 4, 'totalmente': 4, 'mierdas': 4, 'quema': 4, '🤷\\u200d♂️': 4, 'c': 4, 'logro': 4, 'sala': 4, 'públicos': 4, 'cura': 4, 'verdadera': 4, 'vino': 4, 'buscando': 4, 'bono': 4, 'pudo': 4, 'cuanto': 4, 'lobo': 4, 'motos': 4, 'santa': 4, 'abuelos': 4, 'abajo': 4, '‼': 4, 'pasado': 4, 'fútbol': 4, 'medidas': 4, 'humana': 4, 'periodistas': 4, 'defenderse': 4, 'marca': 4, 'terror': 4, 'urnas': 4, 'cn': 4, 'llenan': 4, 'miserables': 4, 'esclavos': 4, 'cantar': 4, 'seas': 4, 'barbijos': 4, 'salió': 4, 'encerrados': 4, 'contrario': 4, 'beneficios': 4, 'sera': 4, 'minuto': 4, 'podemos': 4, 'querés': 4, 'periodista': 4, 'espera': 4, 'asen': 4, 'mafia': 4, 'qie': 4, 'ángel': 4, 'cuánta': 4, 'videos': 4, 'boludeces': 4, 'meta': 4, 'paro': 4, 'armas': 4, 'golpes': 4, 'cambio': 4, '😏': 4, 'nosotras': 4, 'lluvias': 4, 'etapa': 4, '👏🏻': 4, 'municipio': 4, 'distintas': 4, 'médica': 4, 'capacidad': 4, 'iba': 4, 'sufrimiento': 4, 'detrás': 4, 'progresar': 4, 'apoyando': 4, 'mete': 4, 'cuida': 4, 'pasaron': 4, 'prójimo': 4, 'malas': 4, 'proyectos': 4, 'viejos': 4, 'colegio': 4, 'juntos': 4, 'vagancia': 4, 'razon': 4, 'genero': 4, 'bestias': 4, 'venga': 4, 'rápido': 4, 'hermano': 4, '😪': 4, 'hablando': 4, 'pusieron': 4, 'eh': 4, 'labor': 4, 'mentirosa': 4, 'tú': 4, 'humildes': 4, 'onda': 4, 'domingo': 4, 'pelotudez': 4, 'das': 4, 'generoso': 4, 'aguantar': 4, 'diputados': 4, 'suficiente': 4, 'aun': 4, 'regalan': 4, 'muestran': 4, 'menores': 4, 'ama': 4, 'mismas': 4, 'locos': 4, 'robaron': 4, 'queridos': 4, 'recuerdo': 4, 'depende': 4, 'puertas': 4, 'uds': 4, 'habria': 4, 'echo': 4, 'vacunar': 4, '🏆': 4, 'esperando': 4, 'intendente': 4, 'atrás': 4, 'cuerpo': 4, 'farsa': 4, 'negocios': 4, 'familiar': 4, 'mereces': 4, 'varias': 4, 'estaria': 4, 'toman': 4, 'jamas': 4, 'públicas': 4, 'habra': 4, 'chiste': 4, 'tacita': 4, 'muchachos': 4, 'condolencias': 4, 'permitir': 4, 'pesar': 4, 'campaña': 4, 'poquito': 4, 'quejan': 4, 'caro': 4, 'ninguno': 4, 'contagian': 4, 'irresponsables': 4, 'cerveza': 4, 'suspenda': 4, 'millonarios': 4, 'eventos': 4, 'vean': 4, 'pendejos': 4, 'pequeño': 4, 'hinchas': 4, 'zurdos': 4, 'papás': 4, 'aire': 4, 'irresponsabilidad': 4, 'habría': 4, 'clases': 4, 'ciudadanos': 4, 'tocan': 4, 'únicos': 4, 'respecto': 4, 'prendido': 4, 'corsos': 4, 'regalo': 4, '💗': 4, 'licencia': 4, 'insoportable': 4, 'trenes': 4, 'violento': 4, 'producción': 4, 'adicción': 4, 'burro': 4, 'uquia': 4, 'alcanza': 3, 'tv': 3, '🍻': 3, 'calladitos': 3, 'equipos': 3, 'brasil': 3, 'seleccion': 3, 'terminal': 3, 'llenas': 3, 'panchos': 3, 'maridos': 3, 'pecado': 3, 'piedra': 3, 'suma': 3, 'borracho': 3, 'pata': 3, 'esperanzas': 3, 'turistas': 3, 'usted': 3, 'calor': 3, 'jujeñas': 3, 'bienvenido': 3, '🤩': 3, 'fama': 3, 'criaron': 3, 'tremendo': 3, 'usa': 3, 'ganando': 3, 'mundial': 3, 'exposiciones': 3, 'funciones': 3, 'directamente': 3, 'dado': 3, 'parecen': 3, 'milagro': 3, 'tocó': 3, 'comisaría': 3, 'organismo': 3, 'mascotas': 3, 'abandonados': 3, '‼️': 3, 'ocurre': 3, 'primaria': 3, 'pantalla': 3, 'criticar': 3, 'importantes': 3, 'anses': 3, 'educada': 3, 'verso': 3, 'podría': 3, 'buscan': 3, 'culiao': 3, 'viviendo': 3, 'diga': 3, 'madid': 3, 'diferencia': 3, 'quebrada': 3, 'hdrp': 3, 'gil': 3, 'acompañan': 3, 'presencia': 3, 'ojos': 3, 'puna': 3, 'verlos': 3, 'deporte': 3, 'internet': 3, 'puerta': 3, 'pajeros': 3, 'condenados': 3, 'usando': 3, 'móvil': 3, 'médico': 3, 'cuidarlos': 3, 'difícil': 3, 'malos': 3, 'comunidad': 3, 'molesta': 3, 'vendrán': 3, 'iglesias': 3, 'aprobar': 3, 'dejarlos': 3, 'face': 3, 'colegios': 3, 'privados': 3, 'baches': 3, 'semáforos': 3, 'entrego': 3, 'había': 3, 'sabiendo': 3, 'consumo': 3, 'neuronas': 3, 'via': 3, 'pública': 3, 'tras': 3, 'puso': 3, 'podés': 3, 'hacerse': 3, 'payasada': 3, 'democracia': 3, 'gane': 3, 'vilca': 3, 'fumando': 3, 'rapido': 3, 'nuevas': 3, 'provincial': 3, 'rutas': 3, 'suban': 3, 'escriben': 3, 'regalando': 3, 'ganaron': 3, 'positivo': 3, 'rata': 3, 'vemos': 3, 'perdon': 3, 'pegar': 3, 'representa': 3, 'posibilidad': 3, 'boludeando': 3, 'posible': 3, 'bosta': 3, 'billetes': 3, 'inutil': 3, 'dije': 3, 'himno': 3, 'mataron': 3, 'diversión': 3, 'prisión': 3, 'votaria': 3, 'terminan': 3, 'bomberos': 3, 'imagínate': 3, 'preocupados': 3, 'recaudar': 3, 'anticonceptivos': 3, 'traen': 3, 'sufrir': 3, 'consecuencia': 3, 'aborto': 3, 'ausentes': 3, 'hipócrita': 3, 'pronto': 3, 'disculpen': 3, 'islas': 3, 'patriotismo': 3, 'argentinas': 3, 'decreto': 3, 'mejorar': 3, 'sabado': 3, 'baja': 3, 'parasitos': 3, 'ledesma': 3, '🤦🏻\\u200d♂️': 3, 'milei': 3, 'nomas': 3, 'festivales': 3, 'grupos': 3, 'desgracia': 3, 'honestidad': 3, 'gloria': 3, 'multiplique': 3, 'jefe': 3, 'tomen': 3, 'puestos': 3, 'u': 3, 'paga': 3, 'libres': 3, 'espacio': 3, 'peces': 3, 'ejemplos': 3, 'crack': 3, 'lucrar': 3, 'fuente': 3, 'sra': 3, 'humanas': 3, 'festejo': 3, 'maravillosa': 3, 'recuerdos': 3, 'colchones': 3, 'choreando': 3, '👀': 3, 'huevos': 3, 'expresión': 3, 'éste': 3, '🥺': 3, 'trabajadora': 3, 'pide': 3, 'mugre': 3, 'unidades': 3, 'camaras': 3, 'secundaria': 3, 'sencillo': 3, '🐈': 3, 'perdieron': 3, 'tirando': 3, 'tirar': 3, 'camina': 3, 'tira': 3, 'ideología': 3, 'recuperar': 3, 'sol': 3, 'ocupar': 3, 'cargos': 3, 'cuanta': 3, 'maldito': 3, 'podrida': 3, 'cuide': 3, 'falso': 3, 'tuya': 3, 'miau': 3, 'inflación': 3, 'eres': 3, 'vendiendo': 3, 'dolores': 3, 'parar': 3, 'aceptan': 3, 'gustaría': 3, 'piensen': 3, 'obligación': 3, 'mienten': 3, 'valla': 3, 'loca': 3, 'palpala': 3, 'altura': 3, 'teniendo': 3, 'jesús': 3, 'población': 3, 'nacionales': 3, 'estudios': 3, 'fomentar': 3, 'hablen': 3, 'penal': 3, 'suben': 3, 'pelotuda': 3, 'basuras': 3, 'madres': 3, '💔': 3, 'asado': 3, 'cachetazo': 3, 'iguales': 3, 'corrupta': 3, 'peleando': 3, 'genia': 3, 'viajes': 3, 'odio': 3, 'dejaron': 3, 'judicial': 3, 'besos': 3, '👑': 3, 'mata': 3, 'pagando': 3, 'locas': 3, 'importancia': 3, 'peleas': 3, 'tránsito': 3, 'porqué': 3, 'apoyan': 3, 'segura': 3, 'mier': 3, 'atienden': 3, 'uf': 3, 'orgullosos': 3, '🌹': 3, 'alegro': 3, 'disfrutando': 3, 'comparación': 3, 'epocas': 3, 'gallardo': 3, 'virtud': 3, 'bianchi': 3, 'fuertes': 3, 'volvemos': 3, 'jugador': 3, 'negro': 3, 'fantasía': 3, 'reyes': 3, 'mono': 3, 'juicio': 3, 'morir': 3, 'trata': 3, 'precios': 3, 'hubo': 3, 'municipalidad': 3, 'pidan': 3, 'angelitos': 3, 'sector': 3, 'impuesto': 3, 'segundo': 3, 'laburo': 3, 'dignidad': 3, 'gilada': 3, 'último': 3, 'enseñar': 3, 'finca': 3, 'pongo': 3, 'hubiese': 3, 'queriendo': 3, 'chile': 3, 'escuchados': 3, 'acto': 3, 'estarían': 3, 'esperaron': 3, 'cámaras': 3, 'entraron': 3, 'barbaro': 3, 'sueños': 3, 'ame': 3, 'boliches': 3, 'castigo': 3, 'estaría': 3, 'asesinas': 3, 'olvidó': 3, 'doce': 3, 'arruinó': 3, 'nena': 3, 'violaciones': 3, 'dormir': 3, 'vivan': 3, 'reglas': 3, 'diablos': 3, 'funciona': 3, 'pido': 3, 'descuentan': 3, 'asistencia': 3, 'impresentables': 3, 'mensaje': 3, 'sábado': 3, 'llena': 3, 'protocolos': 3, 'compren': 3, '🎊': 3, '😎': 3, 'ladrón': 3, 'ingenieros': 3, 'original': 3, 'salarios': 3, 'aplauso': 3, 'loq': 3, 'simple': 3, 'dudas': 3, 'demuestren': 3, 'ilegal': 3, 'dedican': 3, 'narcotráfico': 3, 'consumidores': 3, 'normal': 3, 'agarrar': 3, 'canas': 3, 'primo': 3, 'levanto': 3, 'figurita': 3, 'deber': 3, 'palo': 3, 'decia': 3, 'bajos': 3, 'renuncia': 3, 'demostró': 3, 'compre': 3, 'descanse': 3, 'reclamar': 3, 'acaso': 3, 'liberen': 3, 'bárbaro': 3, 'caga': 3, 'terminado': 3, 'huevo': 3, '💐': 3, 'carnero': 3, 'tuvo': 3, 'dosis': 3, 'show': 3, 'valor': 3, 'adn': 3, 'molestar': 3, 'cierre': 3, 'saltan': 3, 'larga': 3, 'duda': 3, 'perpetúa': 3, 'gerardo': 3, 'abuelo': 3, 'cuestión': 3, 'preparado': 3, 'resfrío': 3, 'porcentaje': 3, 'creíble': 3, 'justificar': 3, 'muertes': 3, 'carnet': 3, 'marchas': 3, 'aunq': 3, 'protegerlo': 3, 'ofender': 3, 'alli': 3, 'ambre': 3, 'gastos': 3, 'pidiendo': 3, 'sindicatos': 3, 'llevan': 3, 'mitad': 3, 'cuántas': 3, 'cannabis': 3, 'ojo': 3, 'traidores': 3, 'importar': 3, 'representante': 3, 'desaparecer': 3, 'beneficio': 3, 'servicio': 3, '👐': 3, 'muestren': 3, 'asta': 3, 'rico': 3, 'colectivo': 3, 'carriles': 3, 'corto': 3, 'reciben': 3, 'tocar': 3, 'común': 3, 'realizar': 3, 'dé': 3, 'descubrir': 3, 'alegrar': 3, 'frío': 3, 'memoria': 3, 'realizan': 3, 'recuerda': 3, 'brote': 3, 'amistad': 3, 'ausente': 3, 'corriendo': 3, 'rostro': 3, 'seamos': 3, '🤷\\u200d♀️': 3, 'bolivia': 3, 'regalamos': 3, '🤦🏻\\u200d♀️': 3, 'princesa': 3, 'compañera': 3, 'olvidan': 3, 'valorar': 3, 'casco': 3, 'lamentar': 3, 'asistir': 3, 'provincias': 3, 'secuaces': 3, 'inadaptados': 3, 'abogados': 3, 'miren': 3, 'tradiciones': 3, 'cabe': 3, 'solidarios': 3, 'murió': 3, 'manejan': 3, 'mocosos': 3, 'chicas': 3, 'mirando': 3, 'juventud': 3, 'pendejas': 3, 'agradecida': 3, 'educar': 3, 'gimnasia': 3, 'salva': 3, 'suspendan': 3, 'contagiados': 3, 'especial': 3, 'piensa': 3, 'dedicación': 3, 'grado': 3, 'habilitar': 3, 'perdió': 3, 'ilumine': 3, 'supuesto': 3, 'muni': 3, 'vengan': 3, 'drogones': 3, 'empresarios': 3, 'decisión': 3, 'feo': 3, 'escapan': 3, 'expuestos': 3, 'fumar': 3, 'pibes': 3, 'hablemos': 3, 'afrontar': 3, 'lleven': 3, 'interior': 3, 'pones': 3, 'parese': 3, 'tendrá': 3, 'peso': 3, 'puentes': 3, 'cantaron': 3, 'gremio': 3, 'ahijado': 3, 'festejando': 3, 'empezar': 3, 'recitales': 3, 'sorteo': 3, 'cag': 3, 'meterles': 3, 'sindicato': 3, 'paritarias': 3, 'termina': 3, 'agresivo': 3, 'ridículo': 3, 'violan': 3, 'toca': 3, 'permiten': 3, 'legalizar': 3, 'plantación': 3, 'liga': 3, 'saludos': 3, 'reuniones': 3, 'disculpas': 3, 'infinitas': 3, 'perseverancia': 3, 'cama': 3, 'gasta': 3, 'metas': 3, 'vencido': 3, 'cabezas': 2, 'eligió': 2, 'clasificar': 2, 'supuestos': 2, 'roba': 2, 'cuidadito': 2, 'critiquen': 2, 'juzgan': 2, 'tire': 2, 'última': 2, 'mirá': 2, 'golpear': 2, 'amenazas': 2, 'manejar': 2, 'lenta': 2, 'tendremos': 2, 'cambia': 2, 'villa': 2, 'volveremos': 2, 'polentita': 2, 'gorgojo': 2, 'jiji': 2, 'inviertan': 2, 'pedazo': 2, 'escapar': 2, 'condiciones': 2, 'empeño': 2, 'ello': 2, 'saco': 2, 'verdaderas': 2, 'divino': 2, 'emocionados': 2, 'lomo': 2, 'vs': 2, 'económico': 2, 'hablo': 2, 'groso': 2, 'metal': 2, 'exponer': 2, 'muchisimas': 2, 'visten': 2, 'mínima': 2, 'tendré': 2, 'barra': 2, '💛': 2, 'curso': 2, 'desaprobados': 2, 'portan': 2, 'omnipotentes': 2, 'escaparon': 2, 'iups': 2, 'enseñaron': 2, 'imaginate': 2, 'bajando': 2, 'ministerios': 2, 'facultad': 2, 'hubieran': 2, 'radical': 2, 'desempleo': 2, 'salas': 2, 'quedado': 2, 'pies': 2, 'celdas': 2, 'caprichos': 2, 'tarea': 2, 'perritos': 2, 'atropellados': 2, 'tirados': 2, 'cruzan': 2, 'pal': 2, 'verano': 2, '🤙🏻': 2, 'diego': 2, 'barato': 2, 'películas': 2, 'renovar': 2, 'negoció': 2, 'decile': 2, 'murieron': 2, 'ocurrir': 2, 'accidente': 2, 'hacerte': 2, 'quisiera': 2, 'hincha': 2, 'club': 2, 'campeón': 2, 'tenerlo': 2, 'filmación': 2, 'paisajes': 2, 'medicina': 2, 'pendiente': 2, 'soñando': 2, 'genial': 2, 'soretes': 2, 'empatia': 2, 'color': 2, 'sucia': 2, 'paran': 2, 'llegada': 2, 'choto': 2, 'wanda': 2, 'arruino': 2, 'imagen': 2, 'victima': 2, 'mauro': 2, 'gatito': 2, 'durmiendo': 2, 'psicológico': 2, 'matarlos': 2, 'invertir': 2, 'hilo': 2, 'incluye': 2, 'arde': 2, 'dió': 2, 'decía': 2, 'radio': 2, 'rompan': 2, 'acomodos': 2, 'aspirantes': 2, 'sueltos': 2, 'mascota': 2, 'gata': 2, 'opa': 2, 'asustado': 2, 'saque': 2, 'feminismo': 2, 'pelotudeces': 2, 'lentos': 2, 'herramientas': 2, 'nuevamente': 2, 'bloquean': 2, 'rotos': 2, 'anden': 2, 'conforma': 2, 'compran': 2, 'jodete': 2, 'viaje': 2, 'joden': 2, 'males': 2, 'tranquilo': 2, 'chupar': 2, 'vereda': 2, 'crece': 2, 'escuchan': 2, 'botas': 2, 'curan': 2, 'silla': 2, 'acaba': 2, 'ke': 2, 'pistola': 2, 'alquileres': 2, 'lujos': 2, 'pobrecita': 2, 'cha': 2, 'hagamos': 2, 'pedirle': 2, 'hijito': 2, 'gob': 2, 'patada': 2, 'traste': 2, 'choros': 2, 'digas': 2, 'psicologico': 2, 'cagados': 2, 'desis': 2, 'asqueroso': 2, 'medico': 2, 'estudiantes': 2, 'dejó': 2, 'iso': 2, 'valiente': 2, 'fieles': 2, 'aroma': 2, 'abiertos': 2, 'monton': 2, 'borregos': 2, 'exigencia': 2, 'entren': 2, 'escribir': 2, 'estudian': 2, 'académico': 2, 'anteriores': 2, 'oficial': 2, 'ejemplar': 2, 'bendición': 2, 'injusticia': 2, 'miran': 2, 'ajeno': 2, 'gastaron': 2, 'radicales': 2, 'querian': 2, 'debia': 2, 'unica': 2, 'preguntar': 2, 'pedorro': 2, 'picada': 2, 'dra': 2, 'hueca': 2, 'pasacalle': 2, 'hueco': 2, 'ayuden': 2, 'organizadores': 2, 'hara': 2, 'prov': 2, 'mierdx': 2, 'inutiles': 2, 'gobiernan': 2, 'venezuela': 2, 'juntar': 2, 'devuelvan': 2, 'personaje': 2, 'tidos': 2, 'panqueque': 2, 'claramente': 2, 'ofende': 2, 'acciones': 2, 'tóxica': 2, 'degenerados': 2, 'casta': 2, 'empiezan': 2, 'cobre': 2, 'maestros': 2, 'juntarse': 2, 'impune': 2, 'justamente': 2, 'león': 2, 'diferente': 2, 'cuidadosos': 2, 'pequeña': 2, 'permitió': 2, 'masa': 2, 'métodos': 2, 'motivo': 2, 'propios': 2, 'opinan': 2, 'saludo': 2, 'chilenos': 2, 'soldados': 2, 'durante': 2, 'presidencia': 2, 'pucha': 2, 'miente': 2, 'fuego': 2, 'thiago': 2, 'fuéramos': 2, 'robado': 2, 'dolar': 2, 'inversiones': 2, 'cauchari': 2, 'fantasma': 2, 'vieron': 2, 'estuvimos': 2, 'salón': 2, 'quedamos': 2, 'turismo': 2, 'canales': 2, 'conocen': 2, 'deveria': 2, 'miercoles': 2, '🙊': 2, 'exterior': 2, 'milagros': 2, 'hago': 2, 'caída': 2, 'técnico': 2, 'subían': 2, '🥩': 2, 'modelo': 2, 'inteligente': 2, 'prioridad': 2, 'energía': 2, 'limpia': 2, 'prensa': 2, 'juntando': 2, 'acompañamiento': 2, 'noble': 2, 'economía': 2, 'cambie': 2, 'valoren': 2, 'regala': 2, 'pequeñas': 2, 'supuesta': 2, 'rodean': 2, 'fuese': 2, 'pedían': 2, 'dedo': 2, 'pare': 2, 'amen': 2, 'pagina': 2, '🏃': 2, 'piedras': 2, 'saliendo': 2, 'quemar': 2, 'ambas': 2, 'chupando': 2, 'impresionante': 2, 'talento': 2, 'elegante': 2, 'mar': 2, 'piba': 2, 'hipocritas': 2, 'controlen': 2, 'ambiente': 2, '🙁': 2, 'crisis': 2, 'kun': 2, 'simplemente': 2, 'maestro': 2, 'chancho': 2, 'título': 2, '🤦🏽\\u200d♂️': 2, 'discusión': 2, 'vasta': 2, 'mentiras': 2, 'digamos': 2, 'flacos': 2, 'productores': 2, 'ingresos': 2, 'foto': 2, 'limpio': 2, 'lunes': 2, 'rio': 2, 'honesto': 2, 'valen': 2, 'youtube': 2, 'sancion': 2, 'economica': 2, 'ale': 2, 'merecido': 2, 'triunfo': 2, 'doy': 2, 'excelencia': 2, 'infelices': 2, 'alta': 2, 'tiraron': 2, 'quemaban': 2, 'gigantes': 2, 'sigo': 2, 'sacarlo': 2, 'idiota': 2, 'caradura': 2, 'aberrante': 2, 'garca': 2, 'violar': 2, 'local': 2, 'emprendimiento': 2, 'ayudan': 2, 'clw': 2, 'transporte': 2, '🙋🏻\\u200d♂️': 2, 'choferes': 2, 'uniformados': 2, 'limpias': 2, 'frecuencias': 2, 'am': 2, 'yu': 2, 'falopero': 2, 'vendría': 2, 'duros': 2, 'falopa': 2, 'ejército': 2, 'fondo': 2, 'legal': 2, 'solos': 2, 'afectados': 2, 'ovejas': 2, 'bolud': 2, 'corresponda': 2, 'crotos': 2, 'ignorante': 2, 'sucios': 2, 'tiras': 2, 'platita': 2, 'primer': 2, 'sabia': 2, 'tercera': 2, 'tratamiento': 2, 'siquiatra': 2, 'adolescentes': 2, 'denunciar': 2, 'belgrano': 2, 'nariz': 2, 'creado': 2, 'ajusten': 2, 'bajen': 2, 'famosos': 2, 'temprano': 2, 'narco': 2, 'merca': 2, 'corriente': 2, 'gendarmes': 2, 'gendarme': 2, 'chamuyo': 2, 'hueso': 2, 'fn': 2, 'vecino': 2, 'nietos': 2, 'tenerlos': 2, 'valentia': 2, 'cintura': 2, 'degenerado': 2, 'seguras': 2, 'nefasto': 2, 'tiren': 2, 'misiles': 2, 'anti': 2, 'tormenta': 2, 'diciendo': 2, 'llorando': 2, 'jaj': 2, 'pasará': 2, 'avenida': 2, 'ahorrando': 2, 'opciones': 2, 'diría': 2, 'encerrar': 2, 'títeres': 2, 'abusan': 2, 'bola': 2, 'perdio': 2, 'economico': 2, 'inversión': 2, 'éstas': 2, 'útiles': 2, 'fugan': 2, 'pasada': 2, 'tenian': 2, 'mentirosos': 2, 'pésima': 2, 'caguesen': 2, 'votandolo': 2, 'cansar': 2, 'aumentos': 2, 'pagas': 2, 'castiga': 2, 'reclama': 2, 'oligarcas': 2, 'dictador': 2, 'endeudando': 2, 'dólares': 2, 'limpieza': 2, 'extrañar': 2, 'entenderan': 2, 'clavo': 2, 'sordos': 2, 'educados': 2, 'ineptos': 2, 'aumenten': 2, 'bonos': 2, 'sufrimos': 2, 'miserable': 2, 'dejaste': 2, '😋': 2, 'fernandez': 2, 'parecer': 2, 'alimento': 2, 'queso': 2, 'valentía': 2, 'tiro': 2, 'derecha': 2, 'fanatismo': 2, 'vivimos': 2, 'quito': 2, 'merecemos': 2, 'oh': 2, 'murio': 2, 'pude': 2, '😥': 2, 'orgullosa': 2, 'enojada': 2, 'apenas': 2, 'cole': 2, 'juvilacion': 2, 'vice': 2, 'viaja': 2, 'sur': 2, '🧡': 2, 'triunfe': 2, 'transitar': 2, 'sabes': 2, 'chota': 2, 'ladrona': 2, 'tengas': 2, 'envidia': 2, 'calzones': 2, 'amiga': 2, 'mando': 2, 'tod': 2, 'consumen': 2, 'vecina': 2, 'generosidad': 2, 'tmb': 2, 'rendir': 2, 'kilo': 2, 'acabó': 2, 'caraduras': 2, 'formas': 2, 'presenta': 2, 'ponete': 2, 'piña': 2, 'empiece': 2, 'dona': 2, 'pavadas': 2, 'divierte': 2, 'opción': 2, 'enfermo': 2, 'elegido': 2, 'elegir': 2, 'quita': 2, 'corremos': 2, 'amigas': 2, 'permita': 2, 'agresor': 2, 'novio': 2, 'preocupado': 2, 'programa': 2, 'termine': 2, 'inmoral': 2, 'natural': 2, 'he': 2, 'delicia': 2, 'solar': 2, 'gas': 2, 'demuestra': 2, 'coman': 2, 'dificiles': 2, 'hospitales': 2, 'cobertura': 2, 'sanatorio': 2, 'necesite': 2, 'compartir': 2, 'juzgar': 2, 'personalidad': 2, 'hagas': 2, 'previo': 2, 'coima': 2, 'corte': 2, 'bandas': 2, 'ponerle': 2, 'cuidados': 2, 'genera': 2, 'aceites': 2, 'ej': 2, 'agradezco': 2, 'todavia': 2, 'administrativa': 2, 'tratamientos': 2, 'curar': 2, 'cáncer': 2, 'impotencia': 2, 'conveniencia': 2, 'absolutamente': 2, 'suya': 2, 'subiendo': 2, 'policial': 2, 'vestimenta': 2, 'pónganse': 2, 'mintiendo': 2, 'hectáreas': 2, 'cayendo': 2, 'emociona': 2, 'encuentro': 2, 'extraordinario': 2, 'matrimonio': 2, 'gustado': 2, 'materia': 2, 'quieras': 2, '💞': 2, 'admirable': 2, 'sobresalen': 2, 'vivio': 2, 'mire': 2, '🗣': 2, 'valiosos': 2, 'apoyarlos': 2, 'larvas': 2, 'pala': 2, 'imprimir': 2, 'albañil': 2, 'posta': 2, 'saca': 2, 'abandonan': 2, 'piense': 2, 'deportistas': 2, 'practican': 2, 'bastantes': 2, 'criaturas': 2, 'realice': 2, 'supuestamente': 2, 'crean': 2, 'conoce': 2, 'pirotecnia': 2, 'arreglo': 2, 'actividad': 2, 'porquerias': 2, 'esposa': 2, 'llegaron': 2, 'plazo': 2, 'fomenta': 2, 'mantenidos': 2, 'luchando': 2, 'pienso': 2, 'real': 2, 'normas': 2, 'pasamos': 2, 'cárceles': 2, 'legisladora': 2, 'ibas': 2, 'infancia': 2, 'declaración': 2, 'defendiendo': 2, 'mantenida': 2, 'funcionarios': 2, 'investiguen': 2, 'lesbianas': 2, 'han': 2, 'miles': 2, 'justifica': 2, 'nene': 2, 'criatura': 2, 'indefensa': 2, 'detalle': 2, 'entrega': 2, 'incluso': 2, 'quisieron': 2, 'bebé': 2, 'violador': 2, 'asesinato': 2, 'comienzan': 2, 'tuyo': 2, 'infeliz': 2, 'tengamos': 2, 'n': 2, 'abel': 2, 'maltratados': 2, 'terminen': 2, 'seguimiento': 2, 'completo': 2, 'remis': 2, 'quejarse': 2, 'vendidos': 2, 'falsa': 2, 'ingeniero': 2, 'circulación': 2, '🎂': 2, 'abuelito': 2, 'viejito': 2, 'conseguir': 2, 'lok': 2, 'colores': 2, 'recibido': 2, 'minería': 2, 'promo': 2, 'bendecido': 2, 'reciba': 2, 'boleto': 2, 'valora': 2, 'sepan': 2, 'salvara': 2, 'masivas': 2, 'comisión': 2, 'mñn': 2, 'pudran': 2, 'peronistas': 2, 'semanas': 2, 'época': 2, 'inteligencia': 2, 'primeros': 2, 'cuál': 2, 'berretas': 2, 'golpeando': 2, 'infierno': 2, 'eliminar': 2, 'cuarta': 2, 'pj': 2, '🥂': 2, 'yerba': 2, '🤨': 2, 'escolares': 2, 'daban': 2, 'álbum': 2, 'soga': 2, 'sarapura': 2, 'quitarle': 2, 'presas': 2, 'terminamos': 2, 'traer': 2, 'tome': 2, 'descendió': 2, 'salis': 2, 'burrada': 2, 'quedó': 2, 'metiendo': 2, 'aprenda': 2, 'iluminación': 2, 'boludiando': 2, 'maneja': 2, 'ríen': 2, 'dólar': 2, 'dirán': 2, '✨': 2, 'vestido': 2, 'diez': 2, 'pares': 2, 'reina': 2, 'coe': 2, 'controlando': 2, 'omicron': 2, 'pico': 2, 'genocidas': 2, 'papas': 2, 'contrabando': 2, 'coca': 2, 'mafiosos': 2, 'traje': 2, 'esperaba': 2, 'avalado': 2, 'enteramos': 2, 'sacarlos': 2, 'cualqiera': 2, 'diria': 2, 'susto': 2, 'cuidemos': 2, 'deudas': 2, 'liberan': 2, 'obligatorio': 2, 'regalen': 2, 'etcétera': 2, 'dejará': 2, 'contraproducente': 2, 'comercio': 2, 'manipulación': 2, 'comprados': 2, 'boe': 2, 'pronta': 2, 'recuperacion': 2, 'protegidos': 2, 'recupere': 2, 'fenómeno': 2, 'lindas': 2, '💪🏻': 2, 'adrian': 2, 'decirte': 2, 'existir': 2, 'presente': 2, 'carnavales': 2, 'cante': 2, '🎶': 2, '😌': 2, 'caramelo': 2, 'rabia': 2, 'jode': 2, 'verde': 2, 'palos': 2, 'pa': 2, 'daría': 2, 'compro': 2, 'num': 2, 'ciertas': 2, 'carajos': 2, 'logran': 2, 'partes': 2, 'transmitan': 2, 'libreto': 2, 'decían': 2, 'moscas': 2, 'tranquila': 2, 'cuido': 2, 'descontrol': 2, 'obligar': 2, 'prohibir': 2, 'serio': 2, 'inoculacion': 2, 'políticas': 2, 'maltrato': 2, 'sufrió': 2, 'niñez': 2, 'resultado': 2, 'desp': 2, 'llamarla': 2, 'cachorros': 2, 'velar': 2, 'hacerles': 2, 'gentes': 2, '😇': 2, 'descansar': 2, 'según': 2, 'suelo': 2, 'provecho': 2, 'rompen': 2, 'acostumbrados': 2, 'parados': 2, 'cultural': 2, '🌵': 2, 'ningun': 2, 'sepa': 2, 'costumbre': 2, 'sufrieron': 2, 'oposición': 2, 'socios': 2, 'altas': 2, 'ultima': 2, 'culpables': 2, 'brindan': 2, 'aprendiendo': 2, 'nuca': 2, 'raja': 2, 'chu': 2, 'máxima': 2, 'correcto': 2, 'pelear': 2, 'inteligentes': 2, 'asperezas': 2, 'reparten': 2, 'estaríamos': 2, 'robos': 2, 'ministro': 2, 'caminar': 2, 'foco': 2, 'corrupcion': 2, 'sobrevive': 2, 'sentarse': 2, 'emitir': 2, 'representan': 2, 'ridículos': 2, 'vota': 2, 'pagarle': 2, 'fmi': 2, 'narices': 2, 'llaman': 2, 'ademas': 2, 'entrada': 2, 'marcada': 2, 'transito': 2, 'limpiar': 2, 'clara': 2, 'señalización': 2, 'luninica': 2, 'colocando': 2, 'conos': 2, 'autopistas': 2, 'vehículos': 2, 'maimara': 2, 'televisión': 2, 'protejan': 2, 'punto': 2, 'hermosas': 2, 'podamos': 2, '😀': 2, 'tácita': 2, 'creciendo': 2, 'actitudes': 2, 'mamita': 2, 'cerro': 2, 'alegria': 2, 'os': 2, 'doblemente': 2, 'esperanza': 2, 'cansancio': 2, 'camaradas': 2, '👮\\u200d♂️': 2, '👮\\u200d♀️': 2, 'montañas': 2, 'momentos': 2, 'fín': 2, 'sargento': 2, 'honestamente': 2, 'parecía': 2, 'enferman': 2, 'masivo': 2, 'pánico': 2, 'psicológicamente': 2, '🥚': 2, 'disminuir': 2, 'maldita': 2, 'afecta': 2, 'indignante': 2, 'admirar': 2, 'juntada': 2, 'consiguen': 2, 'renunciar': 2, 'terminó': 2, 'kirchner': 2, 'gobernar': 2, 'masoquistas': 2, 'coherente': 2, 'polemica': 2, 'negativos': 2, 'consiga': 2, 'sacarle': 2, 'uso': 2, 'fueran': 2, 'comen': 2, 'económicamente': 2, 'animan': 2, 'intervención': 2, 'clarito': 2, 'regalar': 2, 'usen': 2, 'sana': 2, 'peleándose': 2, 'dificil': 2, 'dejes': 2, 'bajan': 2, 'inmortales': 2, 'tirado': 2, 'nudo': 2, 'ingreso': 2, 'allí': 2, 'bicho': 2, 'inconscientes': 2, 'ómicron': 2, 'suspendido': 2, 'conscientes': 2, 'pingo': 2, 'firme': 2, 'caguen': 2, 'marzo': 2, 'llenos': 2, 'queden': 2, 'libertinaje': 2, 'evento': 2, 'quejen': 2, 'quedarse': 2, 'participar': 2, 'bioseguridad': 2, 'desesperación': 2, 'bailes': 2, 'moralito': 2, 'abra': 2, 'meter': 2, 'vecinales': 2, 'presentar': 2, '😴': 2, 'qepd': 2, 'inservibles': 2, 'violentos': 2, 'asesino': 2, 'operativos': 2, 'viales': 2, 'restringir': 2, 'pocas': 2, 'cagones': 2, 'vedad': 2, 'boludez': 2, 'faltando': 2, 'viral': 2, 'reflejados': 2, 'reacción': 2, 'faltaba': 2, 'adorno': 2, 'vaso': 2, 'criados': 2, 'adulto': 2, 'aceptar': 2, 'sudor': 2, 'pie': 2, 'asiendo': 2, 'éramos': 2, 'cla': 2, 'yungas': 2, 'juez': 2, 'indefenso': 2, 'relación': 2, '💃': 2, 'decisiones': 2, 'dicho': 2, 'esquina': 2, 'juntan': 2, 'entregadas': 2, 'verdaderos': 2, 'tomando': 2, 'corren': 2, 'ensima': 2, 'acompañe': 2, 'filma': 2, 'usaron': 2, 'medias': 2, 'forros': 2, 'protocolo': 2, 'platos': 2, 'letra': 2, 'duermen': 2, 'red': 2, 'cómplices': 2, 'tenido': 2, 'individual': 2, 'castigar': 2, 'inconcientes': 2, 'contar': 2, 'paises': 2, 'riquezas': 2, 'curas': 2, 'pitocortos': 2, 'cazadores': 2, 'poli': 2, 'terribles': 2, 'jodan': 2, 'operativo': 2, 'tontos': 2, 'detienen': 2, 'delicuentes': 2, 'guste': 2, 'tele': 2, 'selección': 2, 'venir': 2, 'peregrinación': 2, 'vacunada': 2, 'hipocresía': 2, 'febrero': 2, 'perdón': 2, 'virtuales': 2, 'cruzar': 2, 'dietas': 2, 'transtorno': 2, 'psiquiatra': 2, 'guardias': 2, 'consultorios': 2, 'categoría': 2, 'soluciones': 2, 'cuadras': 2, 'estudio': 2, 'agarran': 2, 'faso': 2, 'comisario': 2, 'producir': 2, 'bicicletas': 2, 'dejarle': 2, 'contención': 2, 'quitar': 2, 'testimonio': 2, 'jente': 2, 'tomemos': 2, 'paja': 2, 'empáticos': 2, 'mental': 2, 'novedad': 2, 'agrupaciones': 2, 'requisitos': 2, 'rino': 2, 'servido': 2, 'clima': 2, 'regreso': 2, 'olvídate': 2, 'capital': 2, 'pedro': 2, 'hermosos': 2, 'hable': 2, 'privilegio': 2, 'duele': 2, 'gorilas': 2, 'combo': 2, 'doloroso': 2, 'vano': 2, 'adolecentes': 2, 'haria': 2, 'envenenada': 2, 'varios': 2, 'entiendan': 2, 'observa': 2, 'gendarmería': 2, '🔥': 2, 'honor': 2, 'lolito': 2, 'aparecen': 2, 'organismos': 2, 'levantan': 2, '😞': 2, 'consejo': 2, 'basural': 2, 'cariño': 2, 'incomparable': 2, 'prender': 2, 'viviendas': 2, 'muera': 2, 'angelito': 2, 'culpable': 2, 'rios': 2, 'llamaron': 2, 'manejando': 2, 'personajes': 2, 'sacarles': 2, 'cruza': 2, 'punteros': 2, 'cgan': 2, 'rejas': 2, 'gobernadores': 2, 'narcos': 2, 'aquellos': 2, 'paciencia': 2, 'tocaron': 2, 'gremialistas': 2, 'enfrentar': 2, 'actúan': 2, 'obviamente': 2, 'heche': 2, 'incompetentes': 2, 'mueve': 2, 'gasto': 2, 'pierda': 2, 'madrina': 2, 'protestar': 2, 'paradas': 2, 'cerradas': 2, 'víctima': 2, 'ignoran': 2, 'cuánto': 2, 'acordas': 2, 'detras': 2, 'córdoba': 2, 'agarraron': 2, 'alla': 2, 'calidad': 2, 'normales': 2, 'aveces': 2, 'barbaridad': 2, 'meterlo': 2, 'carga': 2, 'kirchnerista': 2, 'puros': 2, 'regalado': 2, 'picos': 2, 'palas': 2, 'acercan': 2, 'estadio': 2, 'empleado': 2, 'pertenecer': 2, 'exigen': 2, 'zánganos': 2, 'migajas': 2, 'convocan': 2, 'placer': 2, 'controles': 2, 'gustan': 2, 'entrevista': 2, 'básico': 2, 'bailan': 2, 'disfruten': 2, 'cantando': 2, 'pepa': 2, 'escuche': 2, 'preparar': 2, 'merienda': 2, 'api': 2, 'tucuman': 2, 'delinquen': 2, 'media': 2, 'gobernantes': 2, 'internarlo': 2, 'hunden': 2, 'cruz': 2, 'falten': 2, 'vendan': 2, 'materiales': 2, 'puesto': 2, 'alcahuete': 2, 'sanción': 2, 'sucedido': 2, 'acepta': 2, 'fuimos': 2, 'fiasco': 2, 'papelones': 2, 'tapabocas': 2, 'porta': 2, 'blanco': 2, 'apoyar': 2, 'pueblos': 2, 'ebriedad': 2, 'procure': 2, 'quedaron': 2, 'talleres': 2, 'inmorales': 2, 'mapuches': 2, 'lamas': 2, 'horror': 2, 'perjudican': 2, 'imitar': 2, 'pared': 2, 'realizó': 2, 'desubicados': 2, 'artistas': 2, 'declarar': 2, 'probable': 2, 'contaminación': 2, 'ambiental': 2, 'desarrollo': 2, 'fua': 2, 'controla': 2, 'sensacion': 2, 'caporal': 2, 'bailar': 2, 'monterrico': 2, 'fomentando': 2, 'próximas': 2, 'condenar': 2, 'alegres': 2, 'popular': 2, 'pensemos': 2, 'flores': 2, 'negra': 2, 'chocolates': 2, 'gracioso': 2, 'marcos': 2, 'pudiste': 2, 'cabecitas': 2, 'negras': 2, 'jujeñitos': 2, 'tormentas': 2, 'permitirán': 2, 'desmedidas': 2, 'paganos': 2, 'actor': 2, 'lamothe': 2, 'delinquir': 2, 'expulsar': 2, 'cantan': 2, 'diviertan': 2, 'estará': 2, 'peronia': 1, 'daba': 1, 'existencia': 1, 'extraños': 1, 'prospere': 1, 'refrescando': 1, 'pasau': 1, 'dependen': 1, 'peronchos': 1, 'gacha': 1, 'depender': 1, 'veredas': 1, 'ambulantes': 1, 'sobretodo': 1, 'bromatologico': 1, 'higiene': 1, 'choripanes': 1, 'milanesin': 1, 'tamales': 1, 'fritangas': 1, 'hca': 1, 'ladito': 1, 'indio': 1, 'bienvenida': 1, 'resbale': 1, 'suarez': 1, 'quispe': 1, 'mamaní': 1, 'crédito': 1, 'aguanta': 1, 'secuestro': 1, 'atropellar': 1, 'fugarse': 1, 'debía': 1, 'peronista': 1, 'rajada': 1, 'capturen': 1, 'reflexionen': 1, 'sobrellevar': 1, 'precavidos': 1, 'cuidandonos': 1, 'gastan': 1, 'hospedaje': 1, 'visita': 1, 'bardean': 1, 'ahuyentamos': 1, 'mentalidad': 1, 'gorbernador': 1, 'destacamento': 1, 'callendo': 1, 'contancia': 1, 'remendado': 1, 'haci': 1, 'penintenciaria': 1, 'entrara': 1, 'nacido': 1, 'mimo': 1, 'naci': 1, 'extraño': 1, 'sueter': 1, 'higienicas': 1, 'emponchadas': 1, 'empanadilla': 1, 'simbado': 1, 'simben': 1, 'alvaro': 1, 'millennialas': 1, 'harry': 1, 'machos': 1, 'alfa': 1, 'plateado': 1, 'version': 1, 'rocky': 1, 'drago': 1, 'denle': 1, 'kiere': 1, 'herencia': 1, 'hostia': 1, 'señas': 1, 'dejaría': 1, 'rock': 1, 'bastardeaban': 1, 'dragones': 1, 'gante': 1, 'aprendió': 1, 'abecedario': 1, 'cumpliste': 1, 'importate': 1, 'ganzadas': 1, 'dejense': 1, 'morbosa': 1, 'dejarse': 1, 'usd': 1, 'latinoaméricanos': 1, 'liberalismo': 1, 'salvará': 1, '🐍': 1, 'latinoamericanos': 1, 'quejo': 1, 'seguirlo': 1, 'bolo': 1, 'vendo': 1, 'terreno': 1, 'bañar': 1, 'mp': 1, 'abogacia': 1, 'reja': 1, 'wsp': 1, 'acerque': 1, 'despilfarrar': 1, 'estudiante': 1, 'cabo': 1, 'nombre': 1, 'vie': 1, 'comisarías': 1, 'prehistoria': 1, 'índices': 1, 'garra': 1, 'levantarlo': 1, 'denuncian': 1, 'exista': 1, 'regulación': 1, 'salvaguardar': 1, 'levanten': 1, 'restos': 1, 'pasarelas': 1, 'bici': 1, 'sendas': 1, 'apena': 1, 'abollados': 1, 'universidades': 1, 'jajsjaj': 1, 'culeao': 1, 'escapau': 1, 'contrata': 1, 'propaganda': 1, 'changa': 1, '✌🏻': 1, 'chiflada': 1, 'puterio': 1, 'productivo': 1, 'publicando': 1, 'tonteras': 1, 'amar': 1, 'sencillas': 1, 'tránsitos': 1, 'femicidios': 1, 'falsas': 1, 'profesor': 1, 'hackear': 1, 'humanista': 1, 'alegrón': 1, 'convivimos': 1, 'medicado': 1, 'preservativos': 1, 'imbéciles': 1, 'venia': 1, 'imbécil': 1, 'quitan': 1, 'licencias': 1, 'ynadie': 1, 'autito': 1, 'yzas': 1, 'ybuscan': 1, 'chatarreros': 1, 'autopolish': 1, 'chala': 1, 'soportaría': 1, 'típico': 1, 'riber': 1, 'incendiada': 1, 'mundomental': 1, 'garrotiada': 1, 'mancha': 1, 'borra': 1, 'afanadas': 1, 'liberadores': 1, 'modizte': 1, 'descendidos': 1, 'llorones': 1, 'dicha': 1, 'extra': 1, 'actores': 1, 'chapas': 1, 'avaces': 1, 'correr': 1, 'gaucho': 1, 'quise': 1, 'alcanzaba': 1, 'pierdo': 1, 'ilusión': 1, 'concretar': 1, 'ejercer': 1, 'añorado': 1, 'colectora': 1, 'parada': 1, 'minima': 1, 'buzo': 1, 'ensucias': 1, 'destructora': 1, 'hogares': 1, 'desilusio': 1, 'pésimo': 1, 'sacate': 1, 'anteojos': 1, 'principalmente': 1, 'merecidos': 1, 'función': 1, 'intentando': 1, 'pension': 1, 'papel': 1, 'culpar': 1, 'mendieta': 1, 'pqtp': 1, 'solicitar': 1, 'levantó': 1, 'boliche': 1, 'seguís': 1, 'levanta': 1, 'guardia': 1, 'entregué': 1, 'números': 1, 'estuvieron': 1, 'siesta': 1, 'flete': 1, 'presentan': 1, 'entero': 1, 'jubilen': 1, 'guarde': 1, 'parió': 1, 'detenidos': 1, 'violarodores': 1, 'darlos': 1, 'fino': 1, 'custodiando': 1, 'domicilios': 1, 'particulares': 1, 'fisiquini': 1, 'homofobicos': 1, 'duelen': 1, 'lgtb': 1, 'intencionado': 1, 'rosquete': 1, 'acompañarlos': 1, 'peores': 1, 'biblia': 1, 'cristian': 1, 'corresponsal': 1, 'instruso': 1, 'oa': 1, 'lw': 1, 'indemnización': 1, 'tribunal': 1, 'condenaron': 1, 'sacudir': 1, 'cuñado': 1, 'junten': 1, 'orinen': 1, 'defequen': 1, 'promedio': 1, 'korrupcion': 1, 'techos': 1, 'ajenos': 1, 'tené': 1, 'moleste': 1, 'chistoso': 1, 'bonito': 1, 'tierno': 1, 'felicitaciónes': 1, 'viajó': 1, 'cruces': 1, 'caseros': 1, 'tonta': 1, 'river': 1, 'vendedor': 1, 'ambulante': 1, 'carrito': 1, 'guardalos': 1, 'llevarlos': 1, 'siguiente': 1, 'bienen': 1, 'emptia': 1, 'culos': 1, 'eña': 1, 'utilizando': 1, 'depósito': 1, 'aseguro': 1, 'fresca': 1, 'prefieren': 1, 'letras': 1, 'suertes': 1, 'dobles': 1, 'triples': 1, 'filas': 1, 'rebien': 1, 'muestre': 1, 'demandar': 1, 'firmo': 1, 'operarse': 1, 'prácticamente': 1, 'caminando': 1, 'puteaban': 1, 'erradicar': 1, 'machito': 1, 'acabar': 1, 'naturalizó': 1, 'sentarte': 1, 'amontonan': 1, 'drogarse': 1, 'molestando': 1, 'enriquecen': 1, 'costas': 1, 'inexpertos': 1, 'corríeron': 1, 'hereditaria': 1, 'cuidando': 1, 'durarías': 1, 'hs': 1, 'efectivos': 1, 'mamertos': 1, 'eléctrica': 1, 'kiso': 1, 'duerme': 1, 'colchón': 1, 'cargar': 1, 'cu': 1, 'baratos': 1, 'colecta': 1, 'compra': 1, 'tortuga': 1, 'despacito': 1, 'peleamos': 1, 'trabajá': 1, 'bancate': 1, 'proteje': 1, 'encargará': 1, 'pudiente': 1, 'andas': 1, 'techo': 1, 'indigente': 1, 'miami': 1, 'maratónica': 1, 'consolidar': 1, 'alternativa': 1, 'izquierdismo': 1, 'comunismo': 1, 'candidato': 1, 'hacerce': 1, 'examen': 1, 'carnicería': 1, '😫': 1, 'remal': 1, 'discípulo': 1, 'satanás': 1, 'mochilas': 1, 'tdo': 1, 'agradecidas': 1, 'pronafe': 1, 'reducen': 1, 'alcanzaría': 1, 'lagrimas': 1, 'inocencia': 1, 'fidelidad': 1, 'facherito': 1, 'chuli': 1, 'kuliau': 1, 'renovate': 1, 'buscate': 1, 'iluminen': 1, 'comercios': 1, 'penumbra': 1, 'casualidad': 1, 'repartieron': 1, 'senado': 1, 'contagie': 1, 'dlos': 1, 'progreso': 1, 'defraudar': 1, 'inconsciente': 1, 'encontro': 1, 'destino': 1, 'mota': 1, 'leguas': 1, 'junando': 1, 'chorear': 1, 'incompetente': 1, 'aplicar': 1, 'cursillo': 1, 'capacitando': 1, 'estupidos': 1, 'exigencias': 1, 'cordinan': 1, 'inscribir': 1, 'estudiando': 1, 'delicado': 1, 'protejen': 1, 'amoldarse': 1, 'rendimiento': 1, 'desastroso': 1, 'inscriben': 1, 'redactado': 1, '🤯': 1, 'homero': 1, 'morder': 1, 'vuelvas': 1, '🙂': 1, 'conductor': 1, 'aprovecharon': 1, 'hiba': 1, 'justicialista': 1, 'diversidad': 1, 'dis': 1, 'bancas': 1, 'avance': 1, 'propiedad': 1, 'forzando': 1, 'salames': 1, 'entradera': 1, 'defendiste': 1, 'párese': 1, 'sueltan': 1, 'entonses': 1, 'cesos': 1, 'cerebrito': 1, 'reaccionas': 1, 'pegaron': 1, 'chatarra': 1, 'piperos': 1, 'cabida': 1, 'manya': 1, 'idolatran': 1, 'debiera': 1, 'discrimina': 1, 'aya': 1, 'menosprecio': 1, 'jujeñ': 1, 'tratamos': 1, 'amabilidad': 1, 'latinoamérica': 1, 'quini': 1, 'agarre': 1, 'guantes': 1, 'blancos': 1, 'estarian': 1, 'piñas': 1, 'ilusos': 1, 'insultan': 1, 'vallansen': 1, 'envidiosos': 1, 'bajeza': 1, 'felicitos': 1, 'preocupen': 1, 'simos': 1, 'odian': 1, 'recuerdes': 1, 'ingresaste': 1, 'jardín': 1, 'cantarlo': 1, 'necesario': 1, 'fer': 1, 'animalada': 1, 'dr': 1, 'soketes': 1, 'mándalo': 1, 'dejo': 1, 'uniformado': 1, 'joderle': 1, 'mear': 1, 'embustero': 1, 'miley': 1, 'drogado': 1, 'garcas': 1, 'politocos': 1, 'bajaron': 1, 'acsesores': 1, 'bancamos': 1, 'creó': 1, 'apostar': 1, 'espectador': 1, 'afilie': 1, 'latido': 1, 'propuesta': 1, 'estafando': 1, 'parques': 1, 'solicitan': 1, 'mangos': 1, 'autorizo': 1, 'instalación': 1, 'evidentemente': 1, 'abortar': 1, 'fallan': 1, 'asesinar': 1, 'diferentes': 1, 'esterilizarse': 1, 'cuero': 1, 'funden': 1, 'nochebuena': 1, 'víspera': 1, 'respectivamente': 1, 'recuperarse': 1, 'apoyaron': 1, 'ingleses': 1, 'solucionó': 1, 'conflicto': 1, 'raúl': 1, 'alfonsín': 1, 'lejba': 1, 'celebrar': 1, 'pap': 1, 'qliao': 1, 'sorpresa': 1, 'argentinito': 1, 'bordar': 1, 'delantal': 1, 'guardapolvos': 1, 'volverán': 1, 'negocian': 1, 'poncho': 1, 'melancolía': 1, 'pratriotismo': 1, 'comenzas': 1, 'vostas': 1, 'ascender': 1, 'intendenta': 1, 'xuma': 1, 'cannava': 1, 'naruralesa': 1, 'neocatecumenos': 1, 'aéreo': 1, 'ciudades': 1, 'seleccionados': 1, 'certificado': 1, 'exponen': 1, 'hello': 1, 'rienn': 1, 'caminos': 1, 'mejoran': 1, 'mantenimiento': 1, 'andamos': 1, 'nombres': 1, 'donar': 1, 'kieren': 1, 'emborracharse': 1, 'mearles': 1, 'ksas': 1, 'ensuciarlas': 1, 'culpan': 1, 'soquetes': 1, 'siquiatrico': 1, 'facturar': 1, 'convicciones': 1, 'kukas': 1, 'macristas': 1, 'requisito': 1, 'conferencias': 1, 'hoyo': 1, 'militando': 1, 'haz': 1, 'careta': 1, 'ei': 1, 'ife': 1, 'eleciones': 1, 'ganadores': 1, 'conteniner': 1, 'info': 1, 'abc': 1, 'dijieron': 1, 'carnes': 1, 'productos': 1, '🌭': 1, '🍕': 1, '🍔': 1, 'defensores': 1, 'polentero': 1, 'peregrinar': 1, 'asegúrense': 1, 'ancianos': 1, 'circovid': 1, 'gestiona': 1, 'avanzando': 1, 'gastando': 1, 'predio': 1, 'mugrosos': 1, 'copiar': 1, 'grabando': 1, 'yanquis': 1, 'hacto': 1, 'multiplicar': 1, 'haría': 1, 'bendiciendo': 1, 'totales': 1, 'finanzas': 1, 'patron': 1, 'fuentes': 1, 'fomenten': 1, 'medianas': 1, 'cubrir': 1, 'atorrantes': 1, 'calvario': 1, 'festejan': 1, 'clubes': 1, 'campeonatito': 1, 'fortaleciendo': 1, 'lazos': 1, 'traigan': 1, 'rebes': 1, 'gatitos': 1, 'callejeros': 1, 'metieron': 1, 'afine': 1, 'burra': 1, 'analfabeta': 1, 'desuso': 1, 'sonamos': 1, 'chambear': 1, 'acordar': 1, 'prenderse': 1, 'déjenlos': 1, 'lanzando': 1, 'nazis': 1, 'escupir': 1, 'acompañar': 1, 'terroristas': 1, 'muriéndose': 1, 'fotuna': 1, 'jodann': 1, 'universal': 1, 'noma': 1, 'talentoso': 1, 'invadiendo': 1, 'doctor': 1, 'desaforados': 1, 'ronpen': 1, 'destrosarlo': 1, 'agurios': 1, 'gestion': 1, 'nepe': 1, 'buenísima': 1, '🌲': 1, 'arboles': 1, 'aburridos': 1, 'empesas': 1, 'ingenios': 1, 'mortandad': 1, 'divas': 1, 'juntaron': 1, 'aceite': 1, 'ocupan': 1, 'económicas': 1, 'yenandole': 1, 'vosillos': 1, 'extenderla': 1, 'iniciativa': 1, 'positivos': 1, 'inundar': 1, 'enteren': 1, 'abanderada': 1, 'escuelita': 1, 'sandwiches': 1, 'milanga': 1, 'tucumanos': 1, 'exagerado': 1, 'riquísimo': 1, 'llevamos': 1, 'pollera': 1, 'rodilla': 1, 'generación': 1, 'errores': 1, 'futbolista': 1, 'sequía': 1, 'pasto': 1, 'forraje': 1, 'cría': 1, 'ganado': 1, 'resguarda': 1, 'incansablemente': 1, 'vidadas': 1, 'plataneta': 1, 'alquilando': 1, 'alcanzaria': 1, 'autartico': 1, 'hp': 1, 'departamento': 1, 'gratuito': 1, 'empanadita': 1, 'napos': 1, 'luciana': 1, 'araya': 1, 'pel': 1, 'duela': 1, 'represemte': 1, 'moquis': 1, 'serpiente': 1, 'mubdo': 1, 'chamuyen': 1, 'cfk': 1, 'siufi': 1, 'duerman': 1, 'repondran': 1, 'maxiking': 1, 'densidad': 1, 'dejando': 1, 'escuchando': 1, 'muchísima': 1, 'coronel': 1, 'poroto': 1, 'parásito': 1, 'traidor': 1, 'pinochin': 1, 'lavate': 1, 'cola': 1, 'tomate': 1, 'probado': 1, 'esconden': 1, 'cínico': 1, 'zorra': 1, 'armado': 1, 'perico': 1, 'desgraciadamente': 1, 'atencion': 1, 'malísima': 1, 'farmacia': 1, 'completas': 1, 'hdps': 1, 'injusta': 1, 'perderlo': 1, 'temporal': 1, 'dria': 1, 'bendice': 1, 'celestial': 1, 'demasiados': 1, 'dementes': 1, 'estudió': 1, 'terciario': 1, 'haganse': 1, 'rayar': 1, 'cul': 1, 'percibir': 1, 'despidan': 1, 'digna': 1, 'adaptado': 1, 'ruedas': 1, 'limpien': 1, 'coles': 1, 'cuentan': 1, 'climatizacion': 1, 'identificados': 1, 'limpiads': 1, 'internas': 1, 'colectiveros': 1, 'contrato': 1, 'pretenden': 1, 'vivientes': 1, 'mrd': 1, 'titulo': 1, 'sal': 1, 'diccionario': 1, 'arroz': 1, 'sustancia': 1, 'requiera': 1, 'acepten': 1, 'adictos': 1, 'gastronómicos': 1, 'faloperos': 1, 'yegua': 1, 'chuti': 1, 'argenta': 1, 'acompañantes': 1, '👅': 1, '👄': 1, '👉': 1, 'revientensen': 1, 'durloc': 1, 'visitan': 1, 'cociencia': 1, 'limpios': 1, 'reciclar': 1, 'roñosa': 1, 'alzar': 1, 'dejarla': 1, 'comportar': 1, 'hábito': 1, 'inmunda': 1, 'creceremos': 1, 'diario': 1, 'ustded': 1, 'fundacion': 1, 'huésped': 1, 'proaborto': 1, 'histórico': 1, 'atractivo': 1, 'aprovechar': 1, 'chamuyando': 1, 'aplaudidores': 1, 'vacunaron': 1, 'renunciando': 1, 'impunidad': 1, 'dirección': 1, 'moustruo': 1, 'ridiculez': 1, 'encargar': 1, 'cualkier': 1, 'lokito': 1, 'resuelto': 1, 'tomas': 1, 'sicópata': 1, 'sicólogo': 1, 'mejore': 1, 'enfermó': 1, 'mezclar': 1, 'heladerias': 1, 'adherida': 1, 'pinguino': 1, 'sorprendido': 1, 'menú': 1, 'compas': 1, 'maximus': 1, 'flambeada': 1, 'ternera': 1, 'cambió': 1, 'blandita': 1, 'vegetales': 1, 'adelantado': 1, 'besito': 1, 'suegra': 1, 'té': 1, '👺': 1, 'cucas': 1, 'mediáticos': 1, 'ventilando': 1, 'pu': 1, 'diamante': 1, 'chingo': 1, 'prendidos': 1, 'usaste': 1, 'conclusión': 1, 'habrás': 1, 'espérate': 1, 'llegué': 1, 'bulla': 1, 'ruidos': 1, 'cerrando': 1, 'zombies': 1, 'abastece': 1, 'sinonimo': 1, 'contrabandista': 1, 'coroico': 1, 'pancho': 1, 'curva': 1, 'kmxhora': 1, 'dicriminadora': 1, 'dominado': 1, 'cortito': 1, 'epiléptico': 1, 'servis': 1, 'contratio': 1, 'comun': 1, 'denominador': 1, 'femicidas': 1, 'celos': 1, 'ruptura': 1, 'duelo': 1, 'separación': 1, 'complejo': 1, 'herido': 1, 'catalina': 1, 'exámenes': 1, 'materias': 1, 'resamos': 1, 'metía': 1, 'ahoga': 1, 'checho': 1, 'viejita': 1, 'verán': 1, 'particularmente': 1, 'abuelas': 1, 'goza': 1, 'perdería': 1, 'nieto': 1, 'obliguen': 1, 'ndej': 1, 'frutos': 1, 'repugnante': 1, 'estarán': 1, 'panueles': 1, 'verdes': 1, 'moustro': 1, 'buscarlo': 1, 'pantalón': 1, 'deportivo': 1, 'sienten': 1, 'abusadas': 1, 'causó': 1, 'indignación': 1, 'polleritas': 1, 'cortas': 1, 'cómoda': 1, 'apropiada': 1, 'tranquilas': 1, 'fas': 1, 'dijeron': 1, 'granizo': 1, 'pegan': 1, 'anuncian': 1, 'temperatura': 1, 'gota': 1, 'vicio': 1, 'corrupción': 1, 'destruida': 1, '😰': 1, 'roto': 1, '🐷': 1, 'sarpados': 1, 'campera': 1, 'arrecho': 1, 'desesperado': 1, 'agrran': 1, 'carmen': 1, 'cueste': 1, '😈': 1, '👏🏽': 1, 'llenarle': 1, 'alberso': 1, 'compañía': 1, 'fíjense': 1, 'apa': 1, 'almuerzo': 1, 'restaurante': 1, 'sirviendo': 1, 'milanesa': 1, 'supongamos': 1, 'comerán': 1, 'caviar': 1, 'excesivo': 1, 'actual': 1, 'chanchullos': 1, 'carísimo': 1, 'abraza': 1, 'lágrimas': 1, 'descansas': 1, 'psiquiátrica': 1, 'tratarla': 1, 'picole': 1, 'delta': 1, 'comunitario': 1, 'rusia': 1, 'sorprenda': 1, 'resguardado': 1, 'séa': 1, 'encerrame': 1, 'broma': 1, 'apto': 1, 'sensibles': 1, 'postean': 1, 'provinciales': 1, 'ocultar': 1, 'revista': 1, 'farandulero': 1, 'ridiculeces': 1, 'contribuyan': 1, 'serias': 1, 'intelectual': 1, 'aportar': 1, 'hartantes': 1, 'farándula': 1, 'dediquensen': 1, 'pelotudes': 1, 'bomba': 1, 'lamebotas': 1, 'clarinete': 1, 'pretendiendo': 1, 'crímenes': 1, 'mamás': 1, 'asesinan': 1, 'carceles': 1, 'fallando': 1, 'resolverlo': 1, 'vayanse': 1, 'fierro': 1, 'lucas': 1, 'adquirir': 1, 'km': 1, 'tcl': 1, 'fravega': 1, 'ofertas': 1, 'cyber': 1, 'monday': 1, 'anterior': 1, 'visibilizar': 1, 'vigilante': 1, 'tapado': 1, 'conurbano': 1, 'humos': 1, 'manda': 1, 'oligarca': 1, 'limpiamos': 1, 'perdona': 1, 'códigos': 1, 'quejándose': 1, 'ropan': 1, 'agachamos': 1, 'laborando': 1, 'dejaremos': 1, 'votarlo': 1, 'esperaban': 1, 'diqe': 1, 'lloraran': 1, 'sacaron': 1, 'postuló': 1, 'detestable': 1, 'ladron': 1, 'plantar': 1, '👌🏾': 1, 'necias': 1, 'oídos': 1, 'autocrítica': 1, 'pobrísima': 1, 'minimamente': 1, 'chango': 1, 'sobresale': 1, 'pensamos': 1, 'dejamos': 1, 'símbolos': 1, 'patrios': 1, 'prometen': 1, 'penciones': 1, 'pencion': 1, 'feudales': 1, 'puedas': 1, 'representando': 1, 'vení': 1, 'tiraste': 1, 'telefono': 1, 'jodia': 1, 'aprendi': 1, 'acostumbrando': 1, 'pelutudos': 1, 'gorila': 1, 'instantánea': 1, 'pensándolo': 1, 'fresquito': 1, 'plato': 1, 'vendria': 1, 'sémola': 1, 'idiotez': 1, 'alcanze': 1, 'queje': 1, 'rica': 1, 'transición': 1, 'culata': 1, 'sinceramente': 1, 'roben': 1, 'militar': 1, 'entrenamiento': 1, 'turnando': 1, 'victoria': 1, 'puto': 1, 'cavernicola': 1, 'mediocre': 1, 'adoro': 1, 'finales': 1, 'cayaditos': 1, 'exterminacion': 1, 'calento': 1, 'todes': 1, 'patriarcado': 1, 'resumen': 1, 'inventados': 1, 'fantasmas': 1, 'segui': 1, 'chabon': 1, 'carteleras': 1, 'maltratadores': 1, 'trasmitir': 1, 'subsidiados': 1, 'urbano': 1, 'pagarán': 1, 'concepto': 1, 'navo': 1, 'achicale': 1, 'quedanos': 1, 'aceptación': 1, 'condición': 1, 'jujeñes': 1, 'analfabeto': 1, 'quitandole': 1, '🏳️\\u200d🌈': 1, '🏳️\\u200d⚧️': 1, 'ase': 1, 'veztirse': 1, 'vistanse': 1, 'normalmente': 1, 'cotidianamente': 1, 'repudio': 1, 'insiste': 1, 'cloro': 1, 'empezó': 1, 'satrapa': 1, 'acecha': 1, 'preferencia': 1, 'gue': 1, 'sali': 1, 'machirulos': 1, 'preocupate': 1, 'comieron': 1, 'escabiarr': 1, 'tomo': 1, 'veterana': 1, 'delirio': 1, 'macrismo': 1, 'saqueo': 1, 'millonaria': 1, 'investigar': 1, 'falsedad': 1, 'armaron': 1, 'f': 1, 'nacion': 1, 'cinica': 1, 'involucró': 1, 'avara': 1, 'codicia': 1, 'llegas': 1, 'talones': 1, 'borracha': 1, 'inservible': 1, 'meto': 1, 'saliste': 1, 'frufru': 1, 'neurona': 1, 'recupera': 1, 'festeja': 1, 'gentil': 1, 'corrí': 1, 'negrada': 1, 'ministros': 1, 'presidiarios': 1, 'segurito': 1, 'largan': 1, 'terrenito': 1, 'aquel': 1, 'paraque': 1, 'mamaracho': 1, 'saldremos': 1, 'endeudaron': 1, 'pasha': 1, 'nerviosho': 1, 'informativo': 1, 'opositor': 1, 'pareces': 1, 'clarín': 1, 'mamerto': 1, 'canon': 1, 'curreo': 1, 'indignan': 1, 'canalladas': 1, 'ojitos': 1, 'cachivache': 1, 'maldts': 1, 'enferm': 1, 'resentidas': 1, 'hcen': 1, 'llnar': 1, 'tristesa': 1, 'portación': 1, 'manipuladores': 1, 'coma': 1, 'desquiciada': 1, 'favorece': 1, 'delinkuentes': 1, 'gorriar': 1, 'sarcástico': 1, 'vé': 1, 'titere': 1, 'manejado': 1, 'produce': 1, 'kilombo': 1, 'ventas': 1, 'vendiero': 1, 'pasaje': 1, 'poray': 1, 'propuso': 1, 'concejal': 1, 'protección': 1, 'hermanas': 1, 'minimo': 1, 'sansion': 1, 'television': 1, 'fila': 1, 'instructivo': 1, 'educativo': 1, 'degerado': 1, 'trabajado': 1, 'doña': 1, 'asuncion': 1, 'miman': 1, 'probar': 1, 'regalito': 1, 'caja': 1, 'ricas': 1, 'abiendo': 1, 'tecnología': 1, 'cosinas': 1, 'hidrógeno': 1, 'dificultad': 1, 'profecion': 1, 'siguieron': 1, 'guiando': 1, '🏩': 1, 'chupe': 1, 'estes': 1, 'conosiendo': 1, '👊': 1, 'épocas': 1, 'comparacion': 1, 'aprietes': 1, 'pordoquier': 1, 'dt': 1, 'indispensable': 1, 'temple': 1, 'capó': 1, 'epoca': 1, 'franchescoli': 1, 'perfil': 1, 'contundentes': 1, 'directiva': 1, 'increible': 1, 'hulk': 1, 'spider': 1, 'man': 1, 'incomparables': 1, 'simpatizante': 1, 'exitosos': 1, 'ganó': 1, 'veran': 1, 'cumplo': 1, 'publico': 1, 'isla': 1, 'apareció': 1, 'podrido': 1, 'stos': 1, 'conocemos': 1, 'reventar': 1, 'cuetes': 1, 'pendejada': 1, 'incumbe': 1, 'vayance': 1, 'pmql': 1, 'apoyen': 1, 'alomejor': 1, 'yegaria': 1, 'juzguen': 1, 'juzgados': 1, 'cambiará': 1, 'ciela': 1, 'cortar': 1, 'serías': 1, 'empiecen': 1, 'discrimino': 1, 'seda': 1, 'traba': 1, 'resintió': 1, 'física': 1, 'sobreseimiento': 1, 'indica': 1, 'suprema': 1, 'contando': 1, 'asegurándose': 1, 'amanecer': 1, 'suicdados': 1, 'tribunales': 1, 'chúpate': 1, 'mandarina': 1, 'escupi': 1, 'carocitos': 1, 'cementerio': 1, 'pudrirse': 1, 'tarro': 1, 'soldado': 1, 'voluntario': 1, 'regimiento': 1, 'infantería': 1, 'patricios': 1, 'carrusel': 1, 'mandar': 1, 'sintió': 1, 'irreversible': 1, 'interesante': 1, 'beneficioso': 1, 'noches': 1, 'charla': 1, 'puse': 1, 'comentar': 1, 'principito': 1, 'desabastecimiento': 1, 'recorte': 1, 'comodin': 1, 'linea': 1, 'cocinero': 1, 'natura': 1, 'cañuelas': 1, 'evolucionando': 1, 'cancer': 1, 'paladar': 1, 'exelentes': 1, 'sumado': 1, 'cirugía': 1, 'operación': 1, 'progenitores': 1, 'evalúen': 1, 'psicoemocional': 1, 'populismo': 1, 'auh': 1, 'alimentaria': 1, 'cuántos': 1, 'creciera': 1, 'árbol': 1, 'empapados': 1, 'dañiña': 1, 'desaparezca': 1, 'resurgira': 1, 'obro': 1, 'vergonzante': 1, 'utilizo': 1, 'vicepresidencia': 1, 'lavandote': 1, 'quedar': 1, 'impunes': 1, 'asegurarse': 1, 'fanáticos': 1, 'importaria': 1, 'riéndose': 1, 'verdades': 1, 'investigación': 1, 'pedorrada': 1, 'conformar': 1, 'idioteces': 1, 'politiqueros': 1, 'pedorra': 1, 'ocurrirá': 1, 'capturar': 1, 'fugitivo': 1, 'aprendidos': 1, 'jujy': 1, 'milicos': 1, 'bcra': 1, 'quedando': 1, 'disponibilidad': 1, 'regulaciones': 1, 'agarrense': 1, 'rencuentro': 1, 'conocerlos': 1, 'pedido': 1, 'aprendido': 1, 'argetina': 1, 'detenga': 1, 'has': 1, 'dulzura': 1, 'personita': 1, 'demostras': 1, 'prepara': 1, 'estudiosos': 1, 'competentes': 1, 'soberana': 1, 'mujre': 1, 'premiaba': 1, 'medalla': 1, 'agarren': 1, 'monedas': 1, 'seguiré': 1, 'llegara': 1, 'veses': 1, 'cajas': 1, 'navideñas': 1, 'jubilados': 1, 'deriva': 1, 'arreglado': 1, 'cuestionado': 1, 'premio': 1, 'presidenta': 1, 'despidió': 1, 'repleta': 1, 'decirle': 1, 'conclusiones': 1, 'primeras': 1, 'barco': 1, 'hunde': 1, 'creé': 1, 'ridiculo': 1, 'criterio': 1, 'cordura': 1, 'referirse': 1, 'terminemos': 1, 'muerdas': 1, 'involucrarnos': 1, 'indefensos': 1, 'golpearlos': 1, 'stas': 1, 'sueltas': 1, 'mate': 1, 'empezando': 1, 'preocupa': 1, 'colación': 1, 'respectivo': 1, 'entregando': 1, 'inspección': 1, 'rápidamente': 1, 'juesa': 1, 'acesinas': 1, 'ridículas': 1, 'figuretis': 1, 'polémicas': 1, 'absurdas': 1, 'comentan': 1, 'indignados': 1, '🤷🏻\\u200d♀️': 1, 'aises': 1, 'miseriar': 1, 'pretenciosos': 1, 'mérito': 1, 'compartido': 1, 'ridiculizando': 1, 'quiso': 1, 'antonella': 1, 'defensa': 1, 'economia': 1, 'planificación': 1, 'largo': 1, 'costado': 1, 'hermos': 1, 'clonarlo': 1, 'alimentarse': 1, 'propina': 1, 'mhierdha': 1, 'facturan': 1, 'serian': 1, 'caghar': 1, 'patas': 1, 'bolicheros': 1, 'infringir': 1, 'intérpretes': 1, 'boludces': 1, 'flor': 1, 'aparato': 1, 'asecinos': 1, 'inoperantes': 1, 'pribatisaran': 1, 'mantenerse': 1, 'procesado': 1, 'sobreseída': 1, 'proponer': 1, 'amparen': 1, 'perspectiva': 1, 'sientas': 1, 'lucio': 1, 'espantoso': 1, 'ridícula': 1, 'callada': 1, 'piojo': 1, 'resucitado': 1, 'aqu': 1, 'burocracia': 1, 'aberrantes': 1, 'exclamó': 1, 'honorable': 1, 'cuídalo': 1, 'comiendo': 1, 'genta': 1, 'parasito': 1, 'tinieblas': 1, 'asesinaron': 1, 'truncaron': 1, 'protegiéndote': 1, 'libere': 1, 'princesita': 1, 'preciosa': 1, 'ciber': 1, 'institución': 1, 'aprovechan': 1, 'fuy': 1, 'organización': 1, 'descarados': 1, 'marche': 1, 'cuidada': 1, 'violación': 1, 'excepción': 1, 'pequeñito': 1, 'múltiples': 1, 'encubre': 1, '\\U0001f971': 1, 'sacerdotes': 1, 'encubren': 1, 'uien': 1, 'defiende': 1, 'fomentan': 1, 'segun': 1, 'conbeniencia': 1, 'mojado': 1, 'camas': 1, 'clavos': 1, 'monte': 1, 'lechon': 1, 'logres': 1, 'exprese': 1, 'acepte': 1, 'vulnerar': 1, 'cres': 1, 'revez': 1, 'extraterrestre': 1, 'comparto': 1, 'obliga': 1, 'conciente': 1, 'atrasados': 1, 'encuentren': 1, 'provoco': 1, 'loquito': 1, 'teniendi': 1, 'decarada': 1, 'goberno': 1, 'vales': 1, 'esforzada': 1, 'defisile': 1, 'drillo': 1, 'inspiró': 1, 'peliculas': 1, 'artista': 1, 'pierdas': 1, 'sonrisa': 1, 'sincera': 1, 'amarlo': 1, 'pinto': 1, 'toques': 1, 'famoso': 1, 'fanaticas': 1, 'gomas': 1, 'inyección': 1, 'abandonadas': 1, 'usticia': 1, 'pof': 1, 'nacidos': 1, 'apart': 1, 'crianza': 1, 'repetir': 1, 'niñ': 1, 'golpiadora': 1, 'perfecta': 1, 'recalcadicima': 1, 'lora': 1, 'reputa': 1, 'borrar': 1, 'raya': 1, 'tupé': 1, 'aumentarse': 1, 'sueldito': 1, '\\U0001f90f': 1, 'significado': 1, 'palabra': 1, 'gusanos': 1, 'zorritas': 1, 'patearte': 1, 'calló': 1, 'gorriti': 1, 'incluyendo': 1, 'alguno': 1, 'viajen': 1, 'payas': 1, 'cerebros': 1, 'maduro': 1, 'juro': 1, 'contrataron': 1, 'conductos': 1, 'vías': 1, 'vehicular': 1, 'don': 1, 'samuel': 1, 'abue': 1, 'chalita': 1, 'cachetada': 1, 'pttt': 1, 'basurero': 1, 'motive': 1, 'entusiasme': 1, 'granitos': 1, 'arena': 1, 'acaben': 1, 'estándares': 1, 'sientan': 1, 'cómodas': 1, 'reluciendo': 1, 'llevaste': 1, 'lucir': 1, 'publiques': 1, 'hayas': 1, 'auge': 1, 'dicte': 1, 'difundido': 1, 'trabaje': 1, 'ocupando': 1, 'gerencia': 1, 'ingeniera': 1, 'reso': 1, 'devuelve': 1, 'pidio': 1, 'consiguio': 1, 'aptitud': 1, 'comerciante': 1, 'bellas': 1, 'subis': 1, 'rogar': 1, 'generaciones': 1, 'futuras': 1, '🥵': 1, 'cobramos': 1, 'honorarios': 1, 'ganarce': 1, 'paridad': 1, 'ayudanos': 1, 'negociando': 1, 'fugas': 1, 'proximidad': 1, 'arreglan': 1, 'mordida': 1, 'jefecitos': 1, 'ciclo': 1, 'lectivo': 1, 'ests': 1, 'abogadas': 1, 'malditas': 1, 'encadenensé': 1, 'cvs': 1, 'repartirlo': 1, 'espaldas': 1, 'posición': 1, 'mátenlo': 1, 'torturas': 1, '🙌🏼': 1, 'monstruo': 1, 'capacitados': 1, 'habían': 1, 'comentado': 1, 'empezaba': 1, 'llenaría': 1, 'sucede': 1, 'imagine': 1, 'postal': 1, 'hera': 1, 'salados': 1, 'conocer': 1, 'salinas': 1, 'rindan': 1, 'sabiduría': 1, 'conchita': 1, 'queja': 1, 'entró': 1, 'desidio': 1, 'exijan': 1, 'marcas': 1, 'frutas': 1, 'aruinamos': 1, 'destruidos': 1, 'pagaremos': 1, 'seremos': 1, 'habiendo': 1, 'pajero': 1, 'chupasangre': 1, 'llegaremos': 1, 'evadiendo': 1, 'coimeando': 1, 'gobierna': 1, 'camara': 1, 'senadores': 1, 'armo': 1, 'jura': 1, 'escabio': 1, 'terriblemente': 1, 'nocivo': 1, 'dañino': 1, 'cirrocis': 1, 'apología': 1, 'fuma': 1, 'golpe': 1, 'perejiles': 1, 'celulares': 1, 'termi': 1, 'agotados': 1, 'margen': 1, 'estresados': 1, 'mostro': 1, 'hilacha': 1, 'sirvienta': 1, 'frustado': 1, 'boxeador': 1, 'espectaculo': 1, 'edificio': 1, 'proceder': 1, 'necesitaba': 1, 'psicólogos': 1, 'obio': 1, 'llenaban': 1, 'pelota': 1, 'llenar': 1, 'avisa': 1, 'tío': 1, 'qien': 1, 'llego': 1, 'trompadas': 1, 'cuello': 1, 'enseñándole': 1, 'miga': 1, 'enseñanza': 1, 'efectivo': 1, 'eviten': 1, 'cagaban': 1, 'yeguas': 1, 'recibe': 1, 'tratadas': 1, 'inspeccion': 1, 'fundiendo': 1, 'nubes': 1, 'mui': 1, 'pog': 1, 'terminaremos': 1, 'rosario': 1, 'dealers': 1, 'escribí': 1, 'obligan': 1, 'idioma': 1, 'apuñalo': 1, 'notificados': 1, 'retiran': 1, 'hables': 1, 'resignación': 1, 'siembran': 1, 'discordia': 1, 'parasitar': 1, 'encontrar': 1, 'tranquilidad': 1, 'drogadictas': 1, 'planeras': 1, 'tratado': 1, 'oidos': 1, 'golpeadoras': 1, 'incentivo': 1, 'embaracen': 1, 'tienn': 1, 'piernitas': 1, 'beneficiados': 1, 'discapacidad': 1, 'contenidos': 1, 'reserva': 1, 'dirigencia': 1, 'once': 1, 'torneo': 1, 'comisarias': 1, 'disminuyo': 1, 'fosfobita': 1, 'chamullo': 1, 'profesores': 1, 'lucharon': 1, 'concrete': 1, 'refaccionado': 1, 'renovado': 1, 'plantel': 1, 'bellísimo': 1, 'juanita': 1, 'stevens': 1, 'ara': 1, 'funcionamiento': 1, 'solicitamos': 1, 'información': 1, 'protegiendo': 1, 'boleta': 1, 'deberíamos': 1, 'bajó': 1, 'fulero': 1, 'zonas': 1, 'daltonismo': 1, 'pases': 1, 'gorrear': 1, 'gorreada': 1, 'preguntale': 1, 'predicciones': 1, 'subira': 1, 'inflalación': 1, 'sobrepasara': 1, 'anual': 1, 'admiración': 1, 'temer': 1, 'rompió': 1, 'prestigio': 1, 'quieres': 1, 'respetando': 1, 'murga': 1, 'redactar': 1, 'sustrajeron': 1, 'elementos': 1, 'imbecil': 1, 'sputnik': 1, 'ganglios': 1, 'inflamados': 1, 'er': 1, 'molestias': 1, 'hubieron': 1, 'continuar': 1, 'regresando': 1, 'lasima': 1, 'quehaya': 1, 'anduvo': 1, 'xbarrio': 1, 'cubierta': 1, 'plasticos': 1, 'acalorados': 1, 'aviso': 1, 'invierno': 1, 'programas': 1, 'mandaron': 1, 'semestre': 1, 'junio': 1, 'agosto': 1, 'septiembre': 1, 'olvidaron': 1, 'perdimos': 1, 'engaño': 1, 'volvieron': 1, 'perfectamente': 1, 'sirvio': 1, 'encubrir': 1, 'delitos': 1, 'trajeron': 1, 'satrapas': 1, 'pizca': 1, 'rota': 1, 'patatero': 1, 'cochina': 1, 'opinio': 1, 'viera': 1, 'activa': 1, 'corrupciom': 1, 'maldigo': 1, 'complaseria': 1, 'embocarte': 1, 'rmpmqlrmpo': 1, 'rt': 1, 'mlerda': 1, 'desesperamos': 1, 'seguiremos': 1, 'preocupando': 1, 'coincidencia': 1, 'politico': 1, 'stan': 1, 'jar': 1, 'estupideces': 1, 'cerremos': 1, 'tranquilos': 1, 'empezaron': 1, 'tontera': 1, 'voten': 1, 'salteño': 1, 'marcharán': 1, 'demandas': 1, 'prohíban': 1, 'discriminación': 1, 'saldrá': 1, 'ganará': 1, 'gastarán': 1, 'constitucionales': 1, 'vacuno': 1, 'mandaré': 1, 'decretar': 1, 'violeta': 1, 'constitución': 1, 'ambulancia': 1, 'enfermería': 1, 'paredones': 1, 'canchas': 1, 'nacieron': 1, 'venido': 1, 'disfrute': 1, 'adrián': 1, 'uc': 1, '🇨🇱': 1, 'tetracampeón': 1, '🥇': 1, 'sencillamente': 1, 'natal': 1, 'fans': 1, 'escuchabamos': 1, 'recordaba': 1, 'venias': 1, 'presentaciones': 1, 'admiradora': 1, 'siemore': 1, 'reunionrs': 1, 'queadrian': 1, 'cansiones': 1, 'okvidaron': 1, 'cuanras': 1, 'vailaditas': 1, 'cumoleañis': 1, 'quesiera': 1, 'tarjetita': 1, 'invitación': 1, 'recuerdan': 1, 'estrechar': 1, 'apreton': 1, 'rengo': 1, 'rey': 1, 'escapando': 1, 'pasados': 1, 'pelotu': 1, 'sto': 1, 'tiramos': 1, 'tapar': 1, 'alcantarillas': 1, 'siqiera': 1, 'emboltorio': 1, 'apuesto': 1, 'bocas': 1, 'desagues': 1, 'tapadas': 1, 'yuyo': 1, 'alberro': 1, 'colectivero': 1, 'centricas': 1, 'lacr': 1, 'hasen': 1, 'movemos': 1, 'solucionen': 1, 'prendas': 1, 'pense': 1, 'paredón': 1, 'barbas': 1, 'remojo': 1, 'diganme': 1, 'defendian': 1, 'necesitaban': 1, 'instigador': 1, 'ciego': 1, 'bolu': 1, 'aplauden': 1, 'foca': 1, 'viendo': 1, 'vo': 1, 'tabien': 1, 'banana': 1, 'britani': 1, 'hablara': 1, 'acuerda': 1, 'acuerdense': 1, 'cobrara': 1, 'guital': 1, 'exprimirlo': 1, 'camion': 1, 'dolo': 1, 'salida': 1, 'increíble': 1, 'violaron': 1, 'vehiculos': 1, 'eduardo': 1, 'porfavor': 1, 'enteras': 1, 'verás': 1, 'estresante': 1, 'siguiéndola': 1, 'vigilando': 1, 'vives': 1, 'componentes': 1, 'bichitos': 1, 'envenarse': 1, 'cepa': 1, 'cansan': 1, 'penales': 1, 'asegurados': 1, 'extravios': 1, 'síntomas': 1, 'epilepsia': 1, 'derrames': 1, 'cerebrales': 1, 'trombosis': 1, 'cardíaco': 1, 'aguero': 1, 'viale': 1, 'vacunars': 1, 'vaciar': 1, 'quitándonos': 1, 'libertades': 1, 'valgan': 1, 'molestia': 1, 'ra': 1, 'moriremos': 1, 'mejicana': 1, 'compartiendo': 1, 'vasos': 1, 'abla': 1, 'queríendo': 1, 'sumar': 1, 'puntos': 1, 'gobernando': 1, 'lloran': 1, 'algun': 1, 'exibir': 1, 'protegen': 1, 'rateros': 1, 'nnnnn': 1, 'prueban': 1, 'sanitaria': 1, 'informen': 1, 'tratarse': 1, 'película': 1, 'aburrió': 1, 'pareciera': 1, 'ficción': 1, 'amedrentarnos': 1, 'exterminar': 1, 'ciudadano': 1, 'convivir': 1, 'vacunense': 1, 'cuidarlo': 1, 'justificacion': 1, 'msdre': 1, 'bas': 1, 'comunes': 1, 'niñi': 1, 'varon': 1, 'psicologos': 1, 'maestras': 1, 'colaboraron': 1, 'descaro': 1, 'animak': 1, 'animalito': 1, 'protege': 1, 'sirva': 1, 'tenías': 1, 'averle': 1, 'pudras': 1, 'hopspital': 1, 'materno': 1, 'infantil': 1, 'yi': 1, 'efecto': 1, 'cardiaca': 1, 'aporto': 1, 'pasaremos': 1, 'ago': 1, 'necesarios': 1, 'i': 1, 'carroñeros': 1, 'maldad': 1, 'pasaria': 1, 'hai': 1, 'asustados': 1, 'desarmaron': 1, 'armarlos': 1, 'mértio': 1, 'heladera': 1, 'choco': 1, 'vaquita': 1, 'tomaron': 1, 'panza': 1, 'manejados': 1, 'organizaciones': 1, 'utilizarlos': 1, 'cosecha': 1, 'árboles': 1, 'capacitensen': 1, 'fines': 1, 'consejales': 1, 'aumentaron': 1, 'monotributo': 1, 'renta': 1, 'inspector': 1, 'coimero': 1, 'arta': 1, 'vueltas': 1, 'nafta': 1, 'mercadería': 1, 'mu': 1, 'disturbio': 1, 'complican': 1, 'laburante': 1, 'denutridos': 1, 'zapatillas': 1, 'celurar': 1, 'ultimo': 1, 'laburando': 1, 'disculpa': 1, 'nesecidad': 1, 'sindicales': 1, 'renuevan': 1, 'drogados': 1, 'movilizaciones': 1, 'seom': 1, 'pasadas': 1, 'demostraron': 1, 'desacuerdo': 1, 'laboral': 1, 'unidos': 1, 'vencidos': 1, 'geografía': 1, 'conocimientos': 1, 'posen': 1, 'volverse': 1, 'bodegas': 1, 'rotosos': 1, 'irme': 1, 'porros': 1, 'medicinal': 1, 'sacale': 1, 'salamin': 1, 'tucumano': 1, 'respuestas': 1, 'cobraran': 1, 'dama': 1, 'guardar': 1, 'compostura': 1, 'vedetongas': 1, 'humillan': 1, 'resulta': 1, 'famosas': 1, 'abusada': 1, 'hablaron': 1, 'prestaron': 1, 'creible': 1, 'aprueben': 1, 'quiénes': 1, 'penas': 1, 'echen': 1, 'intereses': 1, '😖': 1, 'aumentemos': 1, 'forzosa': 1, 'nazitario': 1, 'trucaso': 1, 'ovarios': 1, 'chupándole': 1, 'damos': 1, 'vela': 1, 'entierro': 1, 'respetó': 1, 'susana': 1, 'grasa': 1, 'persiguen': 1, 'caudal': 1, 'ríos': 1, 'purificacion': 1, 'absoleta': 1, 'depurar': 1, 'millon': 1, 'litros': 1, 'inversion': 1, 'aguas': 1, 'kisnerismo': 1, 'arregla': 1, 'plancito': 1, 'dijiste': 1, 'votas': 1, 'olvida': 1, 'sabelo': 1, 'campora': 1, 'hdrmp': 1, 'aportaron': 1, 'meren': 1, 'trabajamoz': 1, 'asesabra': 1, 'cter': 1, 'qur': 1, 'puerremina': 1, 'blaquier': 1, 'nombte': 1, 'tuvierna': 1, 'gritaria': 1, 'metete': 1, 'xel': 1, 'chamuyadas': 1, 'antisocial': 1, 'tranza': 1, 'liman': 1, 'torta': 1, 'consta': 1, 'limar': 1, 'cerrarle': 1, 'incoherente': 1, 'vacunate': 1, 'reconocen': 1, 'complices': 1, 'atrae': 1, 'azopardo': 1, 'diamanre': 1, 'demoran': 1, 'atraparlo': 1, 'monitoreo': 1, 'barrial': 1, 'casilla': 1, 'aumenta': 1, 'pobresa': 1, 'fundamentación': 1, 'rever': 1, 'idoneidad': 1, 'banca': 1, 'ánimos': 1, 'abtenerse': 1, 'festejaron': 1, 'escuchado': 1, 'sentado': 1, 'regresara': 1, 'guevara': 1, 'donald': 1, 'trump': 1, 'entendí': 1, 'bancaron': 1, 'préstamo': 1, 'lle': 1, 'darían': 1, 'afecte': 1, 'dibujando': 1, 'sincericidio': 1, 'desentendido': 1, 'recorrer': 1, 'inconveniente': 1, 'acidente': 1, 'asemos': 1, 'andes': 1, 'suministro': 1, 'tanques': 1, 'descontar': 1, 'salia': 1, 'hilito': 1, '☹️': 1, 'nop': 1, 'teniam': 1, 'desapercibido': 1, 'encuentran': 1, 'efectos': 1, 'internados': 1, 'genocida': 1, 'ro': 1, 'complotados': 1, 'cheque': 1, 'entusiasmo': 1, 'biennnn': 1, 'virgencita': 1, 'igualita': 1, 'canto': 1, 'glorieta': 1, 'solia': 1, 'transeúntes': 1, 'detenían': 1, 'repitiera': 1, 'destacan': 1, 'bellos': 1, 'fantastico': 1, 'animacion': 1, '🍾': 1, 'flias': 1, '🎵': 1, 'grandemente': 1, 'bailare': 1, 'sonido': 1, 'querida': 1, 'cancioncita': 1, 'dedico': 1, 'tumbaya': 1, '🙇': 1, '🤲': 1, 'copado': 1, 'intregantes': 1, 'formar': 1, 'grosos': 1, 'brindarle': 1, 'nin': 1, 'internado': 1, 'seran': 1, 'recompensado': 1, 'encantan': 1, 'gestos': 1, 'niñito': 1, 'profesionalismo': 1, 'afrontado': 1, 'complicada': 1, 'valorable': 1, 'respetos': 1, 'antig': 1, 'tranquilamente': 1, 'escritorio': 1, 'reflejar': 1, 'proponen': 1, 'mueven': 1, 'investigadores': 1, 'azulito': 1, 'cumpliendo': 1, 'pasé': 1, 'broder': 1, 'descansa': 1, 'sicario': 1, 'balas': 1, 'cansado': 1, 'afanen': 1, 'principios': 1, 'reivindican': 1, 'muchísimo': 1, 'podrán': 1, 'hacían': 1, 'honesta': 1, 'clausurar': 1, 'desparramado': 1, 'yeta': 1, 'cólera': 1, 'gripe': 1, 'dengue': 1, 'sica': 1, 'chicunguña': 1, 'enfermen': 1, 'conocido': 1, 'viajando': 1, 'amarillista': 1, 'perdura': 1, 'cobrarle': 1, 'rompernos': 1, 'eliminen': 1, 'quemas': 1, 'pues': 1, 'mili': 1, 'escondela': 1, 'devolvas': 1, '🙋': 1, 'estallidos': 1, 'adhirió': 1, 'afectaron': 1, 'corrían': 1, 'voluntad': 1, 'escuchó': 1, 'cohetes': 1, 'bombas': 1, 'estruendo': 1, 'huían': 1, 'anoche': 1, 'asqueante': 1, 'inescrupulosos': 1, 'changuito': 1, 'banque': 1, 'statales': 1, 'váyanse': 1, 'negociar': 1, 'apellido': 1, 'alternancia': 1, 'deformación': 1, 'inútil': 1, 'polémica': 1, 'limosna': 1, 'zángano': 1, 'lógico': 1, 'municipales': 1, 'polvora': 1, 'significa': 1, 'opas': 1, 'chiquitos': 1, 'pelot': 1, 'inmunizar': 1, 'oponen': 1, 'vacunan': 1, 'ceden': 1, 'hortelano': 1, 'vencer': 1, 'empeñados': 1, 'agilizar': 1, 'vacunación': 1, 'combustibles': 1, 'eu': 1, 'obsequios': 1, 'encerrarnos': 1, 'donaciones': 1, 'biyuya': 1, 'moneda': 1, 'dedicado': 1, 'hijita': 1, 'nenita': 1, 'preferible': 1, 'mama': 1, 'gratitud': 1, 'gratificante': 1, 'cambies': 1, 'dedicarte': 1, 'existieron': 1, 'muchicimo': 1, 'ampare': 1, 'sano': 1, 'fuesen': 1, 'apuro': 1, 'chocaron': 1, 'furiosos': 1, 'carril': 1, 'vehiculo': 1, 'motocicleta': 1, 'prioridades': 1, 'ceda': 1, 'cruzandose': 1, 'guiño': 1, 'machao': 1, 'fatal': 1, 'inicio': 1, 'xfa': 1, 'quédense': 1, 'pelando': 1, 'respirador': 1, 'sustito': 1, 'relampagos': 1, 'temblar': 1, 'llantos': 1, 'ocurra': 1, 'reacciona': 1, 'silenciosa': 1, 'informan': 1, 'inconcienta': 1, 'mojonear': 1, 'yendose': 1, 'chayadas': 1, 'apuesta': 1, 'cerrara': 1, 'comienza': 1, 'chayas': 1, 'temen': 1, 'rebrotes': 1, 'cuidense': 1, 'yendo': 1, 'pensá': 1, 'costarte': 1, 'despimplume': 1, 'cantagio': 1, 'lamentando': 1, 'mojon': 1, 'pisar': 1, 'contagien': 1, 'curen': 1, 'autorizar': 1, 'superhéroes': 1, 'vallanse': 1, 'prohibido': 1, 'podran': 1, 'pensamiento': 1, 'decicion': 1, 'tilcara': 1, 'dni': 1, 'amontonando': 1, 'farra': 1, 'opino': 1, 'injusto': 1, 'fiambres': 1, 'centros': 1, 'federación': 1, 'solicitando': 1, 'suspensión': 1, 'bailables': 1, 'indoles': 1, 'meterle': 1, 'nacimos': 1, 'cuéntenme': 1, 'caos': 1, 'presidentes': 1, 'decidan': 1, 'comprometido': 1, 'funcionario': 1, 'enorme': 1, 'transformar': 1, 'muralito': 1, 'conchabo': 1, 'rasca': 1, 'kinotos': 1, 'raíz': 1, 'abismos': 1, 'tolerar': 1, 'mentales': 1, 'trastornados': 1, 'psicopatas': 1, 'aplique': 1, 'interesada': 1, 'vial': 1, 'combatiendo': 1, 'investigando': 1, 'crimenes': 1, 'condenas': 1, 'ejemplificadoras': 1, 'estaremos': 1, 'escenciales': 1, 'asiste': 1, 'respetarán': 1, 'respetamos': 1, 'cruzamos': 1, 'contagiado': 1, 'cuidó': 1, 'comerciantes': 1, 'desinfectados': 1, 'inundadas': 1, 'meadas': 1, 'visitantes': 1, 'sanitarios': 1, 'masivos': 1, 'cuarentena': 1, 'estricta': 1, '😐': 1, 'acceder': 1, 'quiten': 1, 'crencias': 1, 'letal': 1, 'aceptando': 1, 'experimento': 1, 'mutar': 1, '🙆\\u200d♀️': 1, 'moralitos': 1, 'pongase': 1, 'pudimos': 1, 'partícipes': 1, 'patologías': 1, 'fija': 1, 'abundan': 1, 'orinando': 1, 'paredes': 1, 'central': 1, 'aglomeración': 1, 'aglomeramiento': 1, 'dejensé': 1, 'leí': 1, 'inconstitucional': 1, 'notoria': 1, 'vacunacion': 1, 'obligatoria': 1, 'exigir': 1, 'gustaria': 1, 'reaccionar': 1, 'disturbios': 1, 'publica': 1, 'crearon': 1, 'caía': 1, 'quebraba': 1, 'cadera': 1, 'tendrán': 1, 'agredirla': 1, 'desubicada': 1, 'agredir': 1, 'correrlos': 1, 'peguen': 1, 'hechan': 1, 'choclo': 1, 'educadas': 1, 'remate': 1, 'brillan': 1, 'irrespetuosos': 1, 'escrache': 1, 'atrevida': 1, 'mocosa': 1, 'cintarazo': 1, 'faltarle': 1, 'brilla': 1, 'ausencia': 1, 'calientan': 1, 'escraches': 1, 'inválido': 1, 'reviento': 1, 'recibió': 1, 'enseñes': 1, 'aprendí': 1, 'inculcó': 1, 'educarlos': 1, 'disciplina': 1, 'ahorro': 1, 'administrar': 1, 'darte': 1, 'gustito': 1, 'educa': 1, 'eduquen': 1, 'ambos': 1, 'ayudarlo': 1, 'vengo': 1, 'enseñé': 1, 'enseñarle': 1, 'arruinar': 1, 'enseñarles': 1, 'consejos': 1, 'logra': 1, 'enseñan': 1, 'empieza': 1, 'dandole': 1, 'hicieran': 1, 'cuestan': 1, 'constructivas': 1, 'motivan': 1, 'ocupen': 1, 'césped': 1, 'cubren': 1, 'sombrero': 1, 'explotan': 1, 'aman': 1, 'preocupan': 1, 'avisan': 1, 'testear': 1, 'individuos': 1, 'exquisitos': 1, 'lustra': 1, 'diarero': 1, 'alejan': 1, 'inhalando': 1, 'olores': 1, 'bichos': 1, 'invadan': 1, 'generosa': 1, 'intención': 1, 'acompañen': 1, 'representativa': 1, 'termos': 1, 'compraria': 1, 'paisaje': 1, 'escudo': 1, 'socio': 1, 'creadores': 1, 'animarse': 1, 'representar': 1, 'estudia': 1, 'liberar': 1, 'gobernado': 1, 'perdonan': 1, 'revés': 1, 'escracharian': 1, 'sentimientos': 1, '🤧': 1, 'enormemente': 1, 'uatedes': 1, 'beneficiado': 1, 'regalada': 1, 'mientra': 1, 'sienta': 1, 'meterse': 1, 'portal': 1, 'entretener': 1, 'bajezas': 1, 'desparramando': 1, 'despierten': 1, 'anticuerpos': 1, 'antivacunas': 1, 'tratándose': 1, 'curaría': 1, 'méntirosos': 1, 'caya': 1, 'vinieron': 1, 'consciencia': 1, 'cuídense': 1, 'principio': 1, 'sistema': 1, 'colapsado': 1, 'bledo': 1, 'somo': 1, 'agradecemos': 1, 'cuidarnos': 1, 'rezamos': 1, 'abrazamos': 1, 'fortalezca': 1, 'salvar': 1, 'misericordia': 1, 'esfuerzos': 1, 'derramen': 1, 'deseó': 1, 'héroes': 1, 'batalla': 1, 'marea': 1, 'enfrentarse': 1, 'jarabe': 1, 'tos': 1, 'paracetamol': 1, 'ibuprofeno': 1, 'playa': 1, 'peste': 1, 'inresponsables': 1, 'cuidaron': 1, 'agreden': 1, 'cuídate': 1, 'cuídame': 1, 'maimará': 1, 'lección': 1, 'forjar': 1, 'obstáculos': 1, 'impida': 1, 'dejate': 1, 'cumplí': 1, 'actuando': 1, 'despechada': 1, 'separaron': 1, 'déjalo': 1, 'cagaste': 1, 'cámara': 1, 'photoshop': 1, 'elegís': 1, 'compañerito': 1, 'tía': 1, 'acusas': 1, 'desanimes': 1, 'encontrarás': 1, 'chofer': 1, 'bendecidos': 1, 'hogar': 1, 'llamados': 1, 'huecos': 1, 'vacíos': 1, 'neurocirujanos': 1, 'distribuidos': 1, 'estratégicamente': 1, 'amontonados': 1, 'garrapatas': 1, 'comunicarse': 1, 'posterior': 1, 'respectivos': 1, 'líneas': 1, 'saturadas': 1, 'inhumano': 1, 'concurrencia': 1, 'masiva': 1, 'alcoholizar': 1, 'argenzuela': 1, 'somier': 1, 'extender': 1, 'jermu': 1, 'encargan': 1, 'salte': 1, 'laboratorios': 1, 'oiga': 1, '😓': 1, 'funcionando': 1, 'bailantas': 1, 'providencia': 1, 'quiebes': 1, 'promueven': 1, 'nesecita': 1, 'rompe': 1, 'sobrevivir': 1, 'supo': 1, 'aglomeraciones': 1, 'dígame': 1, 'ropita': 1, 'suyos': 1, 'consumismo': 1, 'encargo': 1, 'cansada': 1, 'dedica': 1, 'vaticano': 1, 'cardenales': 1, 'obispos': 1, 'dem': 1, 'panzones': 1, 'ropas': 1, 'recamadas': 1, 'oro': 1, 'hip': 1, 'crita': 1, 'pervertidos': 1, 'iglesia': 1, 'roñosas': 1, 'callate': 1, 'favorrrrrrrr': 1, 'opinar': 1, 'arreglar': 1, 'error': 1, 'coherencia': 1, 'noción': 1, 'secuestraeon': 1, 'carbon': 1, 'ambicióm': 1, 'cocaleros': 1, 'recaudan': 1, 'billetito': 1, 'robarles': 1, 'carbón': 1, 'mega': 1, 'laburarrr': 1, 'ortox': 1, 'provedores': 1, 'justificando': 1, 'fumaron': 1, 'coloquen': 1, 'relaciones': 1, 'tragedia': 1, 'hui': 1, 'macana': 1, 'tardado': 1, 'choborros': 1, 'drogadictos': 1, 'repartiendo': 1, 'olvidarse': 1, 'crei': 1, 'descocada': 1, 'put': 1, 'curate': 1, 'patologia': 1, 'conseguía': 1, 'levadura': 1, 'piza': 1, 'eliminatorias': 1, 'destruyen': 1, 'permitiendo': 1, 'habilitando': 1, 'podria': 1, 'permitirá': 1, 'connla': 1, 'subiré': 1, 'agradecerte': 1, 'solidaridad': 1, 'montoneros': 1, 'declarado': 1, 'feriado': 1, 'poronga': 1, 'omicrom': 1, 'pacientes': 1, 'dolió': 1, 'muela': 1, 'analicen': 1, 'ganancia': 1, 'inmoralesnarco': 1, 'antojo': 1, 'haberse': 1, 'irá': 1, 'contagiarse': 1, 'sobrecargados': 1, 'grave': 1, 'europa': 1, 'publican': 1, 'distanciamiento': 1, 'campanas': 1, 'sacarán': 1, 'restricción': 1, 'tenis': 1, 'evidente': 1, 'despedirse': 1, 'frustrante': 1, 'pcia': 1, 'tenderal': 1, 'pulpos': 1, 'contagia': 1, 'comienzen': 1, 'acuérdense': 1, 'sarna': 1, 'pica': 1, 'campito': 1, 'encina': 1, 'insultos': 1, 'tomada': 1, 'sufra': 1, 'chaleco': 1, 'antibala': 1, 'femicida': 1, 'felicitan': 1, 'ariesgando': 1, 'campo': 1, 'nesetita': 1, 'imoporta': 1, 'proteher': 1, 'fenómenos': 1, 'meteriologicos': 1, 'placenteras': 1, 'pobladores': 1, 'legisladores': 1, 'exponiendo': 1, 'construya': 1, 'conmueve': 1, 'salven': 1, 'lucha': 1, '☠️': 1, '💀': 1, 'flora': 1, 'pasarela': 1, 'precaria': 1, 'levantaba': 1, 'lío': 1, 'banales': 1, 'aplicando': 1, 'gastado': 1, 'gira': 1, 'externa': 1, 'pedrito': 1, 'prevenir': 1, '🐕': 1, 'defendió': 1, 'cumplió': 1, 'mordiendo': 1, 'arrancó': 1, 'pierna': 1, 'lakra': 1, 'moria': 1, 'desangrada': 1, 'pícaros': 1, 'empastillan': 1, 'oprimir': 1, 'meten': 1, 'inmobiliario': 1, 'automotor': 1, 'aflojen': 1, 'regale': 1, 'trauma': 1, 'condeno': 1, 'cicatriz': 1, 'cirugías': 1, 'cucha': 1, 'muerden': 1, 'tuenen': 1, 'call': 1, 'causado': 1, 'ansiedad': 1, 'generalizado': 1, 'despertó': 1, 'ataques': 1, 'derivaron': 1, 'enloquecen': 1, 'vairus': 1, 'apoco': 1, 'gaturros': 1, 'plagas': 1, 'haríamos': 1, 'haciéndolo': 1, 'priv': 1, 'clinica': 1, 'revienten': 1, 'horario': 1, 'quejas': 1, 'praxys': 1, 'tratos': 1, 'aporta': 1, 'mísero': 1, 'comparado': 1, 'arriesgaron': 1, 'títulos': 1, 'bombo': 1, 'adicionales': 1, 'viáticos': 1, 'aguen': 1, 'terapia': 1, 'intensiva': 1, 'dolencias': 1, 'aguanten': 1, 'compromete': 1, 'divertido': 1, 'aumentarnos': 1, 'ganamos': 1, 'háganse': 1, 'trae': 1, 'lava': 1, 'ingresan': 1, 'valga': 1, 'salvando': 1, 'reclamando': 1, 'compañerismos': 1, 'cansados': 1, 'aprendizaje': 1, 'saberes': 1, 'altísimos': 1, 'funcionen': 1, 'tapa': 1, 'apañan': 1, 'pasta': 1, '🙎': 1, 'desbarataron': 1, 'porqe': 1, 'clavan': 1, 'salvandoles': 1, 'canal': 1, 'locución': 1, 'profecionalismo': 1, 'reportar': 1, 'reporteros': 1, 'emocion': 1, 'intriga': 1, '😳': 1, 'arrebantando': 1, 'escaleras': 1, 'queria': 1, 'relajar': 1, 'rat': 1, 'escaya': 1, 'pibitos': 1, 'extranjeras': 1, 'exportar': 1, 'loko': 1, 'daños': 1, 'alquilan': 1, 'notera': 1, 'capacitarse': 1, 'tímida': 1, 'provincianos': 1, 'comidita': 1, 'des': 1, 'porquerías': 1, 'escoria': 1, 'lástima': 1, 'manche': 1, 'vuelo': 1, 'criado': 1, 'crecen': 1, 'enganchan': 1, 'juzga': 1, 'criancia': 1, 'iremos': 1, 'remedia': 1, 'solucionado': 1, 'hablamos': 1, 'comicos': 1, 'citados': 1, 'acusacion': 1, 'lujo': 1, 'escarbar': 1, 'atrapar': 1, 'pescados': 1, 'pichi': 1, 'pepita': 1, 'pistolera': 1, 'bajate': 1, 'poni': 1, 'perdoa': 1, 'come': 1, 'hiria': 1, 'sou': 1, 'pelotucho': 1, 'resolver': 1, 'conflictos': 1, 'ocupe': 1, 'claridad': 1, 'solucion': 1, 'consuelo': 1, 'sicológicamente': 1, 'perdidas': 1, 'deven': 1, 'comestibles': 1, 'tuviste': 1, 'rescataron': 1, 'sanó': 1, 'salvó': 1, 'consiencia': 1, 'seguido': 1, 'salvador': 1, 'últimos': 1, 'comenzarán': 1, 'copiosas': 1, 'prinera': 1, 'ocurren': 1, 'percances': 1, 'metiendose': 1, 'acabaron': 1, 'ag': 1, 'ita': 1, 'guardando': 1, 'hallado': 1, 'traslado': 1, 'informando': 1, 'alrededores': 1, 'necesidades': 1, 'móviles': 1, 'usarán': 1, 'retirar': 1, 'sándwiches': 1, 'cobanis': 1, 'divinos': 1, 'recorra': 1, 'trescitos': 1, 'conozcas': 1, 'pierdan': 1, 'mo': 1, 'reaccionen': 1, 'incoherencia': 1, 'victorioso': 1, 'tare': 1, 'bacterias': 1, 'mineras': 1, 'lavan': 1, 'bañan': 1, 'descarte': 1, 'roñosos': 1, 'descontrolada': 1, 'robadas': 1, 'escape': 1, 'liebre': 1, 'velocidades': 1, 'defectos': 1, 'deportarlo': 1, 'bananeras': 1, 'actuan': 1, 'rapidito': 1, 'responsabiludad': 1, 'apliquen': 1, 'mató': 1, 'queces': 1, 'acostumbrada': 1, 'llovio': 1, 'kiosko': 1, 'despreciable': 1, 'siega': 1, 'reaccionan': 1, 'chancleta': 1, 'sacrifiquen': 1, 'invaden': 1, 'extraterrestres': 1, 'caminen': 1, 'recolector': 1, 'arrepientan': 1, 'ablar': 1, 'lleve': 1, 'turista': 1, 'millagro': 1, 'devolución': 1, 'comprarle': 1, 'retorno': 1, 'cobren': 1, 'pésames': 1, 'curioso': 1, 'ahorcó': 1, 'ato': 1, 'suicidio': 1, 'participacion': 1, 'famila': 1, 'deprimido': 1, 'decide': 1, 'inclinacion': 1, 'sexual': 1, 'burlas': 1, 'averiguar': 1, 'pasaba': 1, 'jovencito': 1, 'rezar': 1, 'brazos': 1, 'reino': 1, 'utilizar': 1, 'tragedias': 1, 'drogan': 1, 'desaparecen': 1, 'apuñalan': 1, 'importarles': 1, 'relajen': 1, 'olviden': 1, 'inflacion': 1, 'sanos': 1, 'provocado': 1, 'dañaron': 1, 'sierra': 1, 'largar': 1, 'tortugas': 1, 'jorge': 1, 'mayra': 1, 'infinitamente': 1, 'permitirme': 1, 'derrite': 1, 'sonríe': 1, 'chupines': 1, 'compadres': 1, 'comadres': 1, 'publicar': 1, 'fotografía': 1, 'pelea': 1, 'vivienda': 1, 'llamas': 1, 'caminan': 1, 'recorridos': 1, 'nocturnos': 1, 'desaparecido': 1, 'fallecida': 1, 'nn': 1, 'ande': 1, 'colgar': 1, 'repartir': 1, 'volantes': 1, 'dirije': 1, 'angurrientos': 1, 'dic': 1, 'contaminacion': 1, 'hermanos': 1, 'apellidos': 1, 'enemigos': 1, 'encantos': 1, 'abrir': 1, 'ventana': 1, 'doquier': 1, 'airecito': 1, 'precioso': 1, 'frecuente': 1, 'asombrarnos': 1, 'gabinete': 1, 'ivuj': 1, 'inspecciónes': 1, 'reúnen': 1, 'planificar': 1, 'dejarán': 1, 'camuflar': 1, 'costa': 1, 'erário': 1, 'inauguró': 1, 'fugo': 1, 'subsidios': 1, 'prometió': 1, 'debieron': 1, 'levantarlos': 1, 'anunciando': 1, 'concreta': 1, 'personales': 1, 'marijuana': 1, 'alimentados': 1, 'anfitriona': 1, 'manifestarse': 1, 'libremente': 1, 'manifestaciones': 1, 'civil': 1, 'motivos': 1, 'pedorros': 1, 'psicólogo': 1, 'pasadita': 1, 'paranoica': 1, 'largen': 1, 'sabían': 1, 'sufría': 1, 'hisieron': 1, 'décadas': 1, 'une': 1, 'fellner': 1, 'cívica': 1, 'obras': 1, 'salvo': 1, 'inauguración': 1, 'ferroviaria': 1, 'imprescindible': 1, 'camporista': 1, 'soberbia': 1, 'ambicion': 1, 'acumula': 1, 'isoparme': 1, 'salí': 1, 'testeo': 1, 'telemedicina': 1, 'atendida': 1, 'testeando': 1, 'experimental': 1, 'ancianas': 1, 'bo': 1, 'rrachines': 1, 'hartas': 1, 'variantes': 1, 'díganle': 1, 'alzado': 1, 'aparearse': 1, 'hermanxs': 1, 'utilizan': 1, 'cobrando': 1, 'cifras': 1, 'inoperante': 1, 'infraestructura': 1, 'localidades': 1, 'ayúdensen': 1, 'asegurar': 1, 'entraría': 1, 'blademir': 1, 'putin': 1, 'pusiera': 1, 'desleales': 1, 'afanar': 1, 'vacacionar': 1, 'electrogeno': 1, 'proque': 1, 'maltratos': 1, 'corazones': 1, 'elevado': 1, 'amenazó': 1, 'tranzas': 1, 'quiebra': 1, 'socialmente': 1, 'costilla': 1, 'volvió': 1, 'obreros': 1, 'patoterismo': 1, 'laboratorio': 1, 'brazo': 1, 'cuatos': 1, 'nóquis': 1, 'maldades': 1, 'engendro': 1, 'demonio': 1, 'sinverguenza': 1, 'cobras': 1, 'ilegales': 1, 'ladina': 1, 'triple': 1, 'tomy': 1, 'min': 1, 'emoción': 1, 'erá': 1, 'llevarlo': 1, 'terminaba': 1, 'besitos': 1, 'ahijadita': 1, 'chanchita': 1, 'olivia': 1, 'festejemos': 1, 'find': 1, 'chiquito': 1, 'detenido': 1, 'sumariar': 1, 'involucrados': 1, 'repudiable': 1, 'marchen': 1, 'malvivientes': 1, 'actrices': 1, 'natacha': 1, 'jaitt': 1, 'denunciaba': 1, 'amenazaban': 1, 'saltó': 1, 'feministas': 1, 'apoya': 1, 'conchetas': 1, 'asoman': 1, 'defensoras': 1, 'payasas': 1, 'dejesen': 1, 'payásas': 1, 'fueramos': 1, 'enterarian': 1, 'convocatoria': 1, 'adiestrada': 1, 'mean': 1, 'cajera': 1, 'contagié': 1, 'estúpidos': 1, 'valientes': 1, 'coraje': 1, 'playas': 1, 'perjudicar': 1, 'asesinadas': 1, 'violadas': 1, 'recien': 1, 'suceso': 1, 'ocurrido': 1, 'respetara': 1, 'emilia': 1, 'datos': 1, 'sorete': 1, 'combustible': 1, 'servicios': 1, 'creando': 1, 'sugiero': 1, 'divida': 1, 'prometio': 1, 'comederos': 1, 'opines': 1, 'asaltar': 1, 'apuñalar': 1, 'suyo': 1, 'muerde': 1, 'inpunes': 1, 'invencibles': 1, 'intocables': 1, 'defenderlos': 1, 'dada': 1, 'apuñala': 1, 'puntea': 1, 'divina': 1, 'reales': 1, 'karma': 1, 'deberias': 1, 'brasileña': 1, 'habrán': 1, 'embromó': 1, 'tomará': 1, 'verla': 1, 'muerta': 1, 'sepamos': 1, 'decís': 1, 'pertenencias': 1, 'enamoré': 1, 'heroína': 1, 'rescatan': 1, 'cachorritos': 1, 'roperle': 1, 'vidrio': 1, 'diversion': 1, 'bajisimo': 1, 'aprox': 1, 'inicia': 1, 'asquerosos': 1, 'arruinaron': 1, 'vacunen': 1, 'leve': 1, 'contagiar': 1, 'vacuan': 1, 'vendíamos': 1, 'limonada': 1, 'elite': 1, 'causar': 1, 'hambruna': 1, 'incendios': 1, 'ria': 1, 'voia': 1, 'aceitunas': 1, 'tratan': 1, 'esclavo': 1, 'trankilos': 1, 'gramo': 1, 'facultades': 1, 'pillen': 1, 'boracho': 1, 'volqnte': 1, 'inhabilitarlo': 1, 'maneje': 1, 'manejaron': 1, 'gracia': 1, 'alcohólico': 1, 'impongas': 1, 'conduciendo': 1, 'vuelva': 1, 'pensarán': 1, 'socorrer': 1, 'chorras': 1, 'imbeciles': 1, 'enseguida': 1, 'tutoriales': 1, 'tontia': 1, 'preparando': 1, 'rendi': 1, 'pavimentación': 1, 'señalizada': 1, 'circocovid': 1, 'imponer': 1, 'bakuna': 1, 'matara': 1, 'poblacion': 1, 'alos': 1, 'suspuestas': 1, 'pandemias': 1, 'separarse': 1, 'demanda': 1, 'londra': 1, 'meterte': 1, 'novias': 1, 'embarazan': 1, 'poniéndose': 1, 'abandonica': 1, 'rodeado': 1, 'hijxs': 1, 'piojoso': 1, 'quisiste': 1, 'mantenelos': 1, 'minutos': 1, 'departir': 1, 'cuantas': 1, 'toco': 1, 'típica': 1, 'vaga': 1, 'causantes': 1, 'causan': 1, 'suyas': 1, 'perjudique': 1, 'jueses': 1, 'cagarlo': 1, 'manipulacion': 1, 'podrás': 1, 'apariencia': 1, 'delatan': 1, 'pende': 1, 'descansaste': 1, 'mona': 1, 'toma': 1, 'cobrarán': 1, 'chófer': 1, 'saquear': 1, 'extranjero': 1, 'inglés': 1, 'robó': 1, 'lago': 1, 'dispersales': 1, 'lacrimogeno': 1, 'sencible': 1, 'podríamos': 1, 'ayudarnos': 1, 'desenfrenada': 1, 'bolita': 1, 'repleto': 1, 'sindicalismo': 1, 'delnpais': 1, 'aplaude': 1, 'sentada': 1, 'escribe': 1, 'violenta': 1, 'escena': 1, 'escrito': 1, 'hartos': 1, 'amparados': 1, 'hastiados': 1, 'empresario': 1, 'sindicalistas': 1, 'pe': 1, 'lotudo': 1, 'marote': 1, 'negros': 1, 'pol': 1, 'ticos': 1, 'importunan': 1, 'podridos': 1, 'imponen': 1, 'verguenzas': 1, 'gobernaron': 1, 'ofrecer': 1, 'gremiales': 1, 'aceptaran': 1, 'disimular': 1, 'meterán': 1, 'picana': 1, 'merese': 1, 'elige': 1, 'dineral': 1, 'anotaré': 1, 'impuso': 1, 'desvalorizado': 1, 'campeonato': 1, 'asciende': 1, 'antigimnasia': 1, 'lobito': 1, '💪🏽': 1, '🐺': 1, 'pertinentes': 1, 'graciosos': 1, 'peregiles': 1, 'vaila': 1, 'sacrificar': 1, 'atacó': 1, 'usada': 1, 'caza': 1, 'gen': 1, 'pitbull': 1, 'celosos': 1, 'perdonará': 1, 'colgando': 1, 'atendieron': 1, 'nietas': 1, 'adelanto': 1, 'simio': 1, 'tonto': 1, 'dejaba': 1, 'guarda': 1, 'trasero': 1, 'boliviano': 1, 'influencia': 1, 'dibujada': 1, 'pipa': 1, 'jeta': 1, 'sostiene': 1, 'adicto': 1, 'obligarle': 1, 'paracitos': 1, 'lejes': 1, 'hacerlos': 1, 'fijo': 1, 'gusten': 1, 'perciben': 1, 'ende': 1, 'extensión': 1, 'gremialista': 1, 'ofrece': 1, 'fantoche': 1, 'ridicula': 1, 'ardida': 1, 'thelma': 1, 'sta': 1, 'mami': 1, 'tetita': 1, 'inmadura': 1, 'acusar': 1, 'gustari': 1, 'pilcha': 1, 'festibales': 1, 'musicos': 1, 'bailando': 1, 'cambian': 1, 'hermosura': 1, 'brindando': 1, '👮': 1, 'entretenimiento': 1, 'repertorio': 1, 'inigualables': 1, 'femenina': 1, 'destaquen': 1, 'posicionarse': 1, 'detenida': 1, 'brabas': 1, 'custodian': 1, 'quilomberos': 1, 'acasa': 1, 'perturbar': 1, 'haser': 1, 'alas': 1, 'propiedades': 1, 'cortita': 1, 'rodeados': 1, 'suceden': 1, 'desesperan': 1, 'perjudicado': 1, 'obrero': 1, 'metido': 1, 'dejado': 1, 'invierte': 1, 'plenas': 1, 'material': 1, 'alumno': 1, 'conocimiento': 1, 'valorado': 1, 'dibujo': 1, 'do': 1, 'diseño': 1, 'tesla': 1, 'próxima': 1, 'lameculos': 1, 'hice': 1, 'inscripcion': 1, 'intentarlo': 1, 'gasterio': 1, 'sabor': 1, 'regional': 1, 'crié': 1, 'buñuelos': 1, 'estigmatizado': 1, 'vendian': 1, 'caracol': 1, 'tortillita': 1, 'rellena': 1, 'llegaba': 1, 'veloz': 1, 'desayuno': 1, 'emilce': 1, 'gladi': 1, 'hivamos': 1, 'buñuelo': 1, 'sobrina': 1, 'lomismo': 1, 'desfachates': 1, 'cdo': 1, 'mantenemos': 1, 'pescado': 1, 'capítulos': 1, 'elif': 1, 'iudica': 1, 'conmigo': 1, 'divertidos': 1, 'reí': 1, 'simpática': 1, 'agrandada': 1, 'cruce': 1, 'forra': 1, 'comentas': 1, 'junta': 1, 'bailaba': 1, 'adónde': 1, 'metió': 1, 'confiaré': 1, 'chinos': 1, 'sacará': 1, 'recursos': 1, 'fingen': 1, 'pelearse': 1, 'propósitos': 1, 'electorales': 1, 'engañan': 1, 'zombi': 1, 'preocupante': 1, 'advierte': 1, 'transas': 1, 'cuadra': 1, 'perdidos': 1, 'consumir': 1, 'problemática': 1, 'campañas': 1, 'mencionan': 1, 'solucionaran': 1, 'haiga': 1, 'trabas': 1, 'incompetecia': 1, 'café': 1, 'libro': 1, 'amaneció': 1, 'panaderos': 1, 'camita': 1, 'sintiendo': 1, 'muestra': 1, 'diles': 1, 'franca': 1, 'artículos': 1, 'ufd': 1, 'perdí': 1, 'lagunas': 1, 'formaron': 1, 'forman': 1, 'di': 1, 'poso': 1, 'jodió': 1, 'amortiguadores': 1, 'alamiento': 1, 'lomos': 1, 'pintados': 1, 'consumidor': 1, 'categorizado': 1, 'complice': 1, 'codigo': 1, 'finalidad': 1, 'suba': 1, 'tarifas': 1, 'distraer': 1, 'comercialización': 1, 'produciría': 1, 'incremento': 1, 'míer': 1, 'ojalas': 1, 'draga': 1, 'dél': 1, 'proyectó': 1, 'permitirles': 1, '🧠': 1, 'conveniente': 1, 'legalización': 1, 'utiles': 1, 'publicación': 1, 'arraigada': 1, 'nativos': 1, 'desentierran': 1, 'nacimiento': 1, 'barras': 1, 'ironía': 1, 'acentamiento': 1, 'echas': 1, 'chetada': 1, 'departamentos': 1, 'esparcimiento': 1, 'adecuado': 1, 'sacándose': 1, 'shoping': 1, 'comercial': 1, 'genere': 1, 'habitantes': 1, 'algien': 1, 'caritativo': 1, 'muelan': 1, 'quebrar': 1, 'moler': 1, 'dedos': 1, 'laburadora': 1, 'pillaron': 1, 'rastro': 1, 'nebulosa': 1, 'legalice': 1, 'aceptarlo': 1, 'rápida': 1, 'blanquearlos': 1, 'dejándolos': 1, 'soquete': 1, 'despenalizar': 1, 'combatir': 1, 'legalizando': 1, 'chorreo': 1, 'robanso': 1, 'argumento': 1, 'lógica': 1, 'bendito': 1, 'legalizacion': 1, 'siniestros': 1, 'agregarle': 1, 'ataud': 1, 'equipamiento': 1, 'emprendimientos': 1, 'reciclable': 1, 'reclamr': 1, 'valemos': 1, 'hipocrita': 1, 'pedimos': 1, 'delgado': 1, 'cualqier': 1, 'cocine': 1, 'postre': 1, 'tranqui': 1, '🐽': 1, 'fabrican': 1, 'adictivo': 1, 'añares': 1, 'entro': 1, 'asumen': 1, 'retontos': 1, 'convitiendo': 1, 'mexico': 1, 'títere': 1, 'ñoqui': 1, 'fardo': 1, 'ocurrió': 1, 'encontraron': 1, 'chiquita': 1, 'expulsaba': 1, 'reaccionaba': 1, 'árbitro': 1, 'expulsado': 1, 'canchita': 1, 'conformarse': 1, 'otorga': 1, 'valorice': 1, 'hugar': 1, 'machismo': 1, 'sancionarlo': 1, 'arbitraje': 1, 'superamos': 1, 'superó': 1, 'porsupuesto': 1, 'situacion': 1, 'ligas': 1, 'dejarlo': 1, 'aempezar': 1, 'análisis': 1, 'psiquiátrico': 1, 'lamentamos': 1, '🤷🏼\\u200d♀️': 1, 'oficio': 1, 'sábados': 1, 'jodes': 1, 'gastadero': 1, 'tradición': 1, 'encanto': 1, 'próximo': 1, 'calafate': 1, 'estraño': 1, 'lis': 1, 'publicos': 1, 'reparación': 1, 'movilizar': 1, '🤓': 1, '😄': 1, 'hijastro': 1, 'garron': 1, 'dejoder': 1, 'meteriales': 1, 'presupuesto': 1, 'corresponden': 1, 'insumo': 1, 'pesimo': 1, 'recientemente': 1, 'callar': 1, 'pagarlas': 1, 'entregarlas': 1, 'averiguación': 1, 'completa': 1, 'xk': 1, 'kien': 1, 'sabrá': 1, 'removerlos': 1, 'atrabajar': 1, 'pte': 1, 'peron': 1, 'juntas': 1, 'divertir': 1, 'general': 1, 'disfruta': 1, 'circuito': 1, 'absurdos': 1, 'titular': 1, 'modalidad': 1, 'secretaria': 1, 'incrementar': 1, 'nokis': 1, 'aimentan': 1, 'ahorraria': 1, 'elevar': 1, 'retener': 1, 'conducir': 1, 'postura': 1, 'cuadrado': 1, 'autista': 1, 'asmático': 1, 'incoherencias': 1, 'respirar': 1, 'desaertada': 1, 'expresarse': 1, 'difuculta': 1, 'estupides': 1, 'albertitere': 1, 'cagas': 1, 'alberto': 1, 'matriculados': 1, 'intentaba': 1, 'equivalente': 1, 'hectareas': 1, 'verga': 1, 'anibal': 1, 'pachano': 1, 'futbolistas': 1, 'armando': 1, 'maradona': 1, 'videito': 1, 'fotitos': 1, 'caravana': 1, 'ort': 1, 'antepasados': 1, 'tradicionales': 1, 'surgieron': 1, 'continúan': 1, 'aplausos': 1, 'tanga': 1, 'temita': 1, 'baila': 1, 'ciclovías': 1, 'multan': 1, 'motociclistas': 1, 'adelantarse': 1, 'encendida': 1, 'vestirse': 1, 'ví': 1, 'circular': 1, 'guiños': 1, 'entidad': 1, 'pinocho': 1, 'construye': 1, 'propósito': 1, 'boludeses': 1, 'esposas': 1, 'comunicación': 1, 'entregan': 1, 'bromatología': 1, 'enfermaría': 1, 'criticando': 1, 'revisar': 1, 'consumimos': 1, 'intoxicados': 1, 'fallecieron': 1, 'choripam': 1, 'tiré': 1, 'sentimiento': 1, 'sobra': 1, 'comporta': 1, 'ése': 1, 'modo': 1, 'destituido': 1, 'golpea': 1, 'precisamente': 1, 'inmediato': 1, 'empleo': 1, 'argumentos': 1, 'lakras': 1, 'kinerismo': 1, 'patoteros': 1, 'perón': 1, 'empleadas': 1, 'soberbio': 1, 'denigrar': 1, 'arruinan': 1, 'asia': 1, 'agrecion': 1, 'alcanzan': 1, 'cristianos': 1, 'recaudador': 1, 'entregar': 1, 'tierras': 1, '🌚': 1, 'jueza': 1, 'reclamen': 1, 'espropie': 1, 'tadas': 1, 'tirras': 1, 'vendidas': 1, 'beneton': 1, 'lewis': 1, 'colmando': 1, 'rodolfo': 1, 'formaste': 1, 'cesar': 1, 'enamorados': 1, 'prueba': 1, '👶🏻': 1, 'formoseña': 1, 'hermanito': 1, '☺': 1, 'amorrr': 1, 'quemarse': 1, 'tam': 1, 'jóderle': 1, 'corroborar': 1, 'complicandoles': 1, 'colon': 1, 'jugo': 1, 'malisimo': 1, 'jugando': 1, 'teníamos': 1, 'solterón': 1, 'gorriao': 1, 'completamos': 1, 'finde': 1, 'movido': 1, '🤐': 1, 'vacia': 1, 'seccional': 1, 'golpeadores': 1, 'udes': 1, 'honestos': 1, 'vestidos': 1, 'carcel': 1, 'determinación': 1, 'mandarlos': 1, 'cenar': 1, 'pasn': 1, 'pelotvdos': 1, 'arriesgan': 1, 'alfabetización': 1, 'inicial': 1, 'grados': 1, 'grafemas': 1, 'fonemas': 1, 'observar': 1, 'escusa': 1, 'boluda': 1, 'ciertos': 1, 'límites': 1, 'peligroso': 1, 'oír': 1, 'acesina': 1, 'espalda': 1, 'explique': 1, 'pensamientos': 1, 'abortistas': 1, 'nombrar': 1, 'maria': 1, 'propuestas': 1, 'carisma': 1, 'detalles': 1, 'preocupada': 1, 'trap': 1, 'nombrada': 1, 'recauda': 1, 'cayo': 1, 'verifique': 1, 'viejas': 1, 'voltearlas': 1, 'columnas': 1, 'aplastaba': 1, 'aprendemos': 1, 'peluca': 1, 'clausurarla': 1, 'musarela': 1, 'escabiando': 1, 'fisuras': 1, 'presentes': 1, 'disfrutamos': 1, 'mariachis': 1, 'serenata': 1, 'recargada': 1, 'movía': 1, 'partidos': 1, 'ayudaban': 1, 'peligrosos': 1, 'atrevido': 1, 'baboso': 1, 'excusa': 1, 'bailarinas': 1, 'poko': 1, 'mirada': 1, 'bailarín': 1, 'dictaron': 1, 'antiguo': 1, 'ideales': 1, 'doblegues': 1, 'respete': 1, 'individuo': 1, 'tóxico': 1, 'hipótesis': 1, 'radiaciones': 1, 'incoherentes': 1, 'extraña': 1, 'producto': 1, 'anormal': 1, 'delfines': 1, 'extinguirnos': 1, 'especie': 1, 'bandadas': 1, 'vuelan': 1, 'formaciones': 1, 'ave': 1, 'ataca': 1, 'sucedió': 1, 'ubicacion': 1, 'exacta': 1, 'relacion': 1, 'electromagneticas': 1, 'ondas': 1, 'desconcierto': 1, 'secreto': 1, 'altísimo': 1, 'contrarrestar': 1, 'pajaron': 1, 'secuestraron': 1, 'cagado': 1, 'apropia': 1, 'prohíbe': 1, 'privada': 1, 'monopolio': 1, 'proliferar': 1, 'fincas': 1, 'volviendo': 1, 'pulpo': 1, 'socias': 1, 'prosediniento': 1, 'implicados': 1, 'hdperra': 1, 'lleavr': 1, 'pruebas': 1, 'hablaba': 1, 'habló': 1, 'instigadora': 1, 'vajo': 1, 'juramento': 1, 'bigote': 1, 'trucho': 1, 'lazaro': 1, 'antecedentes': 1, 'bonitos': 1, 'trajes': 1, 'coreo': 1, 'elijo': 1, 'baile': 1, 'tradicional': 1, 'create': 1, 'anotate': 1, 'cumpa': 1, '🤷🏽\\u200d♂️': 1, 'boliviana': 1, 'quejamos': 1, 'bolivianos': 1, 'sufrirá': 1, 'olvidos': 1, 'momentáneos': 1, 'mostrarle': 1, 'vídeo': 1, 'destra': 1, 'bigotudo': 1, 'hdm': 1, 'papanata': 1, 'hablabas': 1, 'pestes': 1, 'arrugas': 1, 'gonca': 1, 'aparecer': 1, 'suicidado': 1, 'cagón': 1, 'convicción': 1, 'cambias': 1, 'pañal': 1, 'enteró': 1, 'bebote': 1, 'destrozan': 1, 'reberendo': 1, 'volve': 1, 'videla': 1, 'hacelo': 1, 'investidura': 1, 'pelele': 1, 'maldición': 1, 'hubieses': 1, 'hubiesen': 1, 'vuelto': 1, 'podredumbre': 1, 'gerard': 1, 'complejito': 1, 'pregunten': 1, 'cuidador': 1, 'morsita': 1, 'berruezito': 1, 'incautan': 1, 'kilos': 1, 'kg': 1, 'preste': 1, 'bajes': 1, 'cocaína': 1, 'chapo': 1, 'guzmán': 1, 'actuar': 1, 'mulas': 1, 'alimentar': 1, 'pariendo': 1, 'mayorcitas': 1, 'avaricia': 1, 'alimentos': 1, 'aumentó': 1, 'afip': 1, 'funcionaria': 1, 'dondevan': 1, 'manteniendo': 1, 'contagiarme': 1, 'moderna': 1, 'tiró': 1, 'iban': 1, 'colonias': 1, 'salían': 1, 'pasear': 1, 'pileta': 1, 'secarse': 1, 'haran': 1, 'quesillo': 1, 'piel': 1, 'química': 1, 'detiene': 1, 'comforma': 1, 'difamar': 1, 'intimidad': 1, 'romántico': 1, 'kretina': 1, 'solidario': 1, 'peroncho': 1, 'míralo': 1, 'estrategia': 1, 'inscripto': 1, 'automáticamente': 1, 'menti': 1, 'sortea': 1, 'chaco': 1, 'página': 1, 'trapo': 1, 'querrán': 1, 'cortos': 1, 'impartir': 1, 'verle': 1, 'pudra': 1, 'estupideses': 1, 'huesos': 1, 'entendes': 1, 'montando': 1, 'llamado': 1, '🤷🏾\\u200d♂️': 1, 'contras': 1, 'bóludos': 1, 'corran': 1, 'llevando': 1, 'valer': 1, 'carnavalear': 1, 'necesidad': 1, 'ate': 1, 'ofrecen': 1, 'educadores': 1, 'estatales': 1, 'luna': 1, 'descaradamente': 1, 'podrá': 1, 'sumiso': 1, 'qhdp': 1, 'tramo': 1, 'calculo': 1, 'disparado': 1, 'balin': 1, 'afección': 1, 'aplica': 1, 'método': 1, 'ciencia': 1, 'extencion': 1, 'secundario': 1, 'gobiernos': 1, 'chantas': 1, 'contador': 1, 'tuvieron': 1, 'altos': 1, 'callados': 1, 'erraron': 1, 'llamo': 1, 'elit': 1, 'g': 1, 'unicos': 1, 'benefician': 1, 'medida': 1, 'conserva': 1, 'costumbres': 1, 'jardines': 1, 'baño': 1, 'ruido': 1, 'desorden': 1, 'quejaron': 1, 'caballo': 1, 'desen': 1, 'meaban': 1, 'atras': 1, 'homenaje': 1, 'ofrendar': 1, 'transitan': 1, 'aparece': 1, 'mango': 1, 'autorizan': 1, 'travas': 1, 'publicidades': 1, 'mercenarios': 1, 'garpan': 1, 'reclamos': 1, 'olla': 1, 'guindas': 1, 'emular': 1, 'tupaquera': 1, 'reclamo': 1, 'forjaron': 1, 'bases': 1, 'gozamos': 1, 'inculta': 1, 'cocinen': 1, 'obligó': 1, 'desearlo': 1, 'cocinemos': 1, 'tomarnos': 1, 'valentín': 1, 'halowen': 1, 'cartel': 1, 'participamos': 1, 'halowenn': 1, 'peluches': 1, 'difuntos': 1, 'abrazos': 1, 'salidita': 1, '🙆🏻\\u200d♀️': 1, 'oso': 1, 'regales': 1, 'asadito': 1, 'regalos': 1, 'manualidades': 1, 'pend': 1, 'jo': 1, 'carneros': 1, 'temático': 1, 'cumpleaños': 1, 'juegos': 1, 'viraliza': 1, 'publicaciones': 1, 'llamen': 1, 'concurso': 1, 'redactores': 1, 'risas': 1, 'prestemos': 1, 'miedos': 1, 'susperticiones': 1, 'generados': 1, 'capta': 1, 'didácticas': 1, 'atrofian': 1, 'juguete': 1, 'electronico': 1, 'muñeco': 1, 'morondanga': 1, 'sacaba': 1, 'cagadas': 1, 'colega': 1, 'dedicacion': 1, 'profesion': 1, 'recibiendo': 1, 'contentos': 1, 'derrame': 1, 'ayudes': 1, 'alegrías': 1, 'fisica': 1, 'adversidad': 1, 'acompañados': 1, 'guie': 1, 'cuidarán': 1, 'encontramos': 1, 'fortalezas': 1, 'tenelo': 1, '🙏🏻': 1, 'felucidades': 1, 'emprendas': 1, 'felitaciones': 1, 'estaran': 1, 'diste': 1, 'devolviste': 1, 'depositaron': 1, 'lejos': 1, 'viviran': 1, 'accion': 1, 'angeles': 1, 'cuidaran': 1, 'retos': 1, 'ahy': 1, 'envíe': 1, 'paraná': 1, 'fraternal': 1, 'exito': 1, 'papis': 1, 'firmamento': 1, 'coalición': 1, 'seguros': 1, 'oponentes': 1, 'candidatura': 1, 'pedirá': 1, 'relección': 1, 'ufa': 1, 'despierta': 1, 'vesubio': 1, 'norteño': 1, 'estatal': 1, 'ocuparse': 1, 'gaga': 1, 'oveja': 1, 'descarriada': 1, 'ambición': 1, 'mide': 1, 'larreta': 1, 'caldo': 1, 'gordo': 1, 'cabecita': 1, 'utilizaba': 1, 'migraban': 1, 'aires': 1, 'despedir': 1, 'dope': 1, 'pobrecito': 1, 'arranca': 1, 'llamándolos': 1, 'chabón': 1, 'identifica': 1, 'perjudicados': 1, 'laburan': 1, 'bondi': 1, 'apretados': 1, 'matadero': 1, 'ascinados': 1, '🤦🏻': 1, 'desbordada': 1, 'industrialización': 1, 'mari': 1, 'únicamente': 1, 'ignorantxs': 1, 'subtes': 1, 'nube': 1, 'pedos': 1, 'alcoholismo': 1, 'destruyendo': 1, 'reaca': 1, 'cuotas': 1, 'preocupe': 1, 'solucione': 1, 'gestiones': 1, 'amiguismo': 1, 'embolsillaron': 1, 'cotudos': 1, 'acertaron': 1, 'devuelva': 1, 'actúa': 1, 'esforzarse': 1, 'comparen': 1, 'lamotte': 1, 'insípido': 1, 'comparar': 1, 'escribió': 1, 'compararlo': 1, 'sikiera': 1, 'todito': 1, 'afiliado': 1, 'lucran': 1, 'estando': 1, 'eficiente': 1, 'expulsarlo': 1, 'permitirle': 1, 'pasean': 1, 'residen': 1, 'logico': 1, 'oficinas': 1, 'jay': 1, 'mande': 1, 'regresen': 1, 'cobija': 1, 'impulsar': 1, 'dañina': 1, 'regresan': 1, 'fronteras': 1, 'deportan': 1, 'rien': 1, 'canbiarse': 1, 'migratoria': 1, 'sumen': 1, 'cometen': 1, 'expulsrlos': 1, 'ministra': 1, 'trono': 1, 'típicos': 1, 'kirchneristas': 1, 'defensor': 1, 'milico': 1, 'mataban': 1, 'repudie': 1, 'hechen': 1, 'acompañada': 1, 'cocineras': 1, 'aguantando': 1, 'cuernos': 1, 'coperativa': 1, 'habilitaron': 1, 'acopio': 1, 'calesita': 1, 'deposito': 1, 'cuentas': 1, 'corrientes': 1, 'abogada': 1, 'recompensa': 1, 'luchadora': 1, 'lograr': 1, 'lograste': 1, 'objetivo': 1, 'luchan': 1, 'sacrificios': 1, 'mezcles': 1, 'cuidesen': 1, 'vivi': 1, 'plantaciones': 1, 'gra': 1, 'profecional': 1, 'desmereser': 1, 'duricimo': 1, 'luche': 1, 'ere': 1, 'jovencitas': 1, 'forjan': 1, 'ilusiones': 1, 'estudiaba': 1, 'trabajaba': 1, 'abraso': 1, 'ctes': 1, 'constancia': 1, 'fé': 1, 'tesón': 1, '⚖️': 1, 'recital': 1, 'alma': 1, '👌🏻': 1, 'uniformes': 1, 'dotes': 1, 'bellisimo': 1, 'mensajes': 1, 'demuestran': 1, 'habilidades': 1, 'pasarla': 1, 'autorizaron': 1, 'policiales': 1, 'confundió': 1, 'colegas': 1, 'hacerle': 1, 'orquestas': 1, 'lesgustapor': 1, 'alegran': 1, 'eyo': 1, 'ponele': 1, 'invierten': 1, 'ensayos': 1, 'practica': 1, 'agresiva': 1, 'vulgar': 1, 'buenicimo': 1, 'canten': 1, 'mánager': 1, 'escuché': 1, 'pasión': 1, 'estilo': 1, 'respetarlo': 1, 'animar': 1, 'bancan': 1, 'onor': 1, 'candelaria': 1, 'rompieron': 1, 'ritmo': 1, 'escuchandolos': 1, 'acercar': 1, 'aplaudible': 1, 'ingresaron': 1, 'orquesta': 1, 'parecido': 1, 'preciosta': 1, 'tienes': 1, 'acompañara': 1, 'acompañará': 1, 'lamento': 1, 'dudes': 1, 'licenciada': 1, 'disfrutes': 1, 'dl': 1, 'stará': 1, 'protejerá': 1, 'estapa': 1, '🌷': 1, 'aflojar': 1, 'burlan': 1, 'veteranos': 1, 'seguidores': 1, 'ingresar': 1, 'peros': 1}) 7849\n"
     ]
    }
   ],
   "source": [
    "features, labels, vocab, list_comment_ints = foo(data)"
   ]
  },
  {
   "cell_type": "code",
   "execution_count": null,
   "metadata": {
    "colab": {
     "base_uri": "https://localhost:8080/",
     "height": 421
    },
    "id": "FKKoFZMdImO_",
    "outputId": "889730c8-7462-4481-9a91-9e4bf78f37b3"
   },
   "outputs": [
    {
     "data": {
      "text/plain": [
       "Text(0.5, 1.0, 'Histograma')"
      ]
     },
     "execution_count": 6,
     "metadata": {},
     "output_type": "execute_result"
    },
    {
     "data": {
      "image/png": "[encoded data removed]",
      "text/plain": [
       "<Figure size 720x432 with 1 Axes>"
      ]
     },
     "metadata": {
      "needs_background": "light"
     },
     "output_type": "display_data"
    }
   ],
   "source": [
    "import matplotlib.pyplot as plt\n",
    "plt.figure(figsize=(10,6))\n",
    "plt.hist(list(map(len, list_comment_ints)), bins=60, alpha=1, edgecolor = 'black',  linewidth=1)\n",
    "plt.xlabel(\"longitud de comentario\")\n",
    "plt.ylabel(\"frecuencia\")\n",
    "plt.title(\"Histograma\")"
   ]
  },
  {
   "cell_type": "code",
   "execution_count": null,
   "metadata": {
    "id": "_bi3vAIIUSYh"
   },
   "outputs": [],
   "source": [
    "# separar emojis juntos, eliminar numeros y 'mensaje...mensaje'\n",
    "msj = 'Este es un mensaje...con este problema😃😃😃 222 pero igual!!! '\n",
    "msj = get_cleantext(msj)\n",
    "msj = encoding_words(msj,vocab)\n",
    "msj"
   ]
  },
  {
   "cell_type": "code",
   "execution_count": null,
   "metadata": {
    "id": "kQwKBvlOz0Zh"
   },
   "outputs": [],
   "source": [
    "len(vocab)"
   ]
  },
  {
   "cell_type": "code",
   "execution_count": null,
   "metadata": {
    "id": "2W9TN2zdWWXl"
   },
   "outputs": [],
   "source": [
    "#guardar como diccionario\n",
    "import pickle\n",
    "with open('vocab.pkl', 'wb') as f:\n",
    "    pickle.dump(vocab, f)"
   ]
  },
  {
   "cell_type": "markdown",
   "metadata": {
    "id": "t_D0RdnwMtP7"
   },
   "source": [
    "# Datos de Entrenamiento, Validación y Prueba"
   ]
  },
  {
   "cell_type": "code",
   "execution_count": null,
   "metadata": {
    "id": "9rzCeaPjMyAD"
   },
   "outputs": [],
   "source": [
    "import torch\n",
    "from torch.utils.data import TensorDataset, DataLoader\n",
    "\n",
    "def get_sets(features, labels, batch_size, split_frac):\n",
    "  '''Returns sets training, validation, and test data (features and labels, x and y)'''\n",
    "  split_idx = int(len(features)*split_frac) #quantity of data for training\n",
    "  train_x, remaining_x = features[:split_idx], features[split_idx:]\n",
    "  train_y, remaining_y = labels[:split_idx], labels[split_idx:]\n",
    "\n",
    "  test_idx = int(len(remaining_x)*0.5)\n",
    "  val_x, test_x = remaining_x[:test_idx], remaining_x[test_idx:]\n",
    "  val_y, test_y = remaining_y[:test_idx], remaining_y[test_idx:]\n",
    "  \n",
    "  # remove the lasts batch if not has completed\n",
    "  train_x = train_x[:int(split_idx/batch_size)*batch_size]\n",
    "  train_y = train_y[:int(split_idx/batch_size)*batch_size]\n",
    "\n",
    "  val_x = val_x[:int(test_idx/batch_size)*batch_size]\n",
    "  val_y = val_y[:int(test_idx/batch_size)*batch_size]\n",
    "\n",
    "  test_x = test_x[:int(test_idx/batch_size)*batch_size]\n",
    "  test_y = test_y[:int(test_idx/batch_size)*batch_size]\n",
    "\n",
    "  ## print out the shapes of your resultant feature data\n",
    "  print(\"\\t\\t\\tFeature Shapes:\")\n",
    "  print(\"Train set: \\t\\t{}\".format(train_x.shape), \n",
    "      \"\\nValidation set: \\t{}\".format(val_x.shape),\n",
    "      \"\\nTest set: \\t\\t{}\".format(test_x.shape))\n",
    "  \n",
    "  # create Tensor datasets\n",
    "  train_data = TensorDataset(torch.from_numpy(train_x), torch.from_numpy(train_y))\n",
    "  valid_data = TensorDataset(torch.from_numpy(val_x), torch.from_numpy(val_y))\n",
    "  test_data = TensorDataset(torch.from_numpy(test_x), torch.from_numpy(test_y))\n",
    "  \n",
    "  # make sure the SHUFFLE your training data\n",
    "  train_loader = DataLoader(train_data, shuffle=True, batch_size=batch_size)\n",
    "  valid_loader = DataLoader(valid_data, shuffle=True, batch_size=batch_size)\n",
    "  test_loader = DataLoader(test_data, shuffle=True, batch_size=batch_size)\n",
    "\n",
    "  return train_loader, valid_loader, test_loader\n",
    " "
   ]
  },
  {
   "cell_type": "code",
   "execution_count": null,
   "metadata": {
    "colab": {
     "base_uri": "https://localhost:8080/"
    },
    "id": "K0ePpaZKOcXx",
    "outputId": "757a874e-e4b1-481e-fb5a-3af665902255"
   },
   "outputs": [
    {
     "name": "stdout",
     "output_type": "stream",
     "text": [
      "\t\t\tFeature Shapes:\n",
      "Train set: \t\t(1895, 70) \n",
      "Validation set: \t(235, 70) \n",
      "Test set: \t\t(235, 70)\n",
      "\n",
      "cantidad lotes del train_loader 379\n",
      "cantidad lotes del valid_loader 47\n",
      "cantidad lotes del test_loader 47\n"
     ]
    }
   ],
   "source": [
    "batch_size=5\n",
    "train_loader, valid_loader, test_loader = get_sets(features, labels, batch_size, split_frac=0.8)\n",
    "print('')\n",
    "print('cantidad lotes del train_loader', len(train_loader))\n",
    "print('cantidad lotes del valid_loader', len(valid_loader))\n",
    "print('cantidad lotes del test_loader', len(test_loader))"
   ]
  },
  {
   "cell_type": "code",
   "execution_count": null,
   "metadata": {
    "id": "iBFG8IZRtFBl"
   },
   "outputs": [],
   "source": [
    "cont =0\n",
    "for inputs, labels in train_loader:\n",
    "  cont+=1\n",
    "  print(labels, cont) "
   ]
  },
  {
   "cell_type": "code",
   "execution_count": null,
   "metadata": {
    "id": "rJQJYTuK_F23"
   },
   "outputs": [],
   "source": [
    "dataiter = iter(train_loader)\n",
    "sample_x, sample_y = dataiter.next()\n",
    "\n",
    "print('Sample input size: ', sample_x.size()) # batch_size, seq_length\n",
    "print('Sample input: \\n', sample_x)\n",
    "print()\n",
    "print('Sample label size: ', sample_y.size()) # batch_size\n",
    "print('Sample label: \\n', sample_y)"
   ]
  },
  {
   "cell_type": "markdown",
   "metadata": {
    "id": "PPdSAf6xgVkr"
   },
   "source": [
    "## Modelo de Red RNN"
   ]
  },
  {
   "cell_type": "code",
   "execution_count": null,
   "metadata": {
    "colab": {
     "base_uri": "https://localhost:8080/"
    },
    "id": "AEfPjSl8gaJy",
    "outputId": "d7c2576b-6f23-4915-ce77-9979828182e5"
   },
   "outputs": [
    {
     "name": "stdout",
     "output_type": "stream",
     "text": [
      "Training on GPU.\n"
     ]
    }
   ],
   "source": [
    "# First checking if GPU is available\n",
    "train_on_gpu=torch.cuda.is_available()\n",
    "\n",
    "if(train_on_gpu):\n",
    "    print('Training on GPU.')\n",
    "else:\n",
    "    print('No GPU available, training on CPU.')"
   ]
  },
  {
   "cell_type": "code",
   "execution_count": null,
   "metadata": {
    "id": "TCdojVPTggcy"
   },
   "outputs": [],
   "source": [
    "import torch.nn as nn\n",
    "\n",
    "class SentimentRNN(nn.Module):\n",
    "    \"\"\"\n",
    "    The RNN model that will be used to perform Sentiment analysis.\n",
    "    \"\"\"\n",
    "\n",
    "    def __init__(self, vocab_size, output_size, embedding_dim, hidden_dim, n_layers, drop_prob=0.3):\n",
    "        \"\"\"\n",
    "        Initialize the model by setting up the layers.\n",
    "        \"\"\"\n",
    "        super(SentimentRNN, self).__init__()\n",
    "\n",
    "        self.output_size = output_size\n",
    "        self.n_layers = n_layers\n",
    "        self.hidden_dim = hidden_dim\n",
    "        \n",
    "        # embedding and LSTM layers\n",
    "        self.embedding = nn.Embedding(vocab_size, embedding_dim)\n",
    "        self.lstm = nn.LSTM(embedding_dim, hidden_dim, n_layers, dropout=drop_prob, batch_first=True)\n",
    "        \n",
    "        # dropout layer\n",
    "        self.dropout = nn.Dropout(0.3)\n",
    "        \n",
    "        # linear and sigmoid layers\n",
    "        self.fc = nn.Linear(hidden_dim, output_size)\n",
    "        self.sig = nn.Sigmoid()\n",
    "        \n",
    "\n",
    "    def forward(self, x, hidden):\n",
    "        \"\"\"\n",
    "        Perform a forward pass of our model on some input and hidden state.\n",
    "        \"\"\"\n",
    "        batch_size = x.size(0)\n",
    "\n",
    "        # embeddings and lstm_out\n",
    "        x = x.long()\n",
    "        embeds = self.embedding(x)\n",
    "        lstm_out, hidden = self.lstm(embeds, hidden)\n",
    "        \n",
    "        lstm_out = lstm_out[:, -1, :] # getting the last time step output\n",
    "        \n",
    "        # dropout and fully-connected layer\n",
    "        out = self.dropout(lstm_out)\n",
    "        out = self.fc(out)\n",
    "        # sigmoid function\n",
    "        sig_out = self.sig(out)\n",
    "        \n",
    "        # return last sigmoid output and hidden state\n",
    "        return sig_out, hidden\n",
    "    \n",
    "    \n",
    "    def init_hidden(self, batch_size):\n",
    "        ''' Initializes hidden state '''\n",
    "        # Create two new tensors with sizes n_layers x batch_size x hidden_dim,\n",
    "        # initialized to zero, for hidden state and cell state of LSTM\n",
    "        weight = next(self.parameters()).data\n",
    "        \n",
    "        if (train_on_gpu):\n",
    "            hidden = (weight.new(self.n_layers, batch_size, self.hidden_dim).zero_().cuda(),\n",
    "                  weight.new(self.n_layers, batch_size, self.hidden_dim).zero_().cuda())\n",
    "        else:\n",
    "            hidden = (weight.new(self.n_layers, batch_size, self.hidden_dim).zero_(),\n",
    "                      weight.new(self.n_layers, batch_size, self.hidden_dim).zero_())\n",
    "        \n",
    "        return hidden"
   ]
  },
  {
   "cell_type": "markdown",
   "metadata": {
    "id": "MSiMfH4uvyog"
   },
   "source": [
    "# Inicializacion de la red\n",
    "* `vocab_size`: Tamaño del vocabulario o rango de valores para nuestra entrada, tokens de palabras.\n",
    "* `output_size`: Tamaño de la salida deseada (pos / neg).\n",
    "* `embedding_dim`: Número de columnas en la tabla de embedding.\n",
    "* `hidden_dim`: Número de nodos en capas ocultas. Por lo general, más grande tiene un mejor rendimiento. Los valores comnues son 128, 256, 512, etc.\n",
    "* `n_layers`: Número de capas LSTM en la red. Normalmente entre 1-3\n"
   ]
  },
  {
   "cell_type": "code",
   "execution_count": null,
   "metadata": {
    "colab": {
     "base_uri": "https://localhost:8080/"
    },
    "id": "pyixWWKXgpny",
    "outputId": "51f11519-b429-4740-f2dc-f4e10935b62d"
   },
   "outputs": [
    {
     "name": "stdout",
     "output_type": "stream",
     "text": [
      "SentimentRNN(\n",
      "  (embedding): Embedding(7850, 50)\n",
      "  (lstm): LSTM(50, 128, num_layers=4, batch_first=True, dropout=0.3)\n",
      "  (dropout): Dropout(p=0.3, inplace=False)\n",
      "  (fc): Linear(in_features=128, out_features=1, bias=True)\n",
      "  (sig): Sigmoid()\n",
      ")\n"
     ]
    }
   ],
   "source": [
    "vocab_size = len(vocab)+1 # +1 for the 0 padding + our word tokens\n",
    "output_size = 1\n",
    "embedding_dim = 50\n",
    "hidden_dim = 128\n",
    "n_layers = 4\n",
    "\n",
    "net = SentimentRNN(vocab_size, output_size, embedding_dim, hidden_dim, n_layers)\n",
    "\n",
    "print(net)"
   ]
  },
  {
   "cell_type": "markdown",
   "metadata": {
    "id": "RG-h6v50w9h_"
   },
   "source": [
    "## Training\n",
    "\n",
    "* `lr`: Tasa de aprendizaje.\n",
    "* `epochs`: Número de veces que se itera a través del conjunto de datos de entrenamiento.\n",
    "* `clip`: El valor de degradado máximo al que se recortará (para evitar la explosión de degradados)."
   ]
  },
  {
   "cell_type": "code",
   "execution_count": null,
   "metadata": {
    "id": "eymFgq75aiqV"
   },
   "outputs": [],
   "source": [
    "def training_net(net, batch_size, train_loader, valid_loader):\n",
    "  lr=0.001\n",
    "  criterion = nn.BCELoss()\n",
    "  optimizer = torch.optim.Adam(net.parameters(), lr=lr)\n",
    "  epochs = 10\n",
    "  counter = 0\n",
    "  print_every = 100\n",
    "  clip=5 # gradient clipping\n",
    "\n",
    "  # move model to GPU, if available\n",
    "  if(train_on_gpu):\n",
    "    net.cuda()\n",
    "  net.train()\n",
    "\n",
    "  train_losses, test_losses = [], []\n",
    "  # train for some number of epochs\n",
    "  for e in range(epochs):\n",
    "    running_loss = 0 #######\n",
    "    # initialize hidden state\n",
    "    h = net.init_hidden(batch_size)    \n",
    "    \n",
    "    # batch loop    \n",
    "    for inputs, labels in train_loader: \n",
    "      counter += 1\n",
    "      if(train_on_gpu):  \n",
    "        inputs, labels = inputs.cuda(), labels.cuda()\n",
    "      \n",
    "      # Creating new variables for the hidden state, otherwise\n",
    "      # we'd backprop through the entire training history\n",
    "      h = tuple([each.data for each in h])\n",
    "      \n",
    "      # zero accumulated gradients\n",
    "      net.zero_grad()\n",
    "\n",
    "      # get the output from the model\n",
    "      output, h = net(inputs, h)\n",
    "      # calculate the loss and perform backprop\n",
    "      loss = criterion(output.squeeze(), labels.float())\n",
    "      loss.backward()\n",
    "\n",
    "      # `clip_grad_norm` helps prevent the exploding gradient problem in RNNs / LSTMs.\n",
    "      nn.utils.clip_grad_norm_(net.parameters(), clip)\n",
    "      optimizer.step()\n",
    "      running_loss += loss.item()\n",
    "      \n",
    "      # loss stats\n",
    "      if counter % print_every == 0:\n",
    "        # Get validation loss\n",
    "        val_h = net.init_hidden(batch_size)\n",
    "        val_losses = []\n",
    "        net.eval()\n",
    "        for inputs, labels in valid_loader:\n",
    "          \n",
    "          # Creating new variables for the hidden state, otherwise\n",
    "          # we'd backprop through the entire training history\n",
    "          val_h = tuple([each.data for each in val_h])\n",
    "          if(train_on_gpu):\n",
    "            inputs, labels = inputs.cuda(), labels.cuda()            \n",
    "          output, val_h = net(inputs, val_h)          \n",
    "          val_loss = criterion(output.squeeze(), labels.float())\n",
    "\n",
    "          val_losses.append(val_loss.item())\n",
    "\n",
    "        net.train()\n",
    "        print(\"Epoch: {}/{}...\".format(e+1, epochs),\n",
    "                \"Step: {}...\".format(counter),\n",
    "                \"Loss: {:.6f}...\".format(loss.item()),\n",
    "                \"Val Loss: {:.6f}\".format(np.mean(val_losses)))"
   ]
  },
  {
   "cell_type": "code",
   "execution_count": null,
   "metadata": {
    "id": "YbQlUpNhvqjR"
   },
   "outputs": [],
   "source": [
    "#Utilizar este\n",
    "import matplotlib.pyplot as plt\n",
    "\n",
    "def training_net1(net, batch_size, train_loader, valid_loader):\n",
    "  lr=0.001\n",
    "  criterion = nn.BCELoss()\n",
    "  optimizer = torch.optim.Adam(net.parameters(), lr=lr)\n",
    "  epochs = 4\n",
    "  counter = 0\n",
    "  print_every = 100\n",
    "  clip=5 # gradient clipping\n",
    "\n",
    "  # move model to GPU, if available\n",
    "  if(train_on_gpu):\n",
    "    net.cuda()\n",
    "  net.train()\n",
    "\n",
    "  train_losses, validation_losses = [], []\n",
    "  # train for some number of epochs\n",
    "  for e in range(epochs):\n",
    "    running_loss = 0\n",
    "    # initialize hidden state\n",
    "    h = net.init_hidden(batch_size)    \n",
    "    \n",
    "    # batch loop    \n",
    "    for inputs, labels in train_loader: \n",
    "      counter += 1\n",
    "      if(train_on_gpu):  \n",
    "        inputs, labels = inputs.cuda(), labels.cuda()\n",
    "      \n",
    "      # Creating new variables for the hidden state, otherwise\n",
    "      # we'd backprop through the entire training history\n",
    "      h = tuple([each.data for each in h])\n",
    "      \n",
    "      # zero accumulated gradients\n",
    "      net.zero_grad()\n",
    "\n",
    "      # get the output from the model\n",
    "      output, h = net(inputs, h)\n",
    "      # calculate the loss and perform backprop\n",
    "      loss = criterion(output.squeeze(), labels.float())\n",
    "      loss.backward()\n",
    "\n",
    "      # `clip_grad_norm` helps prevent the exploding gradient problem in RNNs / LSTMs.\n",
    "      nn.utils.clip_grad_norm_(net.parameters(), clip)\n",
    "      optimizer.step()\n",
    "      running_loss += loss.item()\n",
    "    \n",
    "    else:\n",
    "      val_h = net.init_hidden(batch_size)\n",
    "      val_losses = []      \n",
    "      with torch.no_grad():\n",
    "        net.eval()\n",
    "        for inputs, labels in valid_loader:\n",
    "          # Creating new variables for the hidden state, otherwise\n",
    "          # we'd backprop through the entire training history\n",
    "          val_h = tuple([each.data for each in val_h])\n",
    "          if(train_on_gpu):\n",
    "            inputs, labels = inputs.cuda(), labels.cuda()            \n",
    "          output, val_h = net(inputs, val_h)          \n",
    "          val_loss = criterion(output.squeeze(), labels.float())\n",
    "\n",
    "          val_losses.append(val_loss.item())\n",
    "      net.train() \n",
    "      print(\"Epoch: {}/{}...\".format(e+1, epochs),\n",
    "              \"Step: {}...\".format(counter),\n",
    "              \"Loss: {:.6f}...\".format(running_loss/len(train_loader)),\n",
    "              \"Val Loss: {:.6f}\".format(np.mean(val_losses)))\n",
    "\n",
    "    train_losses.append(running_loss/len(train_loader))\n",
    "    validation_losses.append(np.mean(val_losses))\n",
    "  \n",
    "  plt.plot(train_losses, label='Training losses')\n",
    "  plt.plot(validation_losses, label='Validation losses')\n",
    "  plt.legend(frameon=False)\n",
    "  \n"
   ]
  },
  {
   "cell_type": "code",
   "execution_count": null,
   "metadata": {
    "id": "lrlVT1WP10nf"
   },
   "outputs": [],
   "source": [
    "print(len(train_loader))\n",
    "print(len(valid_loader))"
   ]
  },
  {
   "cell_type": "code",
   "execution_count": null,
   "metadata": {
    "id": "NObg7GGLsQFA"
   },
   "outputs": [],
   "source": [
    "training_net1(net, batch_size, train_loader, valid_loader)"
   ]
  },
  {
   "cell_type": "markdown",
   "metadata": {
    "id": "ecHH3jvrCR7j"
   },
   "source": [
    "# Testing"
   ]
  },
  {
   "cell_type": "code",
   "execution_count": null,
   "metadata": {
    "id": "_Z8OptOKCVgB"
   },
   "outputs": [],
   "source": [
    "def testing(net, test_loader):\n",
    "  # Get test data loss and accuracy\n",
    "  test_losses = [] # track loss\n",
    "  num_correct = 0\n",
    "  criterion = nn.BCELoss()\n",
    "  #optimizer = torch.optim.Adam(net.parameters(), lr=lr)\n",
    "  # init hidden state\n",
    "  h = net.init_hidden(batch_size)\n",
    "\n",
    "  net.eval()\n",
    "  # iterate over test data\n",
    "  for inputs, labels in test_loader:\n",
    "      # Creating new variables for the hidden state, otherwise\n",
    "      # we'd backprop through the entire training history\n",
    "      h = tuple([each.data for each in h])\n",
    "\n",
    "      if(train_on_gpu):\n",
    "          inputs, labels = inputs.cuda(), labels.cuda()\n",
    "      \n",
    "      # get predicted outputs\n",
    "      output, h = net(inputs, h)\n",
    "    \n",
    "      # calculate loss\n",
    "      test_loss = criterion(output.squeeze(), labels.float())\n",
    "      test_losses.append(test_loss.item())\n",
    "      \n",
    "      # convert output probabilities to predicted class (0 or 1)\n",
    "      pred = torch.round(output.squeeze())  # rounds to the nearest integer\n",
    "      \n",
    "      # compare predictions to true label\n",
    "      correct_tensor = pred.eq(labels.float().view_as(pred))\n",
    "      correct = np.squeeze(correct_tensor.numpy()) if not train_on_gpu else np.squeeze(correct_tensor.cpu().numpy())\n",
    "      num_correct += np.sum(correct)\n",
    "\n",
    "  # -- stats! -- ##\n",
    "  # avg test loss\n",
    "  print(\"Test loss: {:.3f}\".format(np.mean(test_losses)))\n",
    "\n",
    "  # accuracy over all test data\n",
    "  test_acc = num_correct/len(test_loader.dataset)\n",
    "  print(\"Length the test data\", len(test_loader))\n",
    "  print(\"Test accuracy: {:.3f}\".format(test_acc))"
   ]
  },
  {
   "cell_type": "code",
   "execution_count": null,
   "metadata": {
    "colab": {
     "base_uri": "https://localhost:8080/"
    },
    "id": "8YQ3P8r5Cn56",
    "outputId": "1befd40d-b6f5-427f-9a86-b23ceb8c90d0"
   },
   "outputs": [
    {
     "name": "stdout",
     "output_type": "stream",
     "text": [
      "Test loss: 1.384\n",
      "Length the test data 47\n",
      "Test accuracy: 0.851\n"
     ]
    }
   ],
   "source": [
    "testing(net, test_loader)"
   ]
  },
  {
   "cell_type": "markdown",
   "metadata": {
    "id": "crnBcHfxE3Av"
   },
   "source": [
    "# Prueba usuario"
   ]
  },
  {
   "cell_type": "code",
   "execution_count": null,
   "metadata": {
    "id": "p--Ombz8E59P"
   },
   "outputs": [],
   "source": [
    "def tokenize_comment(comment, vocab):\n",
    "  test_ints = []\n",
    "  comment = get_cleantext(comment)\n",
    "  comment = encoding_words(comment,vocab)\n",
    "  test_ints.append(comment)  \n",
    "  comment = pad_features(test_ints, seq_length=100)\n",
    "  return comment\n",
    "\n",
    "def predict(net, test_comment, vocab ,sequence_length=100):\n",
    "    \n",
    "    net.eval()\n",
    "\n",
    "    # tokenize review\n",
    "    features = tokenize_comment(test_comment, vocab)\n",
    "    \n",
    "    # print('test int', test_ints)\n",
    "    # # pad tokenized sequence\n",
    "    # seq_length=sequence_length\n",
    "    # features = pad_features(test_ints, seq_length)\n",
    "    # print(features)\n",
    "    \n",
    "    # convert to tensor to pass into your model\n",
    "    feature_tensor = torch.from_numpy(features)\n",
    "    \n",
    "    batch_size = feature_tensor.size(0)\n",
    "    \n",
    "    # initialize hidden state\n",
    "    h = net.init_hidden(batch_size)\n",
    "    \n",
    "    if(train_on_gpu):\n",
    "        feature_tensor = feature_tensor.cuda()\n",
    "    \n",
    "    # get the output from the model\n",
    "    output, h = net(feature_tensor, h)\n",
    "    \n",
    "    # convert output probabilities to predicted class (0 or 1)\n",
    "    pred = torch.round(output.squeeze()) \n",
    "    # printing output value, before rounding\n",
    "    print('Prediction value, pre-rounding: {:.6f}'.format(output.item()))\n",
    "    \n",
    "    # print custom response\n",
    "    if(pred.item()==1):\n",
    "        print(\"Positive review detected!\")\n",
    "    else:\n",
    "        print(\"Negative review detected.\")\n",
    "    return output.item()\n"
   ]
  },
  {
   "cell_type": "code",
   "execution_count": null,
   "metadata": {
    "colab": {
     "base_uri": "https://localhost:8080/"
    },
    "id": "_q04y9M3UcCA",
    "outputId": "205e774f-30da-4a4c-81cb-1d137677001f"
   },
   "outputs": [
    {
     "name": "stdout",
     "output_type": "stream",
     "text": [
      "Prediction value, pre-rounding: 0.007691\n",
      "Negative review detected.\n"
     ]
    },
    {
     "data": {
      "text/plain": [
       "0.007690620608627796"
      ]
     },
     "execution_count": 51,
     "metadata": {},
     "output_type": "execute_result"
    }
   ],
   "source": [
    "test_comment = \"✌🏻\"\n",
    "predict(net, test_comment, vocab)"
   ]
  },
  {
   "cell_type": "code",
   "execution_count": null,
   "metadata": {
    "id": "Wwu1FYDBbvrL"
   },
   "outputs": [],
   "source": [
    "for key, value in emoj.items():\n",
    "  emoj[key]=predict(net, key, vocab)"
   ]
  },
  {
   "cell_type": "code",
   "execution_count": null,
   "metadata": {
    "id": "Nq7-lpYkcV7w"
   },
   "outputs": [],
   "source": [
    "sorted(emoj.items(), key=lambda x: x[1]) "
   ]
  },
  {
   "cell_type": "code",
   "execution_count": null,
   "metadata": {
    "colab": {
     "base_uri": "https://localhost:8080/",
     "height": 424
    },
    "id": "EBapsVgodkWS",
    "outputId": "81c59198-4d88-43c2-eb01-f623b65934b9"
   },
   "outputs": [
    {
     "data": {
      "text/html": [
       "\n",
       "  <div id=\"df-83dc322b-9395-4e34-9213-21c806adf374\">\n",
       "    <div class=\"colab-df-container\">\n",
       "      <div>\n",
       "<style scoped>\n",
       "    .dataframe tbody tr th:only-of-type {\n",
       "        vertical-align: middle;\n",
       "    }\n",
       "\n",
       "    .dataframe tbody tr th {\n",
       "        vertical-align: top;\n",
       "    }\n",
       "\n",
       "    .dataframe thead th {\n",
       "        text-align: right;\n",
       "    }\n",
       "</style>\n",
       "<table border=\"1\" class=\"dataframe\">\n",
       "  <thead>\n",
       "    <tr style=\"text-align: right;\">\n",
       "      <th></th>\n",
       "      <th>emoji</th>\n",
       "      <th>prediction</th>\n",
       "    </tr>\n",
       "  </thead>\n",
       "  <tbody>\n",
       "    <tr>\n",
       "      <th>102</th>\n",
       "      <td>😡</td>\n",
       "      <td>0.000281</td>\n",
       "    </tr>\n",
       "    <tr>\n",
       "      <th>153</th>\n",
       "      <td>🤬</td>\n",
       "      <td>0.000687</td>\n",
       "    </tr>\n",
       "    <tr>\n",
       "      <th>46</th>\n",
       "      <td>👎</td>\n",
       "      <td>0.000700</td>\n",
       "    </tr>\n",
       "    <tr>\n",
       "      <th>107</th>\n",
       "      <td>😫</td>\n",
       "      <td>0.000722</td>\n",
       "    </tr>\n",
       "    <tr>\n",
       "      <th>71</th>\n",
       "      <td>💩</td>\n",
       "      <td>0.000981</td>\n",
       "    </tr>\n",
       "    <tr>\n",
       "      <th>...</th>\n",
       "      <td>...</td>\n",
       "      <td>...</td>\n",
       "    </tr>\n",
       "    <tr>\n",
       "      <th>68</th>\n",
       "      <td>💛</td>\n",
       "      <td>0.999997</td>\n",
       "    </tr>\n",
       "    <tr>\n",
       "      <th>6</th>\n",
       "      <td>❤</td>\n",
       "      <td>0.999997</td>\n",
       "    </tr>\n",
       "    <tr>\n",
       "      <th>169</th>\n",
       "      <td>🥰</td>\n",
       "      <td>0.999997</td>\n",
       "    </tr>\n",
       "    <tr>\n",
       "      <th>47</th>\n",
       "      <td>👏</td>\n",
       "      <td>0.999997</td>\n",
       "    </tr>\n",
       "    <tr>\n",
       "      <th>41</th>\n",
       "      <td>👋</td>\n",
       "      <td>0.999998</td>\n",
       "    </tr>\n",
       "  </tbody>\n",
       "</table>\n",
       "<p>177 rows × 2 columns</p>\n",
       "</div>\n",
       "      <button class=\"colab-df-convert\" onclick=\"convertToInteractive('df-83dc322b-9395-4e34-9213-21c806adf374')\"\n",
       "              title=\"Convert this dataframe to an interactive table.\"\n",
       "              style=\"display:none;\">\n",
       "        \n",
       "  <svg xmlns=\"http://www.w3.org/2000/svg\" height=\"24px\"viewBox=\"0 0 24 24\"\n",
       "       width=\"24px\">\n",
       "    <path d=\"M0 0h24v24H0V0z\" fill=\"none\"/>\n",
       "    <path d=\"M18.56 5.44l.94 2.06.94-2.06 2.06-.94-2.06-.94-.94-2.06-.94 2.06-2.06.94zm-11 1L8.5 8.5l.94-2.06 2.06-.94-2.06-.94L8.5 2.5l-.94 2.06-2.06.94zm10 10l.94 2.06.94-2.06 2.06-.94-2.06-.94-.94-2.06-.94 2.06-2.06.94z\"/><path d=\"M17.41 7.96l-1.37-1.37c-.4-.4-.92-.59-1.43-.59-.52 0-1.04.2-1.43.59L10.3 9.45l-7.72 7.72c-.78.78-.78 2.05 0 2.83L4 21.41c.39.39.9.59 1.41.59.51 0 1.02-.2 1.41-.59l7.78-7.78 2.81-2.81c.8-.78.8-2.07 0-2.86zM5.41 20L4 18.59l7.72-7.72 1.47 1.35L5.41 20z\"/>\n",
       "  </svg>\n",
       "      </button>\n",
       "      \n",
       "  <style>\n",
       "    .colab-df-container {\n",
       "      display:flex;\n",
       "      flex-wrap:wrap;\n",
       "      gap: 12px;\n",
       "    }\n",
       "\n",
       "    .colab-df-convert {\n",
       "      background-color: #E8F0FE;\n",
       "      border: none;\n",
       "      border-radius: 50%;\n",
       "      cursor: pointer;\n",
       "      display: none;\n",
       "      fill: #1967D2;\n",
       "      height: 32px;\n",
       "      padding: 0 0 0 0;\n",
       "      width: 32px;\n",
       "    }\n",
       "\n",
       "    .colab-df-convert:hover {\n",
       "      background-color: #E2EBFA;\n",
       "      box-shadow: 0px 1px 2px rgba(60, 64, 67, 0.3), 0px 1px 3px 1px rgba(60, 64, 67, 0.15);\n",
       "      fill: #174EA6;\n",
       "    }\n",
       "\n",
       "    [theme=dark] .colab-df-convert {\n",
       "      background-color: #3B4455;\n",
       "      fill: #D2E3FC;\n",
       "    }\n",
       "\n",
       "    [theme=dark] .colab-df-convert:hover {\n",
       "      background-color: #434B5C;\n",
       "      box-shadow: 0px 1px 3px 1px rgba(0, 0, 0, 0.15);\n",
       "      filter: drop-shadow(0px 1px 2px rgba(0, 0, 0, 0.3));\n",
       "      fill: #FFFFFF;\n",
       "    }\n",
       "  </style>\n",
       "\n",
       "      <script>\n",
       "        const buttonEl =\n",
       "          document.querySelector('#df-83dc322b-9395-4e34-9213-21c806adf374 button.colab-df-convert');\n",
       "        buttonEl.style.display =\n",
       "          google.colab.kernel.accessAllowed ? 'block' : 'none';\n",
       "\n",
       "        async function convertToInteractive(key) {\n",
       "          const element = document.querySelector('#df-83dc322b-9395-4e34-9213-21c806adf374');\n",
       "          const dataTable =\n",
       "            await google.colab.kernel.invokeFunction('convertToInteractive',\n",
       "                                                     [key], {});\n",
       "          if (!dataTable) return;\n",
       "\n",
       "          const docLinkHtml = 'Like what you see? Visit the ' +\n",
       "            '<a target=\"_blank\" href=https://colab.research.google.com/notebooks/data_table.ipynb>data table notebook</a>'\n",
       "            + ' to learn more about interactive tables.';\n",
       "          element.innerHTML = '';\n",
       "          dataTable['output_type'] = 'display_data';\n",
       "          await google.colab.output.renderOutput(dataTable, element);\n",
       "          const docLink = document.createElement('div');\n",
       "          docLink.innerHTML = docLinkHtml;\n",
       "          element.appendChild(docLink);\n",
       "        }\n",
       "      </script>\n",
       "    </div>\n",
       "  </div>\n",
       "  "
      ],
      "text/plain": [
       "    emoji  prediction\n",
       "102     😡    0.000281\n",
       "153     🤬    0.000687\n",
       "46      👎    0.000700\n",
       "107     😫    0.000722\n",
       "71      💩    0.000981\n",
       "..    ...         ...\n",
       "68      💛    0.999997\n",
       "6       ❤    0.999997\n",
       "169     🥰    0.999997\n",
       "47      👏    0.999997\n",
       "41      👋    0.999998\n",
       "\n",
       "[177 rows x 2 columns]"
      ]
     },
     "execution_count": 61,
     "metadata": {},
     "output_type": "execute_result"
    }
   ],
   "source": [
    "df_emoji = pd.DataFrame(emoj.items(), columns=['emoji', 'prediction'])\n",
    "df_emoji.sort_values(by=['prediction'])"
   ]
  },
  {
   "cell_type": "markdown",
   "metadata": {
    "id": "hKZWCwL3X_Sk"
   },
   "source": [
    "# Descargar modelo"
   ]
  },
  {
   "cell_type": "code",
   "execution_count": null,
   "metadata": {
    "id": "BcSE8fLXYE5g"
   },
   "outputs": [],
   "source": [
    "PATH = \"trainedModel.pth\"\n",
    "torch.save(net.state_dict(),PATH)"
   ]
  },
  {
   "cell_type": "code",
   "execution_count": null,
   "metadata": {
    "id": "1oRLq42Igqnn"
   },
   "outputs": [],
   "source": [
    "#cargar el vocabulario\n",
    "import pickle\n",
    " with open('vocab.pkl', 'rb') as f:\n",
    "   vocab = pickle.load(f)"
   ]
  },
  {
   "cell_type": "code",
   "execution_count": null,
   "metadata": {
    "id": "IJlxyb7gYKe3"
   },
   "outputs": [],
   "source": [
    "#Cargar modelo\n",
    "import torch\n",
    "\n",
    "PATH = \"trainedModel.pth\"\n",
    "vocab_size = len(vocab) + 1 # +1 for the 0 padding + our word tokens\n",
    "output_size = 1\n",
    "embedding_dim = 400\n",
    "hidden_dim = 256\n",
    "n_layers = 2\n",
    "net = SentimentRNN(vocab_size, output_size, embedding_dim, hidden_dim, n_layers)\n",
    "net.load_state_dict(torch.load(PATH))\n"
   ]
  },
  {
   "cell_type": "code",
   "execution_count": null,
   "metadata": {
    "id": "taB2J4WBePsJ"
   },
   "outputs": [],
   "source": [
    " net = net.to(device='cuda')\n",
    " net.eval()"
   ]
  },
  {
   "cell_type": "code",
   "execution_count": null,
   "metadata": {
    "id": "ogyS-0y5o5WG"
   },
   "outputs": [],
   "source": [
    "net.state_dict()"
   ]
  }
 ],
 "metadata": {
  "accelerator": "GPU",
  "colab": {
   "collapsed_sections": [],
   "name": "ModeloRNN.ipynb",
   "provenance": []
  },
  "kernelspec": {
   "display_name": "Python 3 (ipykernel)",
   "language": "python",
   "name": "python3"
  },
  "language_info": {
   "codemirror_mode": {
    "name": "ipython",
    "version": 3
   },
   "file_extension": ".py",
   "mimetype": "text/x-python",
   "name": "python",
   "nbconvert_exporter": "python",
   "pygments_lexer": "ipython3",
   "version": "3.9.12"
  }
 },
 "nbformat": 4,
 "nbformat_minor": 1
}

{
 "cells": [
  {
   "cell_type": "markdown",
   "id": "05d50de8",
   "metadata": {},
   "source": [
    "# Diplomatura en Ciencia de Datos, Aprendizaje Automático y sus Aplicaciones\n",
    "\n",
    "Mentoría: Análisis de sentimiento sobre noticias financieras e indicadores financieros\n",
    "\n",
    "Grupo B\n",
    "\n",
    "Integrantes:\n",
    "\n",
    "Alonso, Guillermo\n",
    "\n",
    "Ramos, Pablo Nicolás\n",
    "\n",
    "Rocco, Victor\n",
    "\n",
    "Salama, Ana"
   ]
  },
  {
   "cell_type": "code",
   "execution_count": 1,
   "id": "7ea6d5af",
   "metadata": {},
   "outputs": [],
   "source": [
    "# Se importan librerías\n",
    "import sklearn.neighbors._base \n",
    "import sys\n",
    "sys.modules['sklearn.neighbors.base'] = sklearn.neighbors._base\n",
    "\n",
    "import os\n",
    "import re\n",
    "import pandas as pd\n",
    "import numpy as np\n",
    "import matplotlib.pyplot as plt\n",
    "import matplotlib.pylab as pylab\n",
    "import seaborn as sns\n",
    "\n",
    "from xgbimputer import XGBImputer\n",
    "\n",
    "from MissingValuesHandler.missing_data_handler import RandomForestImputer\n",
    "\n",
    "from datetime import datetime\n",
    "\n",
    "from sklearn.feature_selection import SelectKBest, chi2, f_classif\n",
    "from sklearn.model_selection import train_test_split, StratifiedShuffleSplit\n",
    "from sklearn.metrics import accuracy_score, precision_score, recall_score\n",
    "from sklearn.metrics import f1_score, plot_confusion_matrix, roc_auc_score, roc_curve\n",
    "\n",
    "from sklearn import tree\n",
    "from sklearn.experimental import enable_iterative_imputer\n",
    "from sklearn.impute import IterativeImputer\n",
    "from sklearn.ensemble import RandomForestRegressor\n",
    "from sklearn.neighbors import KNeighborsRegressor\n",
    "from sklearn.neighbors import KNeighborsClassifier\n",
    "from sklearn.impute import KNNImputer\n",
    "from sklearn.impute import SimpleImputer\n",
    "\n",
    "from lightgbm import LGBMClassifier\n",
    "\n",
    "from sklearn.compose import ColumnTransformer\n",
    "from sklearn.pipeline import Pipeline\n",
    "from sklearn.preprocessing import OneHotEncoder\n",
    "\n",
    "from sklearn.model_selection import cross_val_score, cross_validate, KFold \n",
    "from sklearn.model_selection import StratifiedKFold, LeaveOneOut, LeavePOut\n",
    "from sklearn.metrics import recall_score, accuracy_score, precision_score, f1_score\n",
    "from sklearn.metrics import roc_auc_score, mean_squared_error, r2_score, confusion_matrix\n",
    "from sklearn.metrics import classification_report, ConfusionMatrixDisplay\n",
    "from sklearn.preprocessing import StandardScaler, LabelEncoder\n",
    "from sklearn.ensemble import RandomForestClassifier as RFC\n",
    "from sklearn.model_selection import train_test_split, GridSearchCV, StratifiedKFold\n",
    "\n",
    "from sklearn.tree import DecisionTreeClassifier\n",
    "from sklearn.svm import SVC\n",
    "from joblib import dump\n",
    "\n",
    "from sklearn.model_selection import train_test_split\n",
    "from sklearn.linear_model import SGDClassifier\n",
    "from sklearn.linear_model import RidgeClassifier\n",
    "from sklearn.neighbors import KNeighborsClassifier\n",
    "from sklearn.ensemble import BaggingClassifier\n",
    "from sklearn.linear_model import LogisticRegression\n",
    "import lightgbm as lgb\n",
    "from sklearn.metrics import confusion_matrix\n",
    "\n",
    "from sklearn.neural_network import MLPClassifier\n",
    "from xgboost import XGBClassifier\n",
    "from sklearn.naive_bayes import GaussianNB\n",
    "from sklearn.svm import LinearSVC\n",
    "from missingpy import MissForest\n",
    "\n",
    "sns.set_context('talk')\n",
    "\n",
    "import plotly\n",
    "plotly.__version__\n",
    "\n",
    "np.set_printoptions(suppress=True)  # no usar notacion \"e\"\n",
    "\n",
    "random_seed = 42"
   ]
  },
  {
   "cell_type": "code",
   "execution_count": 2,
   "id": "0b84b8d5",
   "metadata": {},
   "outputs": [],
   "source": [
    "# Se lee el dataset que se obtuvo en la segunda entrega\n",
    "df = pd.read_csv(os.path.join(os.getcwd(), \"data\", \"clean_news_dataset_v2.csv\"))"
   ]
  },
  {
   "cell_type": "code",
   "execution_count": 3,
   "id": "55d927e4",
   "metadata": {},
   "outputs": [
    {
     "data": {
      "text/plain": [
       "(221513, 12)"
      ]
     },
     "execution_count": 3,
     "metadata": {},
     "output_type": "execute_result"
    }
   ],
   "source": [
    "# Inspeccionamos los datos\n",
    "df.shape"
   ]
  },
  {
   "cell_type": "code",
   "execution_count": 4,
   "id": "f044ec5c",
   "metadata": {},
   "outputs": [
    {
     "data": {
      "text/plain": [
       "id                   0\n",
       "ticker               0\n",
       "title                0\n",
       "category             0\n",
       "content              8\n",
       "release_date         0\n",
       "provider             0\n",
       "url                  0\n",
       "article_id           0\n",
       "release_date_year    0\n",
       "clean_content        8\n",
       "clean_title          4\n",
       "dtype: int64"
      ]
     },
     "execution_count": 4,
     "metadata": {},
     "output_type": "execute_result"
    }
   ],
   "source": [
    "# Fill empty and NaNs values with NaN\n",
    "dataset = df.fillna(np.nan)\n",
    "\n",
    "# Check for Null values\n",
    "dataset.isnull().sum()"
   ]
  },
  {
   "cell_type": "code",
   "execution_count": 5,
   "id": "e6f486f4",
   "metadata": {},
   "outputs": [
    {
     "data": {
      "text/plain": [
       "False"
      ]
     },
     "execution_count": 5,
     "metadata": {},
     "output_type": "execute_result"
    }
   ],
   "source": [
    "# Revisamos si hay registros duplicados\n",
    "df.duplicated().any()"
   ]
  },
  {
   "cell_type": "code",
   "execution_count": 6,
   "id": "356812ce",
   "metadata": {},
   "outputs": [],
   "source": [
    "df = df.dropna()"
   ]
  },
  {
   "cell_type": "code",
   "execution_count": 8,
   "id": "5c881e6d",
   "metadata": {},
   "outputs": [
    {
     "data": {
      "text/plain": [
       "id                    int64\n",
       "ticker               object\n",
       "title                object\n",
       "category             object\n",
       "content              object\n",
       "release_date         object\n",
       "provider             object\n",
       "url                  object\n",
       "article_id            int64\n",
       "release_date_year     int64\n",
       "clean_content        object\n",
       "clean_title          object\n",
       "dtype: object"
      ]
     },
     "execution_count": 8,
     "metadata": {},
     "output_type": "execute_result"
    }
   ],
   "source": [
    "df.dtypes"
   ]
  },
  {
   "cell_type": "code",
   "execution_count": 9,
   "id": "6ee8c5d8",
   "metadata": {},
   "outputs": [
    {
     "data": {
      "text/plain": [
       "id                   0\n",
       "ticker               0\n",
       "title                0\n",
       "category             0\n",
       "content              0\n",
       "release_date         0\n",
       "provider             0\n",
       "url                  0\n",
       "article_id           0\n",
       "release_date_year    0\n",
       "clean_content        0\n",
       "clean_title          0\n",
       "dtype: int64"
      ]
     },
     "execution_count": 9,
     "metadata": {},
     "output_type": "execute_result"
    }
   ],
   "source": [
    "df.isnull().sum()"
   ]
  },
  {
   "cell_type": "code",
   "execution_count": 10,
   "id": "6f5c9173",
   "metadata": {},
   "outputs": [
    {
     "data": {
      "text/html": [
       "<div>\n",
       "<style scoped>\n",
       "    .dataframe tbody tr th:only-of-type {\n",
       "        vertical-align: middle;\n",
       "    }\n",
       "\n",
       "    .dataframe tbody tr th {\n",
       "        vertical-align: top;\n",
       "    }\n",
       "\n",
       "    .dataframe thead th {\n",
       "        text-align: right;\n",
       "    }\n",
       "</style>\n",
       "<table border=\"1\" class=\"dataframe\">\n",
       "  <thead>\n",
       "    <tr style=\"text-align: right;\">\n",
       "      <th></th>\n",
       "      <th>id</th>\n",
       "      <th>ticker</th>\n",
       "      <th>title</th>\n",
       "      <th>category</th>\n",
       "      <th>content</th>\n",
       "      <th>release_date</th>\n",
       "      <th>provider</th>\n",
       "      <th>url</th>\n",
       "      <th>article_id</th>\n",
       "      <th>release_date_year</th>\n",
       "      <th>clean_content</th>\n",
       "      <th>clean_title</th>\n",
       "    </tr>\n",
       "  </thead>\n",
       "  <tbody>\n",
       "    <tr>\n",
       "      <th>0</th>\n",
       "      <td>221515</td>\n",
       "      <td>NIO</td>\n",
       "      <td>Why Shares of Chinese Electric Car Maker NIO A...</td>\n",
       "      <td>news</td>\n",
       "      <td>What s happening\\nShares of Chinese electric c...</td>\n",
       "      <td>2020-01-15</td>\n",
       "      <td>The Motley Fool</td>\n",
       "      <td>https://invst.ly/pigqi</td>\n",
       "      <td>2060327</td>\n",
       "      <td>2020</td>\n",
       "      <td>happening share chinese electric car maker nio...</td>\n",
       "      <td>share chinese electric car maker nio flying hi...</td>\n",
       "    </tr>\n",
       "    <tr>\n",
       "      <th>1</th>\n",
       "      <td>221516</td>\n",
       "      <td>NIO</td>\n",
       "      <td>NIO only consumer gainer  Workhorse Group amon...</td>\n",
       "      <td>news</td>\n",
       "      <td>Gainers  NIO  NYSE NIO   7  \\nLosers  MGP Ingr...</td>\n",
       "      <td>2020-01-18</td>\n",
       "      <td>Seeking Alpha</td>\n",
       "      <td>https://invst.ly/pje9c</td>\n",
       "      <td>2062196</td>\n",
       "      <td>2020</td>\n",
       "      <td>gainer nio nyse nio loser mgp ingredient nasda...</td>\n",
       "      <td>nio consumer gainer workhorse group among loser</td>\n",
       "    </tr>\n",
       "    <tr>\n",
       "      <th>2</th>\n",
       "      <td>221517</td>\n",
       "      <td>NIO</td>\n",
       "      <td>NIO leads consumer gainers  Beyond Meat and Ma...</td>\n",
       "      <td>news</td>\n",
       "      <td>Gainers  NIO  NYSE NIO   14   Village Farms In...</td>\n",
       "      <td>2020-01-15</td>\n",
       "      <td>Seeking Alpha</td>\n",
       "      <td>https://invst.ly/pifmv</td>\n",
       "      <td>2060249</td>\n",
       "      <td>2020</td>\n",
       "      <td>gainer nio nyse nio village farm international...</td>\n",
       "      <td>nio lead consumer gainer beyond meat mattel am...</td>\n",
       "    </tr>\n",
       "    <tr>\n",
       "      <th>3</th>\n",
       "      <td>221518</td>\n",
       "      <td>NIO</td>\n",
       "      <td>NIO  NVAX among premarket gainers</td>\n",
       "      <td>news</td>\n",
       "      <td>Cemtrex  NASDAQ CETX   85  after FY results \\n...</td>\n",
       "      <td>2020-01-15</td>\n",
       "      <td>Seeking Alpha</td>\n",
       "      <td>https://invst.ly/picu8</td>\n",
       "      <td>2060039</td>\n",
       "      <td>2020</td>\n",
       "      <td>cemtrex nasdaq cetx fy result fluent nasdaq fl...</td>\n",
       "      <td>nio nvax among premarket gainer</td>\n",
       "    </tr>\n",
       "    <tr>\n",
       "      <th>4</th>\n",
       "      <td>221519</td>\n",
       "      <td>NIO</td>\n",
       "      <td>PLUG  NIO among premarket gainers</td>\n",
       "      <td>news</td>\n",
       "      <td>aTyr Pharma  NASDAQ LIFE   63  on Kyorin Pharm...</td>\n",
       "      <td>2020-01-06</td>\n",
       "      <td>Seeking Alpha</td>\n",
       "      <td>https://seekingalpha.com/news/3529772-plug-nio...</td>\n",
       "      <td>2053096</td>\n",
       "      <td>2020</td>\n",
       "      <td>atyr pharma nasdaq life kyorin pharma deal tow...</td>\n",
       "      <td>plug nio among premarket gainer</td>\n",
       "    </tr>\n",
       "  </tbody>\n",
       "</table>\n",
       "</div>"
      ],
      "text/plain": [
       "       id ticker                                              title category  \\\n",
       "0  221515    NIO  Why Shares of Chinese Electric Car Maker NIO A...     news   \n",
       "1  221516    NIO  NIO only consumer gainer  Workhorse Group amon...     news   \n",
       "2  221517    NIO  NIO leads consumer gainers  Beyond Meat and Ma...     news   \n",
       "3  221518    NIO                  NIO  NVAX among premarket gainers     news   \n",
       "4  221519    NIO                  PLUG  NIO among premarket gainers     news   \n",
       "\n",
       "                                             content release_date  \\\n",
       "0  What s happening\\nShares of Chinese electric c...   2020-01-15   \n",
       "1  Gainers  NIO  NYSE NIO   7  \\nLosers  MGP Ingr...   2020-01-18   \n",
       "2  Gainers  NIO  NYSE NIO   14   Village Farms In...   2020-01-15   \n",
       "3  Cemtrex  NASDAQ CETX   85  after FY results \\n...   2020-01-15   \n",
       "4  aTyr Pharma  NASDAQ LIFE   63  on Kyorin Pharm...   2020-01-06   \n",
       "\n",
       "          provider                                                url  \\\n",
       "0  The Motley Fool                             https://invst.ly/pigqi   \n",
       "1    Seeking Alpha                             https://invst.ly/pje9c   \n",
       "2    Seeking Alpha                             https://invst.ly/pifmv   \n",
       "3    Seeking Alpha                             https://invst.ly/picu8   \n",
       "4    Seeking Alpha  https://seekingalpha.com/news/3529772-plug-nio...   \n",
       "\n",
       "   article_id  release_date_year  \\\n",
       "0     2060327               2020   \n",
       "1     2062196               2020   \n",
       "2     2060249               2020   \n",
       "3     2060039               2020   \n",
       "4     2053096               2020   \n",
       "\n",
       "                                       clean_content  \\\n",
       "0  happening share chinese electric car maker nio...   \n",
       "1  gainer nio nyse nio loser mgp ingredient nasda...   \n",
       "2  gainer nio nyse nio village farm international...   \n",
       "3  cemtrex nasdaq cetx fy result fluent nasdaq fl...   \n",
       "4  atyr pharma nasdaq life kyorin pharma deal tow...   \n",
       "\n",
       "                                         clean_title  \n",
       "0  share chinese electric car maker nio flying hi...  \n",
       "1    nio consumer gainer workhorse group among loser  \n",
       "2  nio lead consumer gainer beyond meat mattel am...  \n",
       "3                    nio nvax among premarket gainer  \n",
       "4                    plug nio among premarket gainer  "
      ]
     },
     "execution_count": 10,
     "metadata": {},
     "output_type": "execute_result"
    }
   ],
   "source": [
    "df.head()"
   ]
  },
  {
   "cell_type": "code",
   "execution_count": 11,
   "id": "cb657814",
   "metadata": {},
   "outputs": [
    {
     "data": {
      "text/plain": [
       "opinion    125928\n",
       "news        95573\n",
       "Name: category, dtype: int64"
      ]
     },
     "execution_count": 11,
     "metadata": {},
     "output_type": "execute_result"
    }
   ],
   "source": [
    "df.category.value_counts()"
   ]
  },
  {
   "cell_type": "code",
   "execution_count": null,
   "id": "cabeacfe",
   "metadata": {},
   "outputs": [],
   "source": []
  }
 ],
 "metadata": {
  "kernelspec": {
   "display_name": "Python 3 (ipykernel)",
   "language": "python",
   "name": "python3"
  },
  "language_info": {
   "codemirror_mode": {
    "name": "ipython",
    "version": 3
   },
   "file_extension": ".py",
   "mimetype": "text/x-python",
   "name": "python",
   "nbconvert_exporter": "python",
   "pygments_lexer": "ipython3",
   "version": "3.9.12"
  }
 },
 "nbformat": 4,
 "nbformat_minor": 5
}
